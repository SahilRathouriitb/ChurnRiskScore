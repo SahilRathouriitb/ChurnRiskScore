{
 "cells": [
  {
   "cell_type": "markdown",
   "id": "c1a54975-c3cd-45e5-a611-977b63eb1577",
   "metadata": {
    "id": "c1a54975-c3cd-45e5-a611-977b63eb1577"
   },
   "source": [
    "# CLASSIFICATION PROJECT - CHURN RISK SCORE"
   ]
  },
  {
   "cell_type": "code",
   "execution_count": 1,
   "id": "ed1a5320-0dd9-495b-aae4-cb312466fd26",
   "metadata": {
    "id": "ed1a5320-0dd9-495b-aae4-cb312466fd26"
   },
   "outputs": [],
   "source": [
    "# SO WE ARE GOING TO WORK ON CHURN RISK SCORE"
   ]
  },
  {
   "cell_type": "code",
   "execution_count": 2,
   "id": "86bfe71b-7b3d-4a20-b9f8-d5fdbac83a1c",
   "metadata": {
    "id": "86bfe71b-7b3d-4a20-b9f8-d5fdbac83a1c"
   },
   "outputs": [],
   "source": [
    "import pandas as pd\n",
    "import numpy as np\n",
    "import seaborn as sns\n",
    "import matplotlib.pyplot as plt"
   ]
  },
  {
   "cell_type": "code",
   "execution_count": 3,
   "id": "804a29a1-dac7-4876-b514-033e47d6fbde",
   "metadata": {
    "id": "804a29a1-dac7-4876-b514-033e47d6fbde"
   },
   "outputs": [],
   "source": [
    "df=pd.read_csv('C:\\\\Users\\\\DELL\\\\Desktop\\\\CHURN RATE\\\\Data set\\\\train.csv',parse_dates=['joining_date'])"
   ]
  },
  {
   "cell_type": "code",
   "execution_count": 4,
   "id": "eddb3519-c233-4b5e-bb1d-d080b154bcda",
   "metadata": {
    "colab": {
     "base_uri": "https://localhost:8080/",
     "height": 377
    },
    "id": "eddb3519-c233-4b5e-bb1d-d080b154bcda",
    "outputId": "53e5a1f5-6a07-4b7c-ea24-f1b8ea114aad"
   },
   "outputs": [
    {
     "data": {
      "text/html": [
       "<div>\n",
       "<style scoped>\n",
       "    .dataframe tbody tr th:only-of-type {\n",
       "        vertical-align: middle;\n",
       "    }\n",
       "\n",
       "    .dataframe tbody tr th {\n",
       "        vertical-align: top;\n",
       "    }\n",
       "\n",
       "    .dataframe thead th {\n",
       "        text-align: right;\n",
       "    }\n",
       "</style>\n",
       "<table border=\"1\" class=\"dataframe\">\n",
       "  <thead>\n",
       "    <tr style=\"text-align: right;\">\n",
       "      <th></th>\n",
       "      <th>customer_id</th>\n",
       "      <th>Name</th>\n",
       "      <th>age</th>\n",
       "      <th>gender</th>\n",
       "      <th>security_no</th>\n",
       "      <th>region_category</th>\n",
       "      <th>membership_category</th>\n",
       "      <th>joining_date</th>\n",
       "      <th>joined_through_referral</th>\n",
       "      <th>referral_id</th>\n",
       "      <th>...</th>\n",
       "      <th>avg_time_spent</th>\n",
       "      <th>avg_transaction_value</th>\n",
       "      <th>avg_frequency_login_days</th>\n",
       "      <th>points_in_wallet</th>\n",
       "      <th>used_special_discount</th>\n",
       "      <th>offer_application_preference</th>\n",
       "      <th>past_complaint</th>\n",
       "      <th>complaint_status</th>\n",
       "      <th>feedback</th>\n",
       "      <th>churn_risk_score</th>\n",
       "    </tr>\n",
       "  </thead>\n",
       "  <tbody>\n",
       "    <tr>\n",
       "      <th>0</th>\n",
       "      <td>fffe4300490044003600300030003800</td>\n",
       "      <td>Pattie Morrisey</td>\n",
       "      <td>18</td>\n",
       "      <td>F</td>\n",
       "      <td>XW0DQ7H</td>\n",
       "      <td>Village</td>\n",
       "      <td>Platinum Membership</td>\n",
       "      <td>2017-08-17</td>\n",
       "      <td>No</td>\n",
       "      <td>xxxxxxxx</td>\n",
       "      <td>...</td>\n",
       "      <td>300.63</td>\n",
       "      <td>53005.25</td>\n",
       "      <td>17.0</td>\n",
       "      <td>781.75</td>\n",
       "      <td>Yes</td>\n",
       "      <td>Yes</td>\n",
       "      <td>No</td>\n",
       "      <td>Not Applicable</td>\n",
       "      <td>Products always in Stock</td>\n",
       "      <td>2</td>\n",
       "    </tr>\n",
       "    <tr>\n",
       "      <th>1</th>\n",
       "      <td>fffe43004900440032003100300035003700</td>\n",
       "      <td>Traci Peery</td>\n",
       "      <td>32</td>\n",
       "      <td>F</td>\n",
       "      <td>5K0N3X1</td>\n",
       "      <td>City</td>\n",
       "      <td>Premium Membership</td>\n",
       "      <td>2017-08-28</td>\n",
       "      <td>?</td>\n",
       "      <td>CID21329</td>\n",
       "      <td>...</td>\n",
       "      <td>306.34</td>\n",
       "      <td>12838.38</td>\n",
       "      <td>10.0</td>\n",
       "      <td>NaN</td>\n",
       "      <td>Yes</td>\n",
       "      <td>No</td>\n",
       "      <td>Yes</td>\n",
       "      <td>Solved</td>\n",
       "      <td>Quality Customer Care</td>\n",
       "      <td>1</td>\n",
       "    </tr>\n",
       "    <tr>\n",
       "      <th>2</th>\n",
       "      <td>fffe4300490044003100390032003600</td>\n",
       "      <td>Merideth Mcmeen</td>\n",
       "      <td>44</td>\n",
       "      <td>F</td>\n",
       "      <td>1F2TCL3</td>\n",
       "      <td>Town</td>\n",
       "      <td>No Membership</td>\n",
       "      <td>2016-11-11</td>\n",
       "      <td>Yes</td>\n",
       "      <td>CID12313</td>\n",
       "      <td>...</td>\n",
       "      <td>516.16</td>\n",
       "      <td>21027.00</td>\n",
       "      <td>22.0</td>\n",
       "      <td>500.69</td>\n",
       "      <td>No</td>\n",
       "      <td>Yes</td>\n",
       "      <td>Yes</td>\n",
       "      <td>Solved in Follow-up</td>\n",
       "      <td>Poor Website</td>\n",
       "      <td>5</td>\n",
       "    </tr>\n",
       "    <tr>\n",
       "      <th>3</th>\n",
       "      <td>fffe43004900440036003000330031003600</td>\n",
       "      <td>Eufemia Cardwell</td>\n",
       "      <td>37</td>\n",
       "      <td>M</td>\n",
       "      <td>VJGJ33N</td>\n",
       "      <td>City</td>\n",
       "      <td>No Membership</td>\n",
       "      <td>2016-10-29</td>\n",
       "      <td>Yes</td>\n",
       "      <td>CID3793</td>\n",
       "      <td>...</td>\n",
       "      <td>53.27</td>\n",
       "      <td>25239.56</td>\n",
       "      <td>6.0</td>\n",
       "      <td>567.66</td>\n",
       "      <td>No</td>\n",
       "      <td>Yes</td>\n",
       "      <td>Yes</td>\n",
       "      <td>Unsolved</td>\n",
       "      <td>Poor Website</td>\n",
       "      <td>5</td>\n",
       "    </tr>\n",
       "    <tr>\n",
       "      <th>4</th>\n",
       "      <td>fffe43004900440031003900350030003600</td>\n",
       "      <td>Meghan Kosak</td>\n",
       "      <td>31</td>\n",
       "      <td>F</td>\n",
       "      <td>SVZXCWB</td>\n",
       "      <td>City</td>\n",
       "      <td>No Membership</td>\n",
       "      <td>2017-09-12</td>\n",
       "      <td>No</td>\n",
       "      <td>xxxxxxxx</td>\n",
       "      <td>...</td>\n",
       "      <td>113.13</td>\n",
       "      <td>24483.66</td>\n",
       "      <td>16.0</td>\n",
       "      <td>663.06</td>\n",
       "      <td>No</td>\n",
       "      <td>Yes</td>\n",
       "      <td>Yes</td>\n",
       "      <td>Solved</td>\n",
       "      <td>Poor Website</td>\n",
       "      <td>5</td>\n",
       "    </tr>\n",
       "  </tbody>\n",
       "</table>\n",
       "<p>5 rows × 25 columns</p>\n",
       "</div>"
      ],
      "text/plain": [
       "                            customer_id              Name  age gender  \\\n",
       "0      fffe4300490044003600300030003800   Pattie Morrisey   18      F   \n",
       "1  fffe43004900440032003100300035003700       Traci Peery   32      F   \n",
       "2      fffe4300490044003100390032003600   Merideth Mcmeen   44      F   \n",
       "3  fffe43004900440036003000330031003600  Eufemia Cardwell   37      M   \n",
       "4  fffe43004900440031003900350030003600      Meghan Kosak   31      F   \n",
       "\n",
       "  security_no region_category  membership_category joining_date  \\\n",
       "0     XW0DQ7H         Village  Platinum Membership   2017-08-17   \n",
       "1     5K0N3X1            City   Premium Membership   2017-08-28   \n",
       "2     1F2TCL3            Town        No Membership   2016-11-11   \n",
       "3     VJGJ33N            City        No Membership   2016-10-29   \n",
       "4     SVZXCWB            City        No Membership   2017-09-12   \n",
       "\n",
       "  joined_through_referral referral_id  ... avg_time_spent  \\\n",
       "0                      No    xxxxxxxx  ...         300.63   \n",
       "1                       ?    CID21329  ...         306.34   \n",
       "2                     Yes    CID12313  ...         516.16   \n",
       "3                     Yes     CID3793  ...          53.27   \n",
       "4                      No    xxxxxxxx  ...         113.13   \n",
       "\n",
       "  avg_transaction_value avg_frequency_login_days points_in_wallet  \\\n",
       "0              53005.25                     17.0           781.75   \n",
       "1              12838.38                     10.0              NaN   \n",
       "2              21027.00                     22.0           500.69   \n",
       "3              25239.56                      6.0           567.66   \n",
       "4              24483.66                     16.0           663.06   \n",
       "\n",
       "   used_special_discount  offer_application_preference  past_complaint  \\\n",
       "0                    Yes                           Yes              No   \n",
       "1                    Yes                            No             Yes   \n",
       "2                     No                           Yes             Yes   \n",
       "3                     No                           Yes             Yes   \n",
       "4                     No                           Yes             Yes   \n",
       "\n",
       "      complaint_status                  feedback churn_risk_score  \n",
       "0       Not Applicable  Products always in Stock                2  \n",
       "1               Solved     Quality Customer Care                1  \n",
       "2  Solved in Follow-up              Poor Website                5  \n",
       "3             Unsolved              Poor Website                5  \n",
       "4               Solved              Poor Website                5  \n",
       "\n",
       "[5 rows x 25 columns]"
      ]
     },
     "execution_count": 4,
     "metadata": {},
     "output_type": "execute_result"
    }
   ],
   "source": [
    "df.head()"
   ]
  },
  {
   "cell_type": "code",
   "execution_count": 5,
   "id": "3e6e7215-4935-4f17-b4da-39e5f0f6fe1b",
   "metadata": {
    "colab": {
     "base_uri": "https://localhost:8080/"
    },
    "id": "3e6e7215-4935-4f17-b4da-39e5f0f6fe1b",
    "outputId": "3f5b3dc7-ee1c-4abc-c0b5-7416dff347c7"
   },
   "outputs": [
    {
     "data": {
      "text/plain": [
       "(36992, 25)"
      ]
     },
     "execution_count": 5,
     "metadata": {},
     "output_type": "execute_result"
    }
   ],
   "source": [
    "df.shape"
   ]
  },
  {
   "cell_type": "code",
   "execution_count": 6,
   "id": "bcb7286a-fd0d-4aa2-9f50-17a70b54a404",
   "metadata": {
    "colab": {
     "base_uri": "https://localhost:8080/"
    },
    "id": "bcb7286a-fd0d-4aa2-9f50-17a70b54a404",
    "outputId": "3673fcf8-6d85-4b1a-c5f5-4952b3660495"
   },
   "outputs": [
    {
     "data": {
      "text/plain": [
       "Index(['customer_id', 'Name', 'age', 'gender', 'security_no',\n",
       "       'region_category', 'membership_category', 'joining_date',\n",
       "       'joined_through_referral', 'referral_id', 'preferred_offer_types',\n",
       "       'medium_of_operation', 'internet_option', 'last_visit_time',\n",
       "       'days_since_last_login', 'avg_time_spent', 'avg_transaction_value',\n",
       "       'avg_frequency_login_days', 'points_in_wallet', 'used_special_discount',\n",
       "       'offer_application_preference', 'past_complaint', 'complaint_status',\n",
       "       'feedback', 'churn_risk_score'],\n",
       "      dtype='object')"
      ]
     },
     "execution_count": 6,
     "metadata": {},
     "output_type": "execute_result"
    }
   ],
   "source": [
    "df.columns"
   ]
  },
  {
   "cell_type": "code",
   "execution_count": 7,
   "id": "bdbcb8ec-96ef-4157-a531-42ee85389bbb",
   "metadata": {
    "colab": {
     "base_uri": "https://localhost:8080/"
    },
    "id": "bdbcb8ec-96ef-4157-a531-42ee85389bbb",
    "outputId": "3d130938-ea5b-42ff-e5c5-29710457539e"
   },
   "outputs": [
    {
     "data": {
      "text/plain": [
       "customer_id                        0\n",
       "Name                               0\n",
       "age                                0\n",
       "gender                             0\n",
       "security_no                        0\n",
       "region_category                 5428\n",
       "membership_category                0\n",
       "joining_date                       0\n",
       "joined_through_referral            0\n",
       "referral_id                        0\n",
       "preferred_offer_types            288\n",
       "medium_of_operation                0\n",
       "internet_option                    0\n",
       "last_visit_time                    0\n",
       "days_since_last_login              0\n",
       "avg_time_spent                     0\n",
       "avg_transaction_value              0\n",
       "avg_frequency_login_days           0\n",
       "points_in_wallet                3443\n",
       "used_special_discount              0\n",
       "offer_application_preference       0\n",
       "past_complaint                     0\n",
       "complaint_status                   0\n",
       "feedback                           0\n",
       "churn_risk_score                   0\n",
       "dtype: int64"
      ]
     },
     "execution_count": 7,
     "metadata": {},
     "output_type": "execute_result"
    }
   ],
   "source": [
    "df.isnull().sum()\n",
    "# needs imputing\n",
    "# i am not thinking of CCA , i will surely loose good amount of data otherwise"
   ]
  },
  {
   "cell_type": "code",
   "execution_count": 8,
   "id": "e2520019-cbdc-4da6-abc4-09966e76016b",
   "metadata": {
    "colab": {
     "base_uri": "https://localhost:8080/"
    },
    "id": "e2520019-cbdc-4da6-abc4-09966e76016b",
    "outputId": "b344db71-386c-4e3d-f938-a6a3662db215"
   },
   "outputs": [
    {
     "name": "stdout",
     "output_type": "stream",
     "text": [
      "<class 'pandas.core.frame.DataFrame'>\n",
      "RangeIndex: 36992 entries, 0 to 36991\n",
      "Data columns (total 25 columns):\n",
      " #   Column                        Non-Null Count  Dtype         \n",
      "---  ------                        --------------  -----         \n",
      " 0   customer_id                   36992 non-null  object        \n",
      " 1   Name                          36992 non-null  object        \n",
      " 2   age                           36992 non-null  int64         \n",
      " 3   gender                        36992 non-null  object        \n",
      " 4   security_no                   36992 non-null  object        \n",
      " 5   region_category               31564 non-null  object        \n",
      " 6   membership_category           36992 non-null  object        \n",
      " 7   joining_date                  36992 non-null  datetime64[ns]\n",
      " 8   joined_through_referral       36992 non-null  object        \n",
      " 9   referral_id                   36992 non-null  object        \n",
      " 10  preferred_offer_types         36704 non-null  object        \n",
      " 11  medium_of_operation           36992 non-null  object        \n",
      " 12  internet_option               36992 non-null  object        \n",
      " 13  last_visit_time               36992 non-null  object        \n",
      " 14  days_since_last_login         36992 non-null  int64         \n",
      " 15  avg_time_spent                36992 non-null  float64       \n",
      " 16  avg_transaction_value         36992 non-null  float64       \n",
      " 17  avg_frequency_login_days      36992 non-null  object        \n",
      " 18  points_in_wallet              33549 non-null  float64       \n",
      " 19  used_special_discount         36992 non-null  object        \n",
      " 20  offer_application_preference  36992 non-null  object        \n",
      " 21  past_complaint                36992 non-null  object        \n",
      " 22  complaint_status              36992 non-null  object        \n",
      " 23  feedback                      36992 non-null  object        \n",
      " 24  churn_risk_score              36992 non-null  int64         \n",
      "dtypes: datetime64[ns](1), float64(3), int64(3), object(18)\n",
      "memory usage: 7.1+ MB\n"
     ]
    }
   ],
   "source": [
    "df.info()\n",
    "#I can see that a lot of columns are having string values so this will require a lot of encoding"
   ]
  },
  {
   "cell_type": "code",
   "execution_count": 9,
   "id": "c80db6c9-51d5-4ce1-a3b6-edc53a1f6959",
   "metadata": {
    "colab": {
     "base_uri": "https://localhost:8080/",
     "height": 300
    },
    "id": "c80db6c9-51d5-4ce1-a3b6-edc53a1f6959",
    "outputId": "39a73aea-67e1-49b5-fa0c-8be20e6aa066"
   },
   "outputs": [
    {
     "data": {
      "text/html": [
       "<div>\n",
       "<style scoped>\n",
       "    .dataframe tbody tr th:only-of-type {\n",
       "        vertical-align: middle;\n",
       "    }\n",
       "\n",
       "    .dataframe tbody tr th {\n",
       "        vertical-align: top;\n",
       "    }\n",
       "\n",
       "    .dataframe thead th {\n",
       "        text-align: right;\n",
       "    }\n",
       "</style>\n",
       "<table border=\"1\" class=\"dataframe\">\n",
       "  <thead>\n",
       "    <tr style=\"text-align: right;\">\n",
       "      <th></th>\n",
       "      <th>age</th>\n",
       "      <th>joining_date</th>\n",
       "      <th>days_since_last_login</th>\n",
       "      <th>avg_time_spent</th>\n",
       "      <th>avg_transaction_value</th>\n",
       "      <th>points_in_wallet</th>\n",
       "      <th>churn_risk_score</th>\n",
       "    </tr>\n",
       "  </thead>\n",
       "  <tbody>\n",
       "    <tr>\n",
       "      <th>count</th>\n",
       "      <td>36992.000000</td>\n",
       "      <td>36992</td>\n",
       "      <td>36992.000000</td>\n",
       "      <td>36992.000000</td>\n",
       "      <td>36992.000000</td>\n",
       "      <td>33549.000000</td>\n",
       "      <td>36992.000000</td>\n",
       "    </tr>\n",
       "    <tr>\n",
       "      <th>mean</th>\n",
       "      <td>37.118161</td>\n",
       "      <td>2016-07-04 04:57:59.325259520</td>\n",
       "      <td>-41.915576</td>\n",
       "      <td>243.472334</td>\n",
       "      <td>29271.194003</td>\n",
       "      <td>686.882199</td>\n",
       "      <td>3.463397</td>\n",
       "    </tr>\n",
       "    <tr>\n",
       "      <th>min</th>\n",
       "      <td>10.000000</td>\n",
       "      <td>2015-01-01 00:00:00</td>\n",
       "      <td>-999.000000</td>\n",
       "      <td>-2814.109110</td>\n",
       "      <td>800.460000</td>\n",
       "      <td>-760.661236</td>\n",
       "      <td>-1.000000</td>\n",
       "    </tr>\n",
       "    <tr>\n",
       "      <th>25%</th>\n",
       "      <td>23.000000</td>\n",
       "      <td>2015-10-01 00:00:00</td>\n",
       "      <td>8.000000</td>\n",
       "      <td>60.102500</td>\n",
       "      <td>14177.540000</td>\n",
       "      <td>616.150000</td>\n",
       "      <td>3.000000</td>\n",
       "    </tr>\n",
       "    <tr>\n",
       "      <th>50%</th>\n",
       "      <td>37.000000</td>\n",
       "      <td>2016-07-05 00:00:00</td>\n",
       "      <td>12.000000</td>\n",
       "      <td>161.765000</td>\n",
       "      <td>27554.485000</td>\n",
       "      <td>697.620000</td>\n",
       "      <td>4.000000</td>\n",
       "    </tr>\n",
       "    <tr>\n",
       "      <th>75%</th>\n",
       "      <td>51.000000</td>\n",
       "      <td>2017-04-06 00:00:00</td>\n",
       "      <td>16.000000</td>\n",
       "      <td>356.515000</td>\n",
       "      <td>40855.110000</td>\n",
       "      <td>763.950000</td>\n",
       "      <td>5.000000</td>\n",
       "    </tr>\n",
       "    <tr>\n",
       "      <th>max</th>\n",
       "      <td>64.000000</td>\n",
       "      <td>2017-12-31 00:00:00</td>\n",
       "      <td>26.000000</td>\n",
       "      <td>3235.578521</td>\n",
       "      <td>99914.050000</td>\n",
       "      <td>2069.069761</td>\n",
       "      <td>5.000000</td>\n",
       "    </tr>\n",
       "    <tr>\n",
       "      <th>std</th>\n",
       "      <td>15.867412</td>\n",
       "      <td>NaN</td>\n",
       "      <td>228.819900</td>\n",
       "      <td>398.289149</td>\n",
       "      <td>19444.806226</td>\n",
       "      <td>194.063624</td>\n",
       "      <td>1.409661</td>\n",
       "    </tr>\n",
       "  </tbody>\n",
       "</table>\n",
       "</div>"
      ],
      "text/plain": [
       "                age                   joining_date  days_since_last_login  \\\n",
       "count  36992.000000                          36992           36992.000000   \n",
       "mean      37.118161  2016-07-04 04:57:59.325259520             -41.915576   \n",
       "min       10.000000            2015-01-01 00:00:00            -999.000000   \n",
       "25%       23.000000            2015-10-01 00:00:00               8.000000   \n",
       "50%       37.000000            2016-07-05 00:00:00              12.000000   \n",
       "75%       51.000000            2017-04-06 00:00:00              16.000000   \n",
       "max       64.000000            2017-12-31 00:00:00              26.000000   \n",
       "std       15.867412                            NaN             228.819900   \n",
       "\n",
       "       avg_time_spent  avg_transaction_value  points_in_wallet  \\\n",
       "count    36992.000000           36992.000000      33549.000000   \n",
       "mean       243.472334           29271.194003        686.882199   \n",
       "min      -2814.109110             800.460000       -760.661236   \n",
       "25%         60.102500           14177.540000        616.150000   \n",
       "50%        161.765000           27554.485000        697.620000   \n",
       "75%        356.515000           40855.110000        763.950000   \n",
       "max       3235.578521           99914.050000       2069.069761   \n",
       "std        398.289149           19444.806226        194.063624   \n",
       "\n",
       "       churn_risk_score  \n",
       "count      36992.000000  \n",
       "mean           3.463397  \n",
       "min           -1.000000  \n",
       "25%            3.000000  \n",
       "50%            4.000000  \n",
       "75%            5.000000  \n",
       "max            5.000000  \n",
       "std            1.409661  "
      ]
     },
     "execution_count": 9,
     "metadata": {},
     "output_type": "execute_result"
    }
   ],
   "source": [
    "df.describe()\n",
    "# Statistics of the numerical columns"
   ]
  },
  {
   "cell_type": "code",
   "execution_count": 10,
   "id": "87ed70bb-849c-4e2e-81ca-a87581c49633",
   "metadata": {
    "colab": {
     "base_uri": "https://localhost:8080/"
    },
    "id": "87ed70bb-849c-4e2e-81ca-a87581c49633",
    "outputId": "3c794566-5994-41a8-fe5c-2f9d07353b74"
   },
   "outputs": [
    {
     "data": {
      "text/plain": [
       "churn_risk_score\n",
       " 3    10424\n",
       " 4    10185\n",
       " 5     9827\n",
       " 2     2741\n",
       " 1     2652\n",
       "-1     1163\n",
       "Name: count, dtype: int64"
      ]
     },
     "execution_count": 10,
     "metadata": {},
     "output_type": "execute_result"
    }
   ],
   "source": [
    "df['churn_risk_score'].value_counts()\n",
    "# i can see that the classes are imbalanced specially risk 2 and risk 1 classes\n",
    "# thus we will have to balance these classes as well for the better working of our classification model"
   ]
  },
  {
   "cell_type": "markdown",
   "id": "53743615-860f-437b-966a-7921fe0cbb4b",
   "metadata": {
    "id": "53743615-860f-437b-966a-7921fe0cbb4b"
   },
   "source": [
    "# PREPROCESSING"
   ]
  },
  {
   "cell_type": "markdown",
   "id": "15f36cd1-af1b-428f-892d-50a05473b6bb",
   "metadata": {
    "id": "15f36cd1-af1b-428f-892d-50a05473b6bb"
   },
   "source": [
    "## DROPPING INSIGNIFICANT COLUMNS"
   ]
  },
  {
   "cell_type": "code",
   "execution_count": 11,
   "id": "806e0a3e-e186-432e-b564-ce4c919a5476",
   "metadata": {
    "id": "806e0a3e-e186-432e-b564-ce4c919a5476"
   },
   "outputs": [],
   "source": [
    "#customer_id, Name, security_no,"
   ]
  },
  {
   "cell_type": "code",
   "execution_count": 12,
   "id": "282d7063-0f3e-41c3-a7aa-f2f11b0f06d9",
   "metadata": {
    "id": "282d7063-0f3e-41c3-a7aa-f2f11b0f06d9"
   },
   "outputs": [],
   "source": [
    "df.drop(columns=['customer_id','Name','security_no','referral_id','medium_of_operation','internet_option','last_visit_time'],inplace=True)"
   ]
  },
  {
   "cell_type": "markdown",
   "id": "553b829a-8fd3-45d0-802c-7c8f0a3370e6",
   "metadata": {
    "id": "553b829a-8fd3-45d0-802c-7c8f0a3370e6"
   },
   "source": [
    "## DOES 'gender' effect the 'churn_risk_score'"
   ]
  },
  {
   "cell_type": "code",
   "execution_count": 13,
   "id": "28d464af-ca52-489a-b3cd-7e7154a7c88b",
   "metadata": {
    "colab": {
     "base_uri": "https://localhost:8080/"
    },
    "id": "28d464af-ca52-489a-b3cd-7e7154a7c88b",
    "outputId": "6f32fcab-f42f-42c5-baef-4bc7c89bb207"
   },
   "outputs": [
    {
     "data": {
      "text/plain": [
       "gender\n",
       "F          18490\n",
       "M          18443\n",
       "Unknown       59\n",
       "Name: count, dtype: int64"
      ]
     },
     "execution_count": 13,
     "metadata": {},
     "output_type": "execute_result"
    }
   ],
   "source": [
    "df['gender'].value_counts()\n",
    "# nice to see that we have almost equal number of males and almost equal number of females in the dataset"
   ]
  },
  {
   "cell_type": "code",
   "execution_count": 14,
   "id": "5cf0200c-6bb4-46b6-9eb9-c1e3d78ba524",
   "metadata": {
    "colab": {
     "base_uri": "https://localhost:8080/"
    },
    "id": "5cf0200c-6bb4-46b6-9eb9-c1e3d78ba524",
    "outputId": "b0885bc1-781f-4070-d93d-7c146ee336a7"
   },
   "outputs": [
    {
     "data": {
      "text/plain": [
       "churn_risk_score\n",
       " 3    5159\n",
       " 4    5123\n",
       " 5    4926\n",
       " 2    1351\n",
       " 1    1333\n",
       "-1     598\n",
       "Name: count, dtype: int64"
      ]
     },
     "execution_count": 14,
     "metadata": {},
     "output_type": "execute_result"
    }
   ],
   "source": [
    "df[df['gender']=='F']['churn_risk_score'].value_counts()"
   ]
  },
  {
   "cell_type": "code",
   "execution_count": 15,
   "id": "82e302b3-fc71-45fe-bc91-e512926e6ed8",
   "metadata": {
    "colab": {
     "base_uri": "https://localhost:8080/"
    },
    "id": "82e302b3-fc71-45fe-bc91-e512926e6ed8",
    "outputId": "2e84f284-1d4a-4396-da7b-b2255bdf4bf2"
   },
   "outputs": [
    {
     "data": {
      "text/plain": [
       "churn_risk_score\n",
       " 3    5245\n",
       " 4    5052\n",
       " 5    4882\n",
       " 2    1387\n",
       " 1    1315\n",
       "-1     562\n",
       "Name: count, dtype: int64"
      ]
     },
     "execution_count": 15,
     "metadata": {},
     "output_type": "execute_result"
    }
   ],
   "source": [
    "df[df['gender']=='M']['churn_risk_score'].value_counts()"
   ]
  },
  {
   "cell_type": "code",
   "execution_count": 16,
   "id": "cacebe75-2d81-4556-9be7-95ebf87a4b3a",
   "metadata": {
    "id": "cacebe75-2d81-4556-9be7-95ebf87a4b3a"
   },
   "outputs": [],
   "source": [
    "# similar comoposition , thus risk of churining is not depending on the gender"
   ]
  },
  {
   "cell_type": "markdown",
   "id": "cd93418a-cd96-4d68-8d57-1e686dbc5145",
   "metadata": {
    "id": "cd93418a-cd96-4d68-8d57-1e686dbc5145"
   },
   "source": [
    "## ANALYSING THE POSSIBLE EFFECT OF 'region_category' on 'churn_risk_score'"
   ]
  },
  {
   "cell_type": "code",
   "execution_count": 17,
   "id": "7f2f93ef-ddaa-494b-97e5-e65ff7e70035",
   "metadata": {
    "colab": {
     "base_uri": "https://localhost:8080/",
     "height": 135
    },
    "id": "7f2f93ef-ddaa-494b-97e5-e65ff7e70035",
    "outputId": "e18d9601-d75e-44cb-d872-ebc1d7546950"
   },
   "outputs": [
    {
     "data": {
      "text/html": [
       "<div>\n",
       "<style scoped>\n",
       "    .dataframe tbody tr th:only-of-type {\n",
       "        vertical-align: middle;\n",
       "    }\n",
       "\n",
       "    .dataframe tbody tr th {\n",
       "        vertical-align: top;\n",
       "    }\n",
       "\n",
       "    .dataframe thead th {\n",
       "        text-align: right;\n",
       "    }\n",
       "</style>\n",
       "<table border=\"1\" class=\"dataframe\">\n",
       "  <thead>\n",
       "    <tr style=\"text-align: right;\">\n",
       "      <th></th>\n",
       "      <th>age</th>\n",
       "      <th>gender</th>\n",
       "      <th>region_category</th>\n",
       "      <th>membership_category</th>\n",
       "      <th>joining_date</th>\n",
       "      <th>joined_through_referral</th>\n",
       "      <th>preferred_offer_types</th>\n",
       "      <th>days_since_last_login</th>\n",
       "      <th>avg_time_spent</th>\n",
       "      <th>avg_transaction_value</th>\n",
       "      <th>avg_frequency_login_days</th>\n",
       "      <th>points_in_wallet</th>\n",
       "      <th>used_special_discount</th>\n",
       "      <th>offer_application_preference</th>\n",
       "      <th>past_complaint</th>\n",
       "      <th>complaint_status</th>\n",
       "      <th>feedback</th>\n",
       "      <th>churn_risk_score</th>\n",
       "    </tr>\n",
       "  </thead>\n",
       "  <tbody>\n",
       "    <tr>\n",
       "      <th>0</th>\n",
       "      <td>18</td>\n",
       "      <td>F</td>\n",
       "      <td>Village</td>\n",
       "      <td>Platinum Membership</td>\n",
       "      <td>2017-08-17</td>\n",
       "      <td>No</td>\n",
       "      <td>Gift Vouchers/Coupons</td>\n",
       "      <td>17</td>\n",
       "      <td>300.63</td>\n",
       "      <td>53005.25</td>\n",
       "      <td>17.0</td>\n",
       "      <td>781.75</td>\n",
       "      <td>Yes</td>\n",
       "      <td>Yes</td>\n",
       "      <td>No</td>\n",
       "      <td>Not Applicable</td>\n",
       "      <td>Products always in Stock</td>\n",
       "      <td>2</td>\n",
       "    </tr>\n",
       "  </tbody>\n",
       "</table>\n",
       "</div>"
      ],
      "text/plain": [
       "   age gender region_category  membership_category joining_date  \\\n",
       "0   18      F         Village  Platinum Membership   2017-08-17   \n",
       "\n",
       "  joined_through_referral  preferred_offer_types  days_since_last_login  \\\n",
       "0                      No  Gift Vouchers/Coupons                     17   \n",
       "\n",
       "   avg_time_spent  avg_transaction_value avg_frequency_login_days  \\\n",
       "0          300.63               53005.25                     17.0   \n",
       "\n",
       "   points_in_wallet used_special_discount offer_application_preference  \\\n",
       "0            781.75                   Yes                          Yes   \n",
       "\n",
       "  past_complaint complaint_status                  feedback  churn_risk_score  \n",
       "0             No   Not Applicable  Products always in Stock                 2  "
      ]
     },
     "execution_count": 17,
     "metadata": {},
     "output_type": "execute_result"
    }
   ],
   "source": [
    "df.head(1)"
   ]
  },
  {
   "cell_type": "code",
   "execution_count": 18,
   "id": "c2edce3e-1cb5-4d80-b7e6-b0e009dc64ba",
   "metadata": {
    "colab": {
     "base_uri": "https://localhost:8080/"
    },
    "id": "c2edce3e-1cb5-4d80-b7e6-b0e009dc64ba",
    "outputId": "69e6316a-45cb-491f-a918-be1697bdd937"
   },
   "outputs": [
    {
     "data": {
      "text/plain": [
       "region_category\n",
       "Town       14128\n",
       "City       12737\n",
       "Village     4699\n",
       "Name: count, dtype: int64"
      ]
     },
     "execution_count": 18,
     "metadata": {},
     "output_type": "execute_result"
    }
   ],
   "source": [
    "df['region_category'].value_counts()"
   ]
  },
  {
   "cell_type": "code",
   "execution_count": 19,
   "id": "58b32d4a-317b-45e0-89f1-9846121b51e7",
   "metadata": {
    "colab": {
     "base_uri": "https://localhost:8080/"
    },
    "id": "58b32d4a-317b-45e0-89f1-9846121b51e7",
    "outputId": "0ecf19b1-5a8c-47de-9e57-5b746d80a8a2"
   },
   "outputs": [
    {
     "data": {
      "text/plain": [
       "30473.511647158975"
      ]
     },
     "execution_count": 19,
     "metadata": {},
     "output_type": "execute_result"
    }
   ],
   "source": [
    "df[df['region_category']=='Village']['avg_transaction_value'].mean()"
   ]
  },
  {
   "cell_type": "code",
   "execution_count": 20,
   "id": "edf613a2-8cb1-44e8-b640-c90d08e88333",
   "metadata": {
    "colab": {
     "base_uri": "https://localhost:8080/"
    },
    "id": "edf613a2-8cb1-44e8-b640-c90d08e88333",
    "outputId": "f1a33a08-bfbb-442f-d06a-040143d26fc3"
   },
   "outputs": [
    {
     "data": {
      "text/plain": [
       "29113.498926748845"
      ]
     },
     "execution_count": 20,
     "metadata": {},
     "output_type": "execute_result"
    }
   ],
   "source": [
    "df[df['region_category']=='City']['avg_transaction_value'].mean()"
   ]
  },
  {
   "cell_type": "code",
   "execution_count": 21,
   "id": "2f4ea941-1960-417a-84e7-af352f6faef5",
   "metadata": {
    "colab": {
     "base_uri": "https://localhost:8080/"
    },
    "id": "2f4ea941-1960-417a-84e7-af352f6faef5",
    "outputId": "24901aec-1488-4bda-a973-1ae9d2a2ce65"
   },
   "outputs": [
    {
     "data": {
      "text/plain": [
       "30473.511647158975"
      ]
     },
     "execution_count": 21,
     "metadata": {},
     "output_type": "execute_result"
    }
   ],
   "source": [
    "df[df['region_category']=='Village']['avg_transaction_value'].mean()"
   ]
  },
  {
   "cell_type": "code",
   "execution_count": 22,
   "id": "13a015a7-5823-48df-a8a0-61151eef20ac",
   "metadata": {
    "id": "13a015a7-5823-48df-a8a0-61151eef20ac"
   },
   "outputs": [],
   "source": [
    "# From this i can see that people of villages are spending more money at an average"
   ]
  },
  {
   "cell_type": "code",
   "execution_count": 23,
   "id": "31ba9795-dc57-4cac-874c-42e6dad16694",
   "metadata": {
    "colab": {
     "base_uri": "https://localhost:8080/"
    },
    "id": "31ba9795-dc57-4cac-874c-42e6dad16694",
    "outputId": "5ea695e4-6d60-46c6-86fa-e077b8a61e20"
   },
   "outputs": [
    {
     "data": {
      "text/plain": [
       "churn_risk_score\n",
       " 3    1243\n",
       " 4    1231\n",
       " 5    1175\n",
       " 2     462\n",
       " 1     438\n",
       "-1     150\n",
       "Name: count, dtype: int64"
      ]
     },
     "execution_count": 23,
     "metadata": {},
     "output_type": "execute_result"
    }
   ],
   "source": [
    "df[df['region_category']=='Village']['churn_risk_score'].value_counts()"
   ]
  },
  {
   "cell_type": "code",
   "execution_count": 24,
   "id": "5436953d-ace3-4e48-83ba-354dffa771f3",
   "metadata": {
    "colab": {
     "base_uri": "https://localhost:8080/"
    },
    "id": "5436953d-ace3-4e48-83ba-354dffa771f3",
    "outputId": "66546acd-5ef5-4553-da71-508fbc8780fe"
   },
   "outputs": [
    {
     "data": {
      "text/plain": [
       "churn_risk_score\n",
       " 3    3596\n",
       " 4    3547\n",
       " 5    3422\n",
       " 1     890\n",
       " 2     860\n",
       "-1     422\n",
       "Name: count, dtype: int64"
      ]
     },
     "execution_count": 24,
     "metadata": {},
     "output_type": "execute_result"
    }
   ],
   "source": [
    "df[df['region_category']=='City']['churn_risk_score'].value_counts()"
   ]
  },
  {
   "cell_type": "code",
   "execution_count": 25,
   "id": "f6399cc0-0133-40b0-8d12-3735f31b1a3e",
   "metadata": {
    "colab": {
     "base_uri": "https://localhost:8080/"
    },
    "id": "f6399cc0-0133-40b0-8d12-3735f31b1a3e",
    "outputId": "8d9cc140-804e-4244-9241-2d50ccafeced"
   },
   "outputs": [
    {
     "data": {
      "text/plain": [
       "churn_risk_score\n",
       " 3    4078\n",
       " 4    3899\n",
       " 5    3759\n",
       " 2    1017\n",
       " 1     949\n",
       "-1     426\n",
       "Name: count, dtype: int64"
      ]
     },
     "execution_count": 25,
     "metadata": {},
     "output_type": "execute_result"
    }
   ],
   "source": [
    "df[df['region_category']=='Town']['churn_risk_score'].value_counts()"
   ]
  },
  {
   "cell_type": "code",
   "execution_count": 26,
   "id": "cba292b5-d3df-4a6a-8c29-f6c2da82e561",
   "metadata": {
    "id": "cba292b5-d3df-4a6a-8c29-f6c2da82e561"
   },
   "outputs": [],
   "source": [
    "# fromt this i can conclude that the column 'region categoory' has no impact on the churn rate , since each churn rate index has the same\n",
    "# ratio of people in village town and city\n",
    "# thus i am sure that this will be ordinally encoded"
   ]
  },
  {
   "cell_type": "markdown",
   "id": "83302537-f0a6-43cd-87e4-fe28e44637d4",
   "metadata": {
    "id": "83302537-f0a6-43cd-87e4-fe28e44637d4"
   },
   "source": [
    "## ANALYSING THE POSSIBLE EFFECT OF 'membership_category' on 'churn_risk_score'"
   ]
  },
  {
   "cell_type": "code",
   "execution_count": 27,
   "id": "0890c633-f3d3-4102-abaf-033150e104f6",
   "metadata": {
    "colab": {
     "base_uri": "https://localhost:8080/"
    },
    "id": "0890c633-f3d3-4102-abaf-033150e104f6",
    "outputId": "620e13cd-3425-4c81-8c39-dd1e70bfe932"
   },
   "outputs": [
    {
     "data": {
      "text/plain": [
       "membership_category\n",
       "Basic Membership       7724\n",
       "No Membership          7692\n",
       "Gold Membership        6795\n",
       "Silver Membership      5988\n",
       "Premium Membership     4455\n",
       "Platinum Membership    4338\n",
       "Name: count, dtype: int64"
      ]
     },
     "execution_count": 27,
     "metadata": {},
     "output_type": "execute_result"
    }
   ],
   "source": [
    "df['membership_category'].value_counts()"
   ]
  },
  {
   "cell_type": "code",
   "execution_count": 28,
   "id": "5a0fb3f8-4bae-40c7-80b1-3017259f0b03",
   "metadata": {
    "colab": {
     "base_uri": "https://localhost:8080/"
    },
    "id": "5a0fb3f8-4bae-40c7-80b1-3017259f0b03",
    "outputId": "6c5f1241-3336-4107-9ad5-3f9e5d009acd"
   },
   "outputs": [
    {
     "data": {
      "text/plain": [
       "churn_risk_score\n",
       " 3    2628\n",
       " 1     899\n",
       " 2     675\n",
       "-1     136\n",
       "Name: count, dtype: int64"
      ]
     },
     "execution_count": 28,
     "metadata": {},
     "output_type": "execute_result"
    }
   ],
   "source": [
    "df[df['membership_category']=='Platinum Membership']['churn_risk_score'].value_counts()\n",
    "# we can see that platinum members are less likely to churn"
   ]
  },
  {
   "cell_type": "code",
   "execution_count": 29,
   "id": "6bf80e63-7968-4adc-9d80-f8227149bd0a",
   "metadata": {
    "colab": {
     "base_uri": "https://localhost:8080/"
    },
    "id": "6bf80e63-7968-4adc-9d80-f8227149bd0a",
    "outputId": "793b7125-c87b-4f7a-8952-b36ea63ddc57"
   },
   "outputs": [
    {
     "data": {
      "text/plain": [
       "churn_risk_score\n",
       " 3    2678\n",
       " 1     916\n",
       " 2     714\n",
       "-1     147\n",
       "Name: count, dtype: int64"
      ]
     },
     "execution_count": 29,
     "metadata": {},
     "output_type": "execute_result"
    }
   ],
   "source": [
    "df[df['membership_category']=='Premium Membership']['churn_risk_score'].value_counts()"
   ]
  },
  {
   "cell_type": "code",
   "execution_count": 30,
   "id": "3c157b04-253b-457b-a7db-7224db6e8416",
   "metadata": {
    "colab": {
     "base_uri": "https://localhost:8080/"
    },
    "id": "3c157b04-253b-457b-a7db-7224db6e8416",
    "outputId": "870a1ef4-3e44-413c-a852-21e8091d593f"
   },
   "outputs": [
    {
     "data": {
      "text/plain": [
       "churn_risk_score\n",
       " 5    4893\n",
       " 4    2580\n",
       "-1     251\n",
       "Name: count, dtype: int64"
      ]
     },
     "execution_count": 30,
     "metadata": {},
     "output_type": "execute_result"
    }
   ],
   "source": [
    "df[df['membership_category']=='Basic Membership']['churn_risk_score'].value_counts()"
   ]
  },
  {
   "cell_type": "code",
   "execution_count": 31,
   "id": "d44d1758-5cbc-4b39-8f07-021782f478be",
   "metadata": {
    "colab": {
     "base_uri": "https://localhost:8080/"
    },
    "id": "d44d1758-5cbc-4b39-8f07-021782f478be",
    "outputId": "54718255-cc68-46c8-e45c-5187f92e0df7"
   },
   "outputs": [
    {
     "data": {
      "text/plain": [
       "churn_risk_score\n",
       " 5    4934\n",
       " 4    2532\n",
       "-1     226\n",
       "Name: count, dtype: int64"
      ]
     },
     "execution_count": 31,
     "metadata": {},
     "output_type": "execute_result"
    }
   ],
   "source": [
    "df[df['membership_category']=='No Membership']['churn_risk_score'].value_counts()"
   ]
  },
  {
   "cell_type": "code",
   "execution_count": 32,
   "id": "c2fbb9f1-d90f-47f5-ace4-0ea39c0c99c3",
   "metadata": {
    "colab": {
     "base_uri": "https://localhost:8080/"
    },
    "id": "c2fbb9f1-d90f-47f5-ace4-0ea39c0c99c3",
    "outputId": "a77dd8f6-76d2-4275-a7a7-12eae3bf9bf9"
   },
   "outputs": [
    {
     "data": {
      "text/plain": [
       "churn_risk_score\n",
       " 4    2560\n",
       " 3    2528\n",
       " 2     718\n",
       "-1     182\n",
       "Name: count, dtype: int64"
      ]
     },
     "execution_count": 32,
     "metadata": {},
     "output_type": "execute_result"
    }
   ],
   "source": [
    "df[df['membership_category']=='Silver Membership']['churn_risk_score'].value_counts()"
   ]
  },
  {
   "cell_type": "code",
   "execution_count": 33,
   "id": "9dd56c64-4f28-4c89-812a-d18603b53dd3",
   "metadata": {
    "colab": {
     "base_uri": "https://localhost:8080/"
    },
    "id": "9dd56c64-4f28-4c89-812a-d18603b53dd3",
    "outputId": "12305a34-706c-4f55-8a7f-3ce666c382ef"
   },
   "outputs": [
    {
     "data": {
      "text/plain": [
       "churn_risk_score\n",
       " 3    2590\n",
       " 4    2513\n",
       " 1     837\n",
       " 2     634\n",
       "-1     221\n",
       "Name: count, dtype: int64"
      ]
     },
     "execution_count": 33,
     "metadata": {},
     "output_type": "execute_result"
    }
   ],
   "source": [
    "df[df['membership_category']=='Gold Membership']['churn_risk_score'].value_counts()"
   ]
  },
  {
   "cell_type": "markdown",
   "id": "03fb3442-75c6-4c73-a1fd-fbafee410109",
   "metadata": {
    "id": "03fb3442-75c6-4c73-a1fd-fbafee410109"
   },
   "source": [
    "### THUS IT IS CLEAR FROM HERE THAT PEOPLE WITH GOOD MEMBERSHIP ARE LESSER LIKELY TO LEAVE"
   ]
  },
  {
   "cell_type": "code",
   "execution_count": 34,
   "id": "9c673069-ed41-4cde-a6e2-a9fddaef7a6f",
   "metadata": {
    "id": "9c673069-ed41-4cde-a6e2-a9fddaef7a6f"
   },
   "outputs": [],
   "source": [
    "# Thus we will ordinally encode this particular column"
   ]
  },
  {
   "cell_type": "code",
   "execution_count": 35,
   "id": "5efe013d-65c7-4270-8319-8e07da97fbe6",
   "metadata": {
    "colab": {
     "base_uri": "https://localhost:8080/",
     "height": 202
    },
    "id": "5efe013d-65c7-4270-8319-8e07da97fbe6",
    "outputId": "6c00cdf5-2aaf-4d7c-b908-d2a64ae1e810"
   },
   "outputs": [
    {
     "data": {
      "text/html": [
       "<div>\n",
       "<style scoped>\n",
       "    .dataframe tbody tr th:only-of-type {\n",
       "        vertical-align: middle;\n",
       "    }\n",
       "\n",
       "    .dataframe tbody tr th {\n",
       "        vertical-align: top;\n",
       "    }\n",
       "\n",
       "    .dataframe thead th {\n",
       "        text-align: right;\n",
       "    }\n",
       "</style>\n",
       "<table border=\"1\" class=\"dataframe\">\n",
       "  <thead>\n",
       "    <tr style=\"text-align: right;\">\n",
       "      <th></th>\n",
       "      <th>age</th>\n",
       "      <th>gender</th>\n",
       "      <th>region_category</th>\n",
       "      <th>membership_category</th>\n",
       "      <th>joining_date</th>\n",
       "      <th>joined_through_referral</th>\n",
       "      <th>preferred_offer_types</th>\n",
       "      <th>days_since_last_login</th>\n",
       "      <th>avg_time_spent</th>\n",
       "      <th>avg_transaction_value</th>\n",
       "      <th>avg_frequency_login_days</th>\n",
       "      <th>points_in_wallet</th>\n",
       "      <th>used_special_discount</th>\n",
       "      <th>offer_application_preference</th>\n",
       "      <th>past_complaint</th>\n",
       "      <th>complaint_status</th>\n",
       "      <th>feedback</th>\n",
       "      <th>churn_risk_score</th>\n",
       "    </tr>\n",
       "  </thead>\n",
       "  <tbody>\n",
       "    <tr>\n",
       "      <th>0</th>\n",
       "      <td>18</td>\n",
       "      <td>F</td>\n",
       "      <td>Village</td>\n",
       "      <td>Platinum Membership</td>\n",
       "      <td>2017-08-17</td>\n",
       "      <td>No</td>\n",
       "      <td>Gift Vouchers/Coupons</td>\n",
       "      <td>17</td>\n",
       "      <td>300.63</td>\n",
       "      <td>53005.25</td>\n",
       "      <td>17.0</td>\n",
       "      <td>781.75</td>\n",
       "      <td>Yes</td>\n",
       "      <td>Yes</td>\n",
       "      <td>No</td>\n",
       "      <td>Not Applicable</td>\n",
       "      <td>Products always in Stock</td>\n",
       "      <td>2</td>\n",
       "    </tr>\n",
       "    <tr>\n",
       "      <th>1</th>\n",
       "      <td>32</td>\n",
       "      <td>F</td>\n",
       "      <td>City</td>\n",
       "      <td>Premium Membership</td>\n",
       "      <td>2017-08-28</td>\n",
       "      <td>?</td>\n",
       "      <td>Gift Vouchers/Coupons</td>\n",
       "      <td>16</td>\n",
       "      <td>306.34</td>\n",
       "      <td>12838.38</td>\n",
       "      <td>10.0</td>\n",
       "      <td>NaN</td>\n",
       "      <td>Yes</td>\n",
       "      <td>No</td>\n",
       "      <td>Yes</td>\n",
       "      <td>Solved</td>\n",
       "      <td>Quality Customer Care</td>\n",
       "      <td>1</td>\n",
       "    </tr>\n",
       "  </tbody>\n",
       "</table>\n",
       "</div>"
      ],
      "text/plain": [
       "   age gender region_category  membership_category joining_date  \\\n",
       "0   18      F         Village  Platinum Membership   2017-08-17   \n",
       "1   32      F            City   Premium Membership   2017-08-28   \n",
       "\n",
       "  joined_through_referral  preferred_offer_types  days_since_last_login  \\\n",
       "0                      No  Gift Vouchers/Coupons                     17   \n",
       "1                       ?  Gift Vouchers/Coupons                     16   \n",
       "\n",
       "   avg_time_spent  avg_transaction_value avg_frequency_login_days  \\\n",
       "0          300.63               53005.25                     17.0   \n",
       "1          306.34               12838.38                     10.0   \n",
       "\n",
       "   points_in_wallet used_special_discount offer_application_preference  \\\n",
       "0            781.75                   Yes                          Yes   \n",
       "1               NaN                   Yes                           No   \n",
       "\n",
       "  past_complaint complaint_status                  feedback  churn_risk_score  \n",
       "0             No   Not Applicable  Products always in Stock                 2  \n",
       "1            Yes           Solved     Quality Customer Care                 1  "
      ]
     },
     "execution_count": 35,
     "metadata": {},
     "output_type": "execute_result"
    }
   ],
   "source": [
    "df.head(2)"
   ]
  },
  {
   "cell_type": "markdown",
   "id": "838f2427-915e-40cc-aa1b-b99584b4c8c0",
   "metadata": {
    "id": "838f2427-915e-40cc-aa1b-b99584b4c8c0"
   },
   "source": [
    "## REFERRALS"
   ]
  },
  {
   "cell_type": "code",
   "execution_count": 36,
   "id": "ed7f0fc5-5f95-4a48-9da8-16c258b3df79",
   "metadata": {
    "colab": {
     "base_uri": "https://localhost:8080/"
    },
    "id": "ed7f0fc5-5f95-4a48-9da8-16c258b3df79",
    "outputId": "47956425-9c9f-4b8b-ded8-b57f3a33dbe9"
   },
   "outputs": [
    {
     "data": {
      "text/plain": [
       "joined_through_referral\n",
       "No     15839\n",
       "Yes    15715\n",
       "?       5438\n",
       "Name: count, dtype: int64"
      ]
     },
     "execution_count": 36,
     "metadata": {},
     "output_type": "execute_result"
    }
   ],
   "source": [
    "df['joined_through_referral'].value_counts()\n",
    "# so from this we can clearly see that nearly 50 percent of the people joined through referrals and 50 percent didnt join through referrals"
   ]
  },
  {
   "cell_type": "code",
   "execution_count": 37,
   "id": "03633372-905f-489d-b27b-bc2d41ee6b17",
   "metadata": {
    "colab": {
     "base_uri": "https://localhost:8080/"
    },
    "id": "03633372-905f-489d-b27b-bc2d41ee6b17",
    "outputId": "425cc716-4b28-4f0c-8f09-eac3b8e4f574"
   },
   "outputs": [
    {
     "data": {
      "text/plain": [
       "churn_risk_score\n",
       " 3    4369\n",
       " 4    4201\n",
       " 5    4062\n",
       " 1    1370\n",
       " 2    1352\n",
       "-1     485\n",
       "Name: count, dtype: int64"
      ]
     },
     "execution_count": 37,
     "metadata": {},
     "output_type": "execute_result"
    }
   ],
   "source": [
    "df[df['joined_through_referral']=='No']['churn_risk_score'].value_counts()"
   ]
  },
  {
   "cell_type": "code",
   "execution_count": 38,
   "id": "5101fc0c-0d35-4d0e-9488-96b66a221d87",
   "metadata": {
    "colab": {
     "base_uri": "https://localhost:8080/"
    },
    "id": "5101fc0c-0d35-4d0e-9488-96b66a221d87",
    "outputId": "654cf4e2-4b0e-489a-8f7a-9ba6e4b46be5"
   },
   "outputs": [
    {
     "data": {
      "text/plain": [
       "churn_risk_score\n",
       " 3    4508\n",
       " 4    4458\n",
       " 5    4305\n",
       " 2     992\n",
       " 1     920\n",
       "-1     532\n",
       "Name: count, dtype: int64"
      ]
     },
     "execution_count": 38,
     "metadata": {},
     "output_type": "execute_result"
    }
   ],
   "source": [
    "df[df['joined_through_referral']=='Yes']['churn_risk_score'].value_counts()"
   ]
  },
  {
   "cell_type": "code",
   "execution_count": 39,
   "id": "81b21024-2283-4233-9d4e-646fb9198297",
   "metadata": {
    "id": "81b21024-2283-4233-9d4e-646fb9198297"
   },
   "outputs": [],
   "source": [
    "# somewhat similar number of peole who joined directly and through referrals are likely to leave\n",
    "# so it doesnt really effect the churn risk , thus we will one hot encode this after imputing"
   ]
  },
  {
   "cell_type": "markdown",
   "id": "552a6458-8a8e-497a-b5e2-3543d27dbda9",
   "metadata": {
    "id": "552a6458-8a8e-497a-b5e2-3543d27dbda9"
   },
   "source": [
    "## Preferred OFFER types"
   ]
  },
  {
   "cell_type": "code",
   "execution_count": 40,
   "id": "e34eab5d-f637-4425-980c-696b21cdb492",
   "metadata": {
    "colab": {
     "base_uri": "https://localhost:8080/",
     "height": 135
    },
    "id": "e34eab5d-f637-4425-980c-696b21cdb492",
    "outputId": "3639510a-b2ca-42c4-c8ff-b6c10267b351"
   },
   "outputs": [
    {
     "data": {
      "text/html": [
       "<div>\n",
       "<style scoped>\n",
       "    .dataframe tbody tr th:only-of-type {\n",
       "        vertical-align: middle;\n",
       "    }\n",
       "\n",
       "    .dataframe tbody tr th {\n",
       "        vertical-align: top;\n",
       "    }\n",
       "\n",
       "    .dataframe thead th {\n",
       "        text-align: right;\n",
       "    }\n",
       "</style>\n",
       "<table border=\"1\" class=\"dataframe\">\n",
       "  <thead>\n",
       "    <tr style=\"text-align: right;\">\n",
       "      <th></th>\n",
       "      <th>age</th>\n",
       "      <th>gender</th>\n",
       "      <th>region_category</th>\n",
       "      <th>membership_category</th>\n",
       "      <th>joining_date</th>\n",
       "      <th>joined_through_referral</th>\n",
       "      <th>preferred_offer_types</th>\n",
       "      <th>days_since_last_login</th>\n",
       "      <th>avg_time_spent</th>\n",
       "      <th>avg_transaction_value</th>\n",
       "      <th>avg_frequency_login_days</th>\n",
       "      <th>points_in_wallet</th>\n",
       "      <th>used_special_discount</th>\n",
       "      <th>offer_application_preference</th>\n",
       "      <th>past_complaint</th>\n",
       "      <th>complaint_status</th>\n",
       "      <th>feedback</th>\n",
       "      <th>churn_risk_score</th>\n",
       "    </tr>\n",
       "  </thead>\n",
       "  <tbody>\n",
       "    <tr>\n",
       "      <th>0</th>\n",
       "      <td>18</td>\n",
       "      <td>F</td>\n",
       "      <td>Village</td>\n",
       "      <td>Platinum Membership</td>\n",
       "      <td>2017-08-17</td>\n",
       "      <td>No</td>\n",
       "      <td>Gift Vouchers/Coupons</td>\n",
       "      <td>17</td>\n",
       "      <td>300.63</td>\n",
       "      <td>53005.25</td>\n",
       "      <td>17.0</td>\n",
       "      <td>781.75</td>\n",
       "      <td>Yes</td>\n",
       "      <td>Yes</td>\n",
       "      <td>No</td>\n",
       "      <td>Not Applicable</td>\n",
       "      <td>Products always in Stock</td>\n",
       "      <td>2</td>\n",
       "    </tr>\n",
       "  </tbody>\n",
       "</table>\n",
       "</div>"
      ],
      "text/plain": [
       "   age gender region_category  membership_category joining_date  \\\n",
       "0   18      F         Village  Platinum Membership   2017-08-17   \n",
       "\n",
       "  joined_through_referral  preferred_offer_types  days_since_last_login  \\\n",
       "0                      No  Gift Vouchers/Coupons                     17   \n",
       "\n",
       "   avg_time_spent  avg_transaction_value avg_frequency_login_days  \\\n",
       "0          300.63               53005.25                     17.0   \n",
       "\n",
       "   points_in_wallet used_special_discount offer_application_preference  \\\n",
       "0            781.75                   Yes                          Yes   \n",
       "\n",
       "  past_complaint complaint_status                  feedback  churn_risk_score  \n",
       "0             No   Not Applicable  Products always in Stock                 2  "
      ]
     },
     "execution_count": 40,
     "metadata": {},
     "output_type": "execute_result"
    }
   ],
   "source": [
    "df.head(1)"
   ]
  },
  {
   "cell_type": "code",
   "execution_count": 41,
   "id": "40266c7a-aaae-4188-8f91-0988e4018122",
   "metadata": {
    "colab": {
     "base_uri": "https://localhost:8080/"
    },
    "id": "40266c7a-aaae-4188-8f91-0988e4018122",
    "outputId": "986769c8-48e4-4bbf-e9dd-d197c7d5f325"
   },
   "outputs": [
    {
     "data": {
      "text/plain": [
       "preferred_offer_types\n",
       "Gift Vouchers/Coupons       12349\n",
       "Credit/Debit Card Offers    12274\n",
       "Without Offers              12081\n",
       "Name: count, dtype: int64"
      ]
     },
     "execution_count": 41,
     "metadata": {},
     "output_type": "execute_result"
    }
   ],
   "source": [
    "df['preferred_offer_types'].value_counts()\n",
    "# well this looks nice , since each category has almost equal number of people\n",
    "# let us figure out if this thing impacts the churn risk or not"
   ]
  },
  {
   "cell_type": "code",
   "execution_count": 42,
   "id": "bd3c0a20-de15-44fd-9db4-8701daf78c14",
   "metadata": {
    "colab": {
     "base_uri": "https://localhost:8080/"
    },
    "id": "bd3c0a20-de15-44fd-9db4-8701daf78c14",
    "outputId": "bfcd6634-af87-49f0-993f-132070d076af"
   },
   "outputs": [
    {
     "data": {
      "text/plain": [
       "churn_risk_score\n",
       " 3    3366\n",
       " 4    3217\n",
       " 5    3152\n",
       " 1    1141\n",
       " 2    1101\n",
       "-1     372\n",
       "Name: count, dtype: int64"
      ]
     },
     "execution_count": 42,
     "metadata": {},
     "output_type": "execute_result"
    }
   ],
   "source": [
    "df[df['preferred_offer_types']=='Gift Vouchers/Coupons']['churn_risk_score'].value_counts()"
   ]
  },
  {
   "cell_type": "code",
   "execution_count": 43,
   "id": "e1b567dc-14d5-4b8c-8a24-a95f6683241a",
   "metadata": {
    "colab": {
     "base_uri": "https://localhost:8080/"
    },
    "id": "e1b567dc-14d5-4b8c-8a24-a95f6683241a",
    "outputId": "6adc9c45-c729-442d-e6f6-afd54c700245"
   },
   "outputs": [
    {
     "name": "stdout",
     "output_type": "stream",
     "text": [
      "0.7854607067936098\n"
     ]
    }
   ],
   "source": [
    "print(((3366+3217+3152)/(12394)))"
   ]
  },
  {
   "cell_type": "code",
   "execution_count": 44,
   "id": "094529bc-2e72-4a08-9856-75cd2bd5a72a",
   "metadata": {
    "colab": {
     "base_uri": "https://localhost:8080/"
    },
    "id": "094529bc-2e72-4a08-9856-75cd2bd5a72a",
    "outputId": "5a51ab13-e755-4f9b-8290-347a21a1a1c3"
   },
   "outputs": [
    {
     "data": {
      "text/plain": [
       "churn_risk_score\n",
       " 3    3389\n",
       " 4    3338\n",
       " 5    3270\n",
       " 2     997\n",
       " 1     866\n",
       "-1     414\n",
       "Name: count, dtype: int64"
      ]
     },
     "execution_count": 44,
     "metadata": {},
     "output_type": "execute_result"
    }
   ],
   "source": [
    "df[df['preferred_offer_types']=='Credit/Debit Card Offers']['churn_risk_score'].value_counts()"
   ]
  },
  {
   "cell_type": "code",
   "execution_count": 45,
   "id": "c033926c-3fad-4f2c-ad21-9d8da54b46b0",
   "metadata": {
    "colab": {
     "base_uri": "https://localhost:8080/"
    },
    "id": "c033926c-3fad-4f2c-ad21-9d8da54b46b0",
    "outputId": "36e69574-5f7d-43e7-bb90-550373995777"
   },
   "outputs": [
    {
     "name": "stdout",
     "output_type": "stream",
     "text": [
      "0.8144859051653902\n"
     ]
    }
   ],
   "source": [
    "print(((3389+3338+3270)/(12274)))"
   ]
  },
  {
   "cell_type": "code",
   "execution_count": 46,
   "id": "20ce195d-8eb3-401f-9a61-585e6ee79a64",
   "metadata": {
    "colab": {
     "base_uri": "https://localhost:8080/"
    },
    "id": "20ce195d-8eb3-401f-9a61-585e6ee79a64",
    "outputId": "2a4b3263-2e80-4668-8788-857fabd1fc32"
   },
   "outputs": [
    {
     "data": {
      "text/plain": [
       "churn_risk_score\n",
       " 3    3584\n",
       " 4    3543\n",
       " 5    3335\n",
       " 1     633\n",
       " 2     621\n",
       "-1     365\n",
       "Name: count, dtype: int64"
      ]
     },
     "execution_count": 46,
     "metadata": {},
     "output_type": "execute_result"
    }
   ],
   "source": [
    "df[df['preferred_offer_types']=='Without Offers']['churn_risk_score'].value_counts()\n",
    "# let us calculate the percentage of people with a churn risk score of >=3"
   ]
  },
  {
   "cell_type": "code",
   "execution_count": 47,
   "id": "bded9dfb-2cdf-4607-8d4a-f2662316f984",
   "metadata": {
    "colab": {
     "base_uri": "https://localhost:8080/"
    },
    "id": "bded9dfb-2cdf-4607-8d4a-f2662316f984",
    "outputId": "89f623dd-8b15-4357-9260-8e75e559ad7a"
   },
   "outputs": [
    {
     "name": "stdout",
     "output_type": "stream",
     "text": [
      "0.8659879149077063\n"
     ]
    }
   ],
   "source": [
    "print(((3584+3543+3335)/(3584+3543+3335+633+621+365)))"
   ]
  },
  {
   "cell_type": "markdown",
   "id": "0aafcd84-b3b7-492a-9e4b-9d295e531c05",
   "metadata": {
    "id": "0aafcd84-b3b7-492a-9e4b-9d295e531c05"
   },
   "source": [
    "#### I can see that in people wihtout offers have slightly higher percentage of people with churn risk score >=3"
   ]
  },
  {
   "cell_type": "markdown",
   "id": "643e965d-92ca-429f-978f-ca41c2ff0e29",
   "metadata": {
    "id": "643e965d-92ca-429f-978f-ca41c2ff0e29"
   },
   "source": [
    "## DAYS SINCE LAST LOG IN"
   ]
  },
  {
   "cell_type": "code",
   "execution_count": 48,
   "id": "defabf0f-11fd-4477-b679-cd3fdfd08f65",
   "metadata": {
    "colab": {
     "base_uri": "https://localhost:8080/",
     "height": 202
    },
    "id": "defabf0f-11fd-4477-b679-cd3fdfd08f65",
    "outputId": "ad9c2b79-1c92-4a58-854c-200a0c6c2ac6"
   },
   "outputs": [
    {
     "data": {
      "text/html": [
       "<div>\n",
       "<style scoped>\n",
       "    .dataframe tbody tr th:only-of-type {\n",
       "        vertical-align: middle;\n",
       "    }\n",
       "\n",
       "    .dataframe tbody tr th {\n",
       "        vertical-align: top;\n",
       "    }\n",
       "\n",
       "    .dataframe thead th {\n",
       "        text-align: right;\n",
       "    }\n",
       "</style>\n",
       "<table border=\"1\" class=\"dataframe\">\n",
       "  <thead>\n",
       "    <tr style=\"text-align: right;\">\n",
       "      <th></th>\n",
       "      <th>age</th>\n",
       "      <th>gender</th>\n",
       "      <th>region_category</th>\n",
       "      <th>membership_category</th>\n",
       "      <th>joining_date</th>\n",
       "      <th>joined_through_referral</th>\n",
       "      <th>preferred_offer_types</th>\n",
       "      <th>days_since_last_login</th>\n",
       "      <th>avg_time_spent</th>\n",
       "      <th>avg_transaction_value</th>\n",
       "      <th>avg_frequency_login_days</th>\n",
       "      <th>points_in_wallet</th>\n",
       "      <th>used_special_discount</th>\n",
       "      <th>offer_application_preference</th>\n",
       "      <th>past_complaint</th>\n",
       "      <th>complaint_status</th>\n",
       "      <th>feedback</th>\n",
       "      <th>churn_risk_score</th>\n",
       "    </tr>\n",
       "  </thead>\n",
       "  <tbody>\n",
       "    <tr>\n",
       "      <th>0</th>\n",
       "      <td>18</td>\n",
       "      <td>F</td>\n",
       "      <td>Village</td>\n",
       "      <td>Platinum Membership</td>\n",
       "      <td>2017-08-17</td>\n",
       "      <td>No</td>\n",
       "      <td>Gift Vouchers/Coupons</td>\n",
       "      <td>17</td>\n",
       "      <td>300.63</td>\n",
       "      <td>53005.25</td>\n",
       "      <td>17.0</td>\n",
       "      <td>781.75</td>\n",
       "      <td>Yes</td>\n",
       "      <td>Yes</td>\n",
       "      <td>No</td>\n",
       "      <td>Not Applicable</td>\n",
       "      <td>Products always in Stock</td>\n",
       "      <td>2</td>\n",
       "    </tr>\n",
       "    <tr>\n",
       "      <th>1</th>\n",
       "      <td>32</td>\n",
       "      <td>F</td>\n",
       "      <td>City</td>\n",
       "      <td>Premium Membership</td>\n",
       "      <td>2017-08-28</td>\n",
       "      <td>?</td>\n",
       "      <td>Gift Vouchers/Coupons</td>\n",
       "      <td>16</td>\n",
       "      <td>306.34</td>\n",
       "      <td>12838.38</td>\n",
       "      <td>10.0</td>\n",
       "      <td>NaN</td>\n",
       "      <td>Yes</td>\n",
       "      <td>No</td>\n",
       "      <td>Yes</td>\n",
       "      <td>Solved</td>\n",
       "      <td>Quality Customer Care</td>\n",
       "      <td>1</td>\n",
       "    </tr>\n",
       "  </tbody>\n",
       "</table>\n",
       "</div>"
      ],
      "text/plain": [
       "   age gender region_category  membership_category joining_date  \\\n",
       "0   18      F         Village  Platinum Membership   2017-08-17   \n",
       "1   32      F            City   Premium Membership   2017-08-28   \n",
       "\n",
       "  joined_through_referral  preferred_offer_types  days_since_last_login  \\\n",
       "0                      No  Gift Vouchers/Coupons                     17   \n",
       "1                       ?  Gift Vouchers/Coupons                     16   \n",
       "\n",
       "   avg_time_spent  avg_transaction_value avg_frequency_login_days  \\\n",
       "0          300.63               53005.25                     17.0   \n",
       "1          306.34               12838.38                     10.0   \n",
       "\n",
       "   points_in_wallet used_special_discount offer_application_preference  \\\n",
       "0            781.75                   Yes                          Yes   \n",
       "1               NaN                   Yes                           No   \n",
       "\n",
       "  past_complaint complaint_status                  feedback  churn_risk_score  \n",
       "0             No   Not Applicable  Products always in Stock                 2  \n",
       "1            Yes           Solved     Quality Customer Care                 1  "
      ]
     },
     "execution_count": 48,
     "metadata": {},
     "output_type": "execute_result"
    }
   ],
   "source": [
    "df.head(2)"
   ]
  },
  {
   "cell_type": "code",
   "execution_count": 49,
   "id": "14ab6244-55c8-41d6-a366-4e0a63fc0fce",
   "metadata": {
    "colab": {
     "base_uri": "https://localhost:8080/"
    },
    "id": "14ab6244-55c8-41d6-a366-4e0a63fc0fce",
    "outputId": "99b6990f-6506-4afd-e62b-05c6c6d4dda0"
   },
   "outputs": [
    {
     "data": {
      "text/plain": [
       "churn_risk_score\n",
       " 3    34\n",
       " 5    21\n",
       " 4    18\n",
       "-1     4\n",
       " 2     4\n",
       " 1     1\n",
       "Name: count, dtype: int64"
      ]
     },
     "execution_count": 49,
     "metadata": {},
     "output_type": "execute_result"
    }
   ],
   "source": [
    "df[df['days_since_last_login']==26]['churn_risk_score'].value_counts()"
   ]
  },
  {
   "cell_type": "code",
   "execution_count": 50,
   "id": "a501e7c3-8440-4300-afc0-88e906811127",
   "metadata": {
    "colab": {
     "base_uri": "https://localhost:8080/"
    },
    "id": "a501e7c3-8440-4300-afc0-88e906811127",
    "outputId": "eee848b8-2483-4aa3-f201-af821432d0d4"
   },
   "outputs": [
    {
     "name": "stdout",
     "output_type": "stream",
     "text": [
      "89.02439024390245\n"
     ]
    }
   ],
   "source": [
    "print(((34+21+18)/(34+21+18+9))*100)\n",
    "# about 90 percent people with 'days_since_last_login'==26 have a churing risk of >=3"
   ]
  },
  {
   "cell_type": "code",
   "execution_count": 51,
   "id": "0b4a60b4-82a5-41b2-8354-39839b246356",
   "metadata": {
    "colab": {
     "base_uri": "https://localhost:8080/"
    },
    "id": "0b4a60b4-82a5-41b2-8354-39839b246356",
    "outputId": "9b9dacc2-53f2-4a7e-c772-d95723a14524"
   },
   "outputs": [
    {
     "data": {
      "text/plain": [
       "churn_risk_score\n",
       " 3    649\n",
       " 4    618\n",
       " 5    612\n",
       " 2    166\n",
       " 1    163\n",
       "-1     70\n",
       "Name: count, dtype: int64"
      ]
     },
     "execution_count": 51,
     "metadata": {},
     "output_type": "execute_result"
    }
   ],
   "source": [
    "df[df['days_since_last_login']==15]['churn_risk_score'].value_counts()"
   ]
  },
  {
   "cell_type": "code",
   "execution_count": 52,
   "id": "d312c9b5-6fcd-4448-a678-3f8f33eb0f98",
   "metadata": {
    "colab": {
     "base_uri": "https://localhost:8080/"
    },
    "id": "d312c9b5-6fcd-4448-a678-3f8f33eb0f98",
    "outputId": "de8c6ae2-a117-4e5d-f23a-5fdbca5cf680"
   },
   "outputs": [
    {
     "name": "stdout",
     "output_type": "stream",
     "text": [
      "82.4846356453029\n"
     ]
    }
   ],
   "source": [
    "print(((649+618+612)/(649+618+612+166+163+70))*100)\n",
    "# about 83 percent people with 'days_since_last_login'==15 have a churing risk of >=3"
   ]
  },
  {
   "cell_type": "code",
   "execution_count": 53,
   "id": "9607e52b-10db-4acc-8bc4-c8d4f7ffa824",
   "metadata": {
    "colab": {
     "base_uri": "https://localhost:8080/"
    },
    "id": "9607e52b-10db-4acc-8bc4-c8d4f7ffa824",
    "outputId": "535aad38-f701-4988-a92d-a74e4eca3d70"
   },
   "outputs": [
    {
     "data": {
      "text/plain": [
       "churn_risk_score\n",
       " 3    1226\n",
       " 4    1216\n",
       " 5    1148\n",
       " 2     390\n",
       " 1     307\n",
       "-1     126\n",
       "Name: count, dtype: int64"
      ]
     },
     "execution_count": 53,
     "metadata": {},
     "output_type": "execute_result"
    }
   ],
   "source": [
    "df[(df['days_since_last_login']<=5) & (df['days_since_last_login'])>=1 ]['churn_risk_score'].value_counts()"
   ]
  },
  {
   "cell_type": "code",
   "execution_count": 54,
   "id": "46dd01fc-da14-4515-851e-dd26fd57f05f",
   "metadata": {
    "colab": {
     "base_uri": "https://localhost:8080/"
    },
    "id": "46dd01fc-da14-4515-851e-dd26fd57f05f",
    "outputId": "b3911b7f-f0e3-4a2d-d95a-4c47b4098311"
   },
   "outputs": [
    {
     "name": "stdout",
     "output_type": "stream",
     "text": [
      "80.49468791500664\n"
     ]
    }
   ],
   "source": [
    "print(((1664+1618+1567)/(1664+1618+1567+539+456+180))*100)"
   ]
  },
  {
   "cell_type": "code",
   "execution_count": 55,
   "id": "5c1f324c-88f6-491b-8188-49fc156ab701",
   "metadata": {
    "colab": {
     "base_uri": "https://localhost:8080/"
    },
    "id": "5c1f324c-88f6-491b-8188-49fc156ab701",
    "outputId": "42275815-50d0-4b05-fbca-8e59c6d5b0e9"
   },
   "outputs": [
    {
     "data": {
      "text/plain": [
       "churn_risk_score\n",
       " 3    3867\n",
       " 4    3758\n",
       " 5    3593\n",
       " 1     892\n",
       " 2     876\n",
       "-1     436\n",
       "Name: count, dtype: int64"
      ]
     },
     "execution_count": 55,
     "metadata": {},
     "output_type": "execute_result"
    }
   ],
   "source": [
    "df[df['days_since_last_login']>=15]['churn_risk_score'].value_counts()"
   ]
  },
  {
   "cell_type": "code",
   "execution_count": 56,
   "id": "f6e99b26-5349-45ca-8cc4-a0b03c1a6669",
   "metadata": {
    "colab": {
     "base_uri": "https://localhost:8080/"
    },
    "id": "f6e99b26-5349-45ca-8cc4-a0b03c1a6669",
    "outputId": "46a13628-5edc-45f0-e7eb-b7dc7d64e792"
   },
   "outputs": [
    {
     "name": "stdout",
     "output_type": "stream",
     "text": [
      "83.5791983310982\n"
     ]
    }
   ],
   "source": [
    "print(((3867+3758+3593)/(3867+3758+3593+892+876+436))*100)"
   ]
  },
  {
   "cell_type": "code",
   "execution_count": 57,
   "id": "61369a25-b4c8-421e-9bf5-a42650b5e5a5",
   "metadata": {
    "colab": {
     "base_uri": "https://localhost:8080/"
    },
    "id": "61369a25-b4c8-421e-9bf5-a42650b5e5a5",
    "outputId": "6aa768bd-cebd-4f80-ef43-5c2885327d91"
   },
   "outputs": [
    {
     "data": {
      "text/plain": [
       "churn_risk_score\n",
       " 3    6557\n",
       " 4    6427\n",
       " 5    6234\n",
       " 2    1865\n",
       " 1    1760\n",
       "-1     727\n",
       "Name: count, dtype: int64"
      ]
     },
     "execution_count": 57,
     "metadata": {},
     "output_type": "execute_result"
    }
   ],
   "source": [
    "df[df['days_since_last_login']<15]['churn_risk_score'].value_counts()"
   ]
  },
  {
   "cell_type": "code",
   "execution_count": 58,
   "id": "03e11006-c999-4460-9aa1-7541a7ad215e",
   "metadata": {
    "colab": {
     "base_uri": "https://localhost:8080/"
    },
    "id": "03e11006-c999-4460-9aa1-7541a7ad215e",
    "outputId": "5114c21b-f06a-4da6-aeeb-b30bbf3f1fa7"
   },
   "outputs": [
    {
     "name": "stdout",
     "output_type": "stream",
     "text": [
      "84.130805936173\n"
     ]
    }
   ],
   "source": [
    "print(((6557+6427+6234)/(6557+6427+6234+1865+1760))*100)"
   ]
  },
  {
   "cell_type": "markdown",
   "id": "0fef49cd-51ec-4024-afd8-ed3922d52f80",
   "metadata": {
    "id": "0fef49cd-51ec-4024-afd8-ed3922d52f80"
   },
   "source": [
    "#### I am unable to draw any trend over here"
   ]
  },
  {
   "cell_type": "markdown",
   "id": "2211e01e-7603-45a8-ba11-847b1b56c2f6",
   "metadata": {
    "id": "2211e01e-7603-45a8-ba11-847b1b56c2f6"
   },
   "source": [
    "## used_special_discount"
   ]
  },
  {
   "cell_type": "code",
   "execution_count": 59,
   "id": "fce21f9f-ab92-4cec-864a-0816b022102f",
   "metadata": {
    "colab": {
     "base_uri": "https://localhost:8080/"
    },
    "id": "fce21f9f-ab92-4cec-864a-0816b022102f",
    "outputId": "2f83805d-f846-4fc6-abed-6cfb9184ae5e"
   },
   "outputs": [
    {
     "data": {
      "text/plain": [
       "used_special_discount\n",
       "Yes    20342\n",
       "No     16650\n",
       "Name: count, dtype: int64"
      ]
     },
     "execution_count": 59,
     "metadata": {},
     "output_type": "execute_result"
    }
   ],
   "source": [
    "df['used_special_discount'].value_counts()"
   ]
  },
  {
   "cell_type": "code",
   "execution_count": 60,
   "id": "df88cdb5-3dbc-4c1c-8af9-c020e3da3c39",
   "metadata": {
    "colab": {
     "base_uri": "https://localhost:8080/"
    },
    "id": "df88cdb5-3dbc-4c1c-8af9-c020e3da3c39",
    "outputId": "a518ed79-23d0-47b1-83e3-3fe19d5840b3"
   },
   "outputs": [
    {
     "data": {
      "text/plain": [
       "churn_risk_score\n",
       " 3    5789\n",
       " 4    5549\n",
       " 5    5358\n",
       " 2    1543\n",
       " 1    1479\n",
       "-1     624\n",
       "Name: count, dtype: int64"
      ]
     },
     "execution_count": 60,
     "metadata": {},
     "output_type": "execute_result"
    }
   ],
   "source": [
    "df[df['used_special_discount']=='Yes']['churn_risk_score'].value_counts()\n",
    "# nearly 84 percent of the pople have a churn risk score of >=3"
   ]
  },
  {
   "cell_type": "code",
   "execution_count": 61,
   "id": "6f8be9d3-7214-4d13-b652-26951c07e8e2",
   "metadata": {
    "colab": {
     "base_uri": "https://localhost:8080/"
    },
    "id": "6f8be9d3-7214-4d13-b652-26951c07e8e2",
    "outputId": "7dfc4118-9564-4db0-ba2f-eeefe5d16acb"
   },
   "outputs": [
    {
     "data": {
      "text/plain": [
       "churn_risk_score\n",
       " 4    4636\n",
       " 3    4635\n",
       " 5    4469\n",
       " 2    1198\n",
       " 1    1173\n",
       "-1     539\n",
       "Name: count, dtype: int64"
      ]
     },
     "execution_count": 61,
     "metadata": {},
     "output_type": "execute_result"
    }
   ],
   "source": [
    "df[df['used_special_discount']=='No']['churn_risk_score'].value_counts()\n",
    "#in this case nearly 82 percent people has a churn risk score of >=3\n",
    "# thus not much differnce by 'special discount' thus i feel like i should drop this column"
   ]
  },
  {
   "cell_type": "code",
   "execution_count": 62,
   "id": "f55a4b08-71a6-4200-b1ff-f67727808e34",
   "metadata": {
    "colab": {
     "base_uri": "https://localhost:8080/",
     "height": 135
    },
    "id": "f55a4b08-71a6-4200-b1ff-f67727808e34",
    "outputId": "58e37a5b-c5ff-4616-ac5c-ff84d8396cac"
   },
   "outputs": [
    {
     "data": {
      "text/html": [
       "<div>\n",
       "<style scoped>\n",
       "    .dataframe tbody tr th:only-of-type {\n",
       "        vertical-align: middle;\n",
       "    }\n",
       "\n",
       "    .dataframe tbody tr th {\n",
       "        vertical-align: top;\n",
       "    }\n",
       "\n",
       "    .dataframe thead th {\n",
       "        text-align: right;\n",
       "    }\n",
       "</style>\n",
       "<table border=\"1\" class=\"dataframe\">\n",
       "  <thead>\n",
       "    <tr style=\"text-align: right;\">\n",
       "      <th></th>\n",
       "      <th>age</th>\n",
       "      <th>gender</th>\n",
       "      <th>region_category</th>\n",
       "      <th>membership_category</th>\n",
       "      <th>joining_date</th>\n",
       "      <th>joined_through_referral</th>\n",
       "      <th>preferred_offer_types</th>\n",
       "      <th>days_since_last_login</th>\n",
       "      <th>avg_time_spent</th>\n",
       "      <th>avg_transaction_value</th>\n",
       "      <th>avg_frequency_login_days</th>\n",
       "      <th>points_in_wallet</th>\n",
       "      <th>used_special_discount</th>\n",
       "      <th>offer_application_preference</th>\n",
       "      <th>past_complaint</th>\n",
       "      <th>complaint_status</th>\n",
       "      <th>feedback</th>\n",
       "      <th>churn_risk_score</th>\n",
       "    </tr>\n",
       "  </thead>\n",
       "  <tbody>\n",
       "    <tr>\n",
       "      <th>0</th>\n",
       "      <td>18</td>\n",
       "      <td>F</td>\n",
       "      <td>Village</td>\n",
       "      <td>Platinum Membership</td>\n",
       "      <td>2017-08-17</td>\n",
       "      <td>No</td>\n",
       "      <td>Gift Vouchers/Coupons</td>\n",
       "      <td>17</td>\n",
       "      <td>300.63</td>\n",
       "      <td>53005.25</td>\n",
       "      <td>17.0</td>\n",
       "      <td>781.75</td>\n",
       "      <td>Yes</td>\n",
       "      <td>Yes</td>\n",
       "      <td>No</td>\n",
       "      <td>Not Applicable</td>\n",
       "      <td>Products always in Stock</td>\n",
       "      <td>2</td>\n",
       "    </tr>\n",
       "  </tbody>\n",
       "</table>\n",
       "</div>"
      ],
      "text/plain": [
       "   age gender region_category  membership_category joining_date  \\\n",
       "0   18      F         Village  Platinum Membership   2017-08-17   \n",
       "\n",
       "  joined_through_referral  preferred_offer_types  days_since_last_login  \\\n",
       "0                      No  Gift Vouchers/Coupons                     17   \n",
       "\n",
       "   avg_time_spent  avg_transaction_value avg_frequency_login_days  \\\n",
       "0          300.63               53005.25                     17.0   \n",
       "\n",
       "   points_in_wallet used_special_discount offer_application_preference  \\\n",
       "0            781.75                   Yes                          Yes   \n",
       "\n",
       "  past_complaint complaint_status                  feedback  churn_risk_score  \n",
       "0             No   Not Applicable  Products always in Stock                 2  "
      ]
     },
     "execution_count": 62,
     "metadata": {},
     "output_type": "execute_result"
    }
   ],
   "source": [
    "df.head(1)"
   ]
  },
  {
   "cell_type": "code",
   "execution_count": 63,
   "id": "9c2342a7-3736-4823-b40c-3f30913467d8",
   "metadata": {
    "id": "9c2342a7-3736-4823-b40c-3f30913467d8"
   },
   "outputs": [],
   "source": [
    "df.drop(columns=['used_special_discount'],inplace=True)"
   ]
  },
  {
   "cell_type": "markdown",
   "id": "464d18bf-5828-45d4-9bf1-e8e7906829ec",
   "metadata": {
    "id": "464d18bf-5828-45d4-9bf1-e8e7906829ec"
   },
   "source": [
    "## offer_application_preference"
   ]
  },
  {
   "cell_type": "code",
   "execution_count": 64,
   "id": "cb6faa5b-7ea6-4663-ae29-65d898ebe02e",
   "metadata": {
    "colab": {
     "base_uri": "https://localhost:8080/"
    },
    "id": "cb6faa5b-7ea6-4663-ae29-65d898ebe02e",
    "outputId": "714d3e71-abfe-4344-a4f9-3e61a3c0742c"
   },
   "outputs": [
    {
     "data": {
      "text/plain": [
       "offer_application_preference\n",
       "Yes    20440\n",
       "No     16552\n",
       "Name: count, dtype: int64"
      ]
     },
     "execution_count": 64,
     "metadata": {},
     "output_type": "execute_result"
    }
   ],
   "source": [
    "df['offer_application_preference'].value_counts()"
   ]
  },
  {
   "cell_type": "code",
   "execution_count": 65,
   "id": "8b752902-4be0-413f-9c10-5679d4279972",
   "metadata": {
    "colab": {
     "base_uri": "https://localhost:8080/"
    },
    "id": "8b752902-4be0-413f-9c10-5679d4279972",
    "outputId": "4ffb1a69-452d-4795-9643-eb5fc3f8ac28"
   },
   "outputs": [
    {
     "data": {
      "text/plain": [
       "churn_risk_score\n",
       " 3    5592\n",
       " 4    5542\n",
       " 5    5344\n",
       " 2    1668\n",
       " 1    1637\n",
       "-1     657\n",
       "Name: count, dtype: int64"
      ]
     },
     "execution_count": 65,
     "metadata": {},
     "output_type": "execute_result"
    }
   ],
   "source": [
    "df[df['offer_application_preference']=='Yes']['churn_risk_score'].value_counts()"
   ]
  },
  {
   "cell_type": "code",
   "execution_count": 66,
   "id": "1a987b9c-dde1-40fd-bafd-8d392b923384",
   "metadata": {
    "colab": {
     "base_uri": "https://localhost:8080/"
    },
    "id": "1a987b9c-dde1-40fd-bafd-8d392b923384",
    "outputId": "76f631d9-fd56-429b-ad3e-2ed060aa55d0"
   },
   "outputs": [
    {
     "data": {
      "text/plain": [
       "churn_risk_score\n",
       " 3    4832\n",
       " 4    4643\n",
       " 5    4483\n",
       " 2    1073\n",
       " 1    1015\n",
       "-1     506\n",
       "Name: count, dtype: int64"
      ]
     },
     "execution_count": 66,
     "metadata": {},
     "output_type": "execute_result"
    }
   ],
   "source": [
    "df[df['offer_application_preference']=='No']['churn_risk_score'].value_counts()"
   ]
  },
  {
   "cell_type": "markdown",
   "id": "b5d6ba42-c651-4907-b5c6-e8f7e00f7725",
   "metadata": {
    "id": "b5d6ba42-c651-4907-b5c6-e8f7e00f7725"
   },
   "source": [
    "#### Nothing significant here as well"
   ]
  },
  {
   "cell_type": "code",
   "execution_count": 67,
   "id": "db18072a-121a-4924-bf0c-37a90a6f747a",
   "metadata": {
    "colab": {
     "base_uri": "https://localhost:8080/",
     "height": 135
    },
    "id": "db18072a-121a-4924-bf0c-37a90a6f747a",
    "outputId": "a4e4578b-7a58-4882-9e04-92e7f17532b7"
   },
   "outputs": [
    {
     "data": {
      "text/html": [
       "<div>\n",
       "<style scoped>\n",
       "    .dataframe tbody tr th:only-of-type {\n",
       "        vertical-align: middle;\n",
       "    }\n",
       "\n",
       "    .dataframe tbody tr th {\n",
       "        vertical-align: top;\n",
       "    }\n",
       "\n",
       "    .dataframe thead th {\n",
       "        text-align: right;\n",
       "    }\n",
       "</style>\n",
       "<table border=\"1\" class=\"dataframe\">\n",
       "  <thead>\n",
       "    <tr style=\"text-align: right;\">\n",
       "      <th></th>\n",
       "      <th>age</th>\n",
       "      <th>gender</th>\n",
       "      <th>region_category</th>\n",
       "      <th>membership_category</th>\n",
       "      <th>joining_date</th>\n",
       "      <th>joined_through_referral</th>\n",
       "      <th>preferred_offer_types</th>\n",
       "      <th>days_since_last_login</th>\n",
       "      <th>avg_time_spent</th>\n",
       "      <th>avg_transaction_value</th>\n",
       "      <th>avg_frequency_login_days</th>\n",
       "      <th>points_in_wallet</th>\n",
       "      <th>offer_application_preference</th>\n",
       "      <th>past_complaint</th>\n",
       "      <th>complaint_status</th>\n",
       "      <th>feedback</th>\n",
       "      <th>churn_risk_score</th>\n",
       "    </tr>\n",
       "  </thead>\n",
       "  <tbody>\n",
       "    <tr>\n",
       "      <th>0</th>\n",
       "      <td>18</td>\n",
       "      <td>F</td>\n",
       "      <td>Village</td>\n",
       "      <td>Platinum Membership</td>\n",
       "      <td>2017-08-17</td>\n",
       "      <td>No</td>\n",
       "      <td>Gift Vouchers/Coupons</td>\n",
       "      <td>17</td>\n",
       "      <td>300.63</td>\n",
       "      <td>53005.25</td>\n",
       "      <td>17.0</td>\n",
       "      <td>781.75</td>\n",
       "      <td>Yes</td>\n",
       "      <td>No</td>\n",
       "      <td>Not Applicable</td>\n",
       "      <td>Products always in Stock</td>\n",
       "      <td>2</td>\n",
       "    </tr>\n",
       "  </tbody>\n",
       "</table>\n",
       "</div>"
      ],
      "text/plain": [
       "   age gender region_category  membership_category joining_date  \\\n",
       "0   18      F         Village  Platinum Membership   2017-08-17   \n",
       "\n",
       "  joined_through_referral  preferred_offer_types  days_since_last_login  \\\n",
       "0                      No  Gift Vouchers/Coupons                     17   \n",
       "\n",
       "   avg_time_spent  avg_transaction_value avg_frequency_login_days  \\\n",
       "0          300.63               53005.25                     17.0   \n",
       "\n",
       "   points_in_wallet offer_application_preference past_complaint  \\\n",
       "0            781.75                          Yes             No   \n",
       "\n",
       "  complaint_status                  feedback  churn_risk_score  \n",
       "0   Not Applicable  Products always in Stock                 2  "
      ]
     },
     "execution_count": 67,
     "metadata": {},
     "output_type": "execute_result"
    }
   ],
   "source": [
    "df.head(1)"
   ]
  },
  {
   "cell_type": "code",
   "execution_count": 68,
   "id": "8a2b0581-477f-487c-a8f5-8a9dfce243f1",
   "metadata": {
    "id": "8a2b0581-477f-487c-a8f5-8a9dfce243f1"
   },
   "outputs": [],
   "source": [
    "df.drop(columns=['offer_application_preference'],inplace=True)"
   ]
  },
  {
   "cell_type": "markdown",
   "id": "1a5d66bc-415d-4ed3-9962-cb96443c9107",
   "metadata": {
    "id": "1a5d66bc-415d-4ed3-9962-cb96443c9107"
   },
   "source": [
    "## PAST COMPLAINT"
   ]
  },
  {
   "cell_type": "code",
   "execution_count": 69,
   "id": "e34d8824-9072-449d-925a-86fc0700c0c7",
   "metadata": {
    "colab": {
     "base_uri": "https://localhost:8080/"
    },
    "id": "e34d8824-9072-449d-925a-86fc0700c0c7",
    "outputId": "6ce14dd1-8d3f-4cfe-803c-b7c290c0b236"
   },
   "outputs": [
    {
     "data": {
      "text/plain": [
       "past_complaint\n",
       "No     18602\n",
       "Yes    18390\n",
       "Name: count, dtype: int64"
      ]
     },
     "execution_count": 69,
     "metadata": {},
     "output_type": "execute_result"
    }
   ],
   "source": [
    "df['past_complaint'].value_counts()"
   ]
  },
  {
   "cell_type": "code",
   "execution_count": 70,
   "id": "ba57a19c-9f0a-42e2-8ee9-b7869c9c695a",
   "metadata": {
    "colab": {
     "base_uri": "https://localhost:8080/"
    },
    "id": "ba57a19c-9f0a-42e2-8ee9-b7869c9c695a",
    "outputId": "6ffea942-2071-48a9-cf36-d568d8362890"
   },
   "outputs": [
    {
     "data": {
      "text/plain": [
       "churn_risk_score\n",
       " 3    5208\n",
       " 4    5109\n",
       " 5    4922\n",
       " 2    1311\n",
       " 1    1272\n",
       "-1     568\n",
       "Name: count, dtype: int64"
      ]
     },
     "execution_count": 70,
     "metadata": {},
     "output_type": "execute_result"
    }
   ],
   "source": [
    "df[df['past_complaint']=='Yes']['churn_risk_score'].value_counts()"
   ]
  },
  {
   "cell_type": "code",
   "execution_count": 71,
   "id": "d8025d66-85ce-4bdc-8c4a-1da2e34bb183",
   "metadata": {
    "colab": {
     "base_uri": "https://localhost:8080/"
    },
    "id": "d8025d66-85ce-4bdc-8c4a-1da2e34bb183",
    "outputId": "ca574a3b-64bb-406a-f0c4-98749dfa9d1a"
   },
   "outputs": [
    {
     "data": {
      "text/plain": [
       "churn_risk_score\n",
       " 3    5216\n",
       " 4    5076\n",
       " 5    4905\n",
       " 2    1430\n",
       " 1    1380\n",
       "-1     595\n",
       "Name: count, dtype: int64"
      ]
     },
     "execution_count": 71,
     "metadata": {},
     "output_type": "execute_result"
    }
   ],
   "source": [
    "df[df['past_complaint']=='No']['churn_risk_score'].value_counts()"
   ]
  },
  {
   "cell_type": "code",
   "execution_count": 72,
   "id": "9b7b04ee-c569-4fee-b157-dcd084d12997",
   "metadata": {
    "colab": {
     "base_uri": "https://localhost:8080/",
     "height": 467
    },
    "id": "9b7b04ee-c569-4fee-b157-dcd084d12997",
    "outputId": "9f4b46b6-59f1-49e3-fc19-b462cc24c81c"
   },
   "outputs": [
    {
     "data": {
      "text/plain": [
       "<Axes: xlabel='churn_risk_score', ylabel='count'>"
      ]
     },
     "execution_count": 72,
     "metadata": {},
     "output_type": "execute_result"
    },
    {
     "data": {
      "image/png": "[encoded data removed]",
      "text/plain": [
       "<Figure size 640x480 with 1 Axes>"
      ]
     },
     "metadata": {},
     "output_type": "display_data"
    }
   ],
   "source": [
    "sns.countplot(x=df['churn_risk_score'],hue=df['past_complaint'])"
   ]
  },
  {
   "cell_type": "markdown",
   "id": "36b997eb-0034-4931-a3cc-64310ca3b7d8",
   "metadata": {
    "id": "36b997eb-0034-4931-a3cc-64310ca3b7d8"
   },
   "source": [
    "#### past_complaint doesnt effect the churn_risk_score"
   ]
  },
  {
   "cell_type": "markdown",
   "id": "be12f5ae-ec4b-4c0c-836d-c706e5cd685c",
   "metadata": {
    "id": "be12f5ae-ec4b-4c0c-836d-c706e5cd685c"
   },
   "source": [
    "## COMPLAINT STATUS"
   ]
  },
  {
   "cell_type": "code",
   "execution_count": 73,
   "id": "1612d1d8-4774-490d-a63d-05d00a8b7260",
   "metadata": {
    "colab": {
     "base_uri": "https://localhost:8080/"
    },
    "id": "1612d1d8-4774-490d-a63d-05d00a8b7260",
    "outputId": "67c92aad-95b1-4d1a-c019-df1f3c0c56e8"
   },
   "outputs": [
    {
     "data": {
      "text/plain": [
       "complaint_status\n",
       "Not Applicable              18602\n",
       "Unsolved                     4644\n",
       "Solved                       4619\n",
       "Solved in Follow-up          4577\n",
       "No Information Available     4550\n",
       "Name: count, dtype: int64"
      ]
     },
     "execution_count": 73,
     "metadata": {},
     "output_type": "execute_result"
    }
   ],
   "source": [
    "df['complaint_status'].value_counts()"
   ]
  },
  {
   "cell_type": "code",
   "execution_count": 74,
   "id": "c45641a0-d8b3-4017-aa17-4ebd8be65adc",
   "metadata": {
    "colab": {
     "base_uri": "https://localhost:8080/"
    },
    "id": "c45641a0-d8b3-4017-aa17-4ebd8be65adc",
    "outputId": "df2beaa0-968f-4f82-f59f-fdf91c9dc16c"
   },
   "outputs": [
    {
     "data": {
      "text/plain": [
       "churn_risk_score\n",
       " 3    5216\n",
       " 4    5076\n",
       " 5    4905\n",
       " 2    1430\n",
       " 1    1380\n",
       "-1     595\n",
       "Name: count, dtype: int64"
      ]
     },
     "execution_count": 74,
     "metadata": {},
     "output_type": "execute_result"
    }
   ],
   "source": [
    "df[df['complaint_status']=='Not Applicable']['churn_risk_score'].value_counts()"
   ]
  },
  {
   "cell_type": "code",
   "execution_count": 75,
   "id": "6b861d07-cab1-4388-adfa-e8183521fd9b",
   "metadata": {
    "colab": {
     "base_uri": "https://localhost:8080/"
    },
    "id": "6b861d07-cab1-4388-adfa-e8183521fd9b",
    "outputId": "51b49bd6-c5e0-45e1-b527-5c9a4aeba96a"
   },
   "outputs": [
    {
     "data": {
      "text/plain": [
       "churn_risk_score\n",
       " 3    1285\n",
       " 4    1264\n",
       " 5    1263\n",
       " 2     338\n",
       " 1     317\n",
       "-1     152\n",
       "Name: count, dtype: int64"
      ]
     },
     "execution_count": 75,
     "metadata": {},
     "output_type": "execute_result"
    }
   ],
   "source": [
    "df[df['complaint_status']=='Solved']['churn_risk_score'].value_counts()"
   ]
  },
  {
   "cell_type": "code",
   "execution_count": 76,
   "id": "857c6083-799f-4d3a-94c4-48f8322b73b0",
   "metadata": {
    "colab": {
     "base_uri": "https://localhost:8080/"
    },
    "id": "857c6083-799f-4d3a-94c4-48f8322b73b0",
    "outputId": "6b5814b4-aba7-4cd0-dd53-9baae4ffb4ea"
   },
   "outputs": [
    {
     "data": {
      "text/plain": [
       "churn_risk_score\n",
       " 3    1329\n",
       " 4    1249\n",
       " 5    1242\n",
       " 1     341\n",
       " 2     340\n",
       "-1     143\n",
       "Name: count, dtype: int64"
      ]
     },
     "execution_count": 76,
     "metadata": {},
     "output_type": "execute_result"
    }
   ],
   "source": [
    "df[df['complaint_status']=='Unsolved']['churn_risk_score'].value_counts()"
   ]
  },
  {
   "cell_type": "code",
   "execution_count": 77,
   "id": "847b5f80-a5c2-4691-8527-0d31e95b31d5",
   "metadata": {
    "colab": {
     "base_uri": "https://localhost:8080/"
    },
    "id": "847b5f80-a5c2-4691-8527-0d31e95b31d5",
    "outputId": "36803f38-6e11-4f98-f720-9f4bc4ece9ee"
   },
   "outputs": [
    {
     "data": {
      "text/plain": [
       "churn_risk_score\n",
       " 4    1293\n",
       " 3    1273\n",
       " 5    1206\n",
       " 1     323\n",
       " 2     316\n",
       "-1     139\n",
       "Name: count, dtype: int64"
      ]
     },
     "execution_count": 77,
     "metadata": {},
     "output_type": "execute_result"
    }
   ],
   "source": [
    "df[df['complaint_status']=='No Information Available']['churn_risk_score'].value_counts()"
   ]
  },
  {
   "cell_type": "markdown",
   "id": "71bfdb4d-b4b4-44c3-93a2-857299d31e76",
   "metadata": {
    "id": "71bfdb4d-b4b4-44c3-93a2-857299d31e76"
   },
   "source": [
    "#### wth nothing here as well - I am dropping this as well"
   ]
  },
  {
   "cell_type": "code",
   "execution_count": 78,
   "id": "5b184b3a-c47b-4884-bbfa-a18112fa2759",
   "metadata": {
    "id": "5b184b3a-c47b-4884-bbfa-a18112fa2759"
   },
   "outputs": [],
   "source": [
    "df.drop(columns=['complaint_status'],inplace=True)"
   ]
  },
  {
   "cell_type": "code",
   "execution_count": 79,
   "id": "a9f1db4a-8683-4914-b713-dd9956688eb0",
   "metadata": {
    "colab": {
     "base_uri": "https://localhost:8080/",
     "height": 135
    },
    "id": "a9f1db4a-8683-4914-b713-dd9956688eb0",
    "outputId": "7d617886-7f41-4307-e26e-857e7623b7eb"
   },
   "outputs": [
    {
     "data": {
      "text/html": [
       "<div>\n",
       "<style scoped>\n",
       "    .dataframe tbody tr th:only-of-type {\n",
       "        vertical-align: middle;\n",
       "    }\n",
       "\n",
       "    .dataframe tbody tr th {\n",
       "        vertical-align: top;\n",
       "    }\n",
       "\n",
       "    .dataframe thead th {\n",
       "        text-align: right;\n",
       "    }\n",
       "</style>\n",
       "<table border=\"1\" class=\"dataframe\">\n",
       "  <thead>\n",
       "    <tr style=\"text-align: right;\">\n",
       "      <th></th>\n",
       "      <th>age</th>\n",
       "      <th>gender</th>\n",
       "      <th>region_category</th>\n",
       "      <th>membership_category</th>\n",
       "      <th>joining_date</th>\n",
       "      <th>joined_through_referral</th>\n",
       "      <th>preferred_offer_types</th>\n",
       "      <th>days_since_last_login</th>\n",
       "      <th>avg_time_spent</th>\n",
       "      <th>avg_transaction_value</th>\n",
       "      <th>avg_frequency_login_days</th>\n",
       "      <th>points_in_wallet</th>\n",
       "      <th>past_complaint</th>\n",
       "      <th>feedback</th>\n",
       "      <th>churn_risk_score</th>\n",
       "    </tr>\n",
       "  </thead>\n",
       "  <tbody>\n",
       "    <tr>\n",
       "      <th>0</th>\n",
       "      <td>18</td>\n",
       "      <td>F</td>\n",
       "      <td>Village</td>\n",
       "      <td>Platinum Membership</td>\n",
       "      <td>2017-08-17</td>\n",
       "      <td>No</td>\n",
       "      <td>Gift Vouchers/Coupons</td>\n",
       "      <td>17</td>\n",
       "      <td>300.63</td>\n",
       "      <td>53005.25</td>\n",
       "      <td>17.0</td>\n",
       "      <td>781.75</td>\n",
       "      <td>No</td>\n",
       "      <td>Products always in Stock</td>\n",
       "      <td>2</td>\n",
       "    </tr>\n",
       "  </tbody>\n",
       "</table>\n",
       "</div>"
      ],
      "text/plain": [
       "   age gender region_category  membership_category joining_date  \\\n",
       "0   18      F         Village  Platinum Membership   2017-08-17   \n",
       "\n",
       "  joined_through_referral  preferred_offer_types  days_since_last_login  \\\n",
       "0                      No  Gift Vouchers/Coupons                     17   \n",
       "\n",
       "   avg_time_spent  avg_transaction_value avg_frequency_login_days  \\\n",
       "0          300.63               53005.25                     17.0   \n",
       "\n",
       "   points_in_wallet past_complaint                  feedback  churn_risk_score  \n",
       "0            781.75             No  Products always in Stock                 2  "
      ]
     },
     "execution_count": 79,
     "metadata": {},
     "output_type": "execute_result"
    }
   ],
   "source": [
    "df.head(1)"
   ]
  },
  {
   "cell_type": "markdown",
   "id": "bfdbb079-c4f7-4930-817d-4fcd57b09ab1",
   "metadata": {
    "id": "bfdbb079-c4f7-4930-817d-4fcd57b09ab1"
   },
   "source": [
    "## FEEDBACK"
   ]
  },
  {
   "cell_type": "code",
   "execution_count": 80,
   "id": "c979aa4a-c918-43f6-9412-7629f1123f94",
   "metadata": {
    "colab": {
     "base_uri": "https://localhost:8080/",
     "height": 135
    },
    "id": "c979aa4a-c918-43f6-9412-7629f1123f94",
    "outputId": "d6b5a6c4-aa7a-440a-e117-e8357f0da9c2"
   },
   "outputs": [
    {
     "data": {
      "text/html": [
       "<div>\n",
       "<style scoped>\n",
       "    .dataframe tbody tr th:only-of-type {\n",
       "        vertical-align: middle;\n",
       "    }\n",
       "\n",
       "    .dataframe tbody tr th {\n",
       "        vertical-align: top;\n",
       "    }\n",
       "\n",
       "    .dataframe thead th {\n",
       "        text-align: right;\n",
       "    }\n",
       "</style>\n",
       "<table border=\"1\" class=\"dataframe\">\n",
       "  <thead>\n",
       "    <tr style=\"text-align: right;\">\n",
       "      <th></th>\n",
       "      <th>age</th>\n",
       "      <th>gender</th>\n",
       "      <th>region_category</th>\n",
       "      <th>membership_category</th>\n",
       "      <th>joining_date</th>\n",
       "      <th>joined_through_referral</th>\n",
       "      <th>preferred_offer_types</th>\n",
       "      <th>days_since_last_login</th>\n",
       "      <th>avg_time_spent</th>\n",
       "      <th>avg_transaction_value</th>\n",
       "      <th>avg_frequency_login_days</th>\n",
       "      <th>points_in_wallet</th>\n",
       "      <th>past_complaint</th>\n",
       "      <th>feedback</th>\n",
       "      <th>churn_risk_score</th>\n",
       "    </tr>\n",
       "  </thead>\n",
       "  <tbody>\n",
       "    <tr>\n",
       "      <th>0</th>\n",
       "      <td>18</td>\n",
       "      <td>F</td>\n",
       "      <td>Village</td>\n",
       "      <td>Platinum Membership</td>\n",
       "      <td>2017-08-17</td>\n",
       "      <td>No</td>\n",
       "      <td>Gift Vouchers/Coupons</td>\n",
       "      <td>17</td>\n",
       "      <td>300.63</td>\n",
       "      <td>53005.25</td>\n",
       "      <td>17.0</td>\n",
       "      <td>781.75</td>\n",
       "      <td>No</td>\n",
       "      <td>Products always in Stock</td>\n",
       "      <td>2</td>\n",
       "    </tr>\n",
       "  </tbody>\n",
       "</table>\n",
       "</div>"
      ],
      "text/plain": [
       "   age gender region_category  membership_category joining_date  \\\n",
       "0   18      F         Village  Platinum Membership   2017-08-17   \n",
       "\n",
       "  joined_through_referral  preferred_offer_types  days_since_last_login  \\\n",
       "0                      No  Gift Vouchers/Coupons                     17   \n",
       "\n",
       "   avg_time_spent  avg_transaction_value avg_frequency_login_days  \\\n",
       "0          300.63               53005.25                     17.0   \n",
       "\n",
       "   points_in_wallet past_complaint                  feedback  churn_risk_score  \n",
       "0            781.75             No  Products always in Stock                 2  "
      ]
     },
     "execution_count": 80,
     "metadata": {},
     "output_type": "execute_result"
    }
   ],
   "source": [
    "df.head(1)"
   ]
  },
  {
   "cell_type": "code",
   "execution_count": 81,
   "id": "0c0e9bb7-a5dd-467c-8c68-09f81e620278",
   "metadata": {
    "colab": {
     "base_uri": "https://localhost:8080/"
    },
    "id": "0c0e9bb7-a5dd-467c-8c68-09f81e620278",
    "outputId": "2d24078e-395c-4081-de5c-411d4f02a22f"
   },
   "outputs": [
    {
     "data": {
      "text/plain": [
       "feedback\n",
       "Poor Product Quality        6350\n",
       "No reason specified         6290\n",
       "Too many ads                6279\n",
       "Poor Website                6271\n",
       "Poor Customer Service       6252\n",
       "Reasonable Price            1417\n",
       "User Friendly Website       1391\n",
       "Products always in Stock    1382\n",
       "Quality Customer Care       1360\n",
       "Name: count, dtype: int64"
      ]
     },
     "execution_count": 81,
     "metadata": {},
     "output_type": "execute_result"
    }
   ],
   "source": [
    "df['feedback'].value_counts()"
   ]
  },
  {
   "cell_type": "code",
   "execution_count": 82,
   "id": "210e7a08-07e1-413c-bd5c-9292b3ea664f",
   "metadata": {
    "colab": {
     "base_uri": "https://localhost:8080/"
    },
    "id": "210e7a08-07e1-413c-bd5c-9292b3ea664f",
    "outputId": "b8dbdbe1-cf39-4a7b-db30-124c892f99f9"
   },
   "outputs": [
    {
     "data": {
      "text/plain": [
       "churn_risk_score\n",
       " 1    697\n",
       " 2    685\n",
       "-1     35\n",
       "Name: count, dtype: int64"
      ]
     },
     "execution_count": 82,
     "metadata": {},
     "output_type": "execute_result"
    }
   ],
   "source": [
    "df[df['feedback']=='Reasonable Price']['churn_risk_score'].value_counts()"
   ]
  },
  {
   "cell_type": "code",
   "execution_count": 83,
   "id": "d1273365-3aa3-4c46-9b86-446665854960",
   "metadata": {
    "colab": {
     "base_uri": "https://localhost:8080/",
     "height": 405
    },
    "id": "d1273365-3aa3-4c46-9b86-446665854960",
    "outputId": "2d63d43e-1e6d-459d-e99c-7693d4567c10"
   },
   "outputs": [
    {
     "data": {
      "text/plain": [
       "<Axes: xlabel='feedback', ylabel='count'>"
      ]
     },
     "execution_count": 83,
     "metadata": {},
     "output_type": "execute_result"
    },
    {
     "data": {
      "image/png": "[encoded data removed]",
      "text/plain": [
       "<Figure size 1400x400 with 1 Axes>"
      ]
     },
     "metadata": {},
     "output_type": "display_data"
    }
   ],
   "source": [
    "plt.figure(figsize=(14,4))\n",
    "sns.countplot(x=df['feedback'],hue=df['churn_risk_score'])"
   ]
  },
  {
   "cell_type": "code",
   "execution_count": 84,
   "id": "2ab9b418-3d8f-4a13-b166-542a678e1868",
   "metadata": {
    "id": "2ab9b418-3d8f-4a13-b166-542a678e1868"
   },
   "outputs": [],
   "source": [
    "# people with -ve feed back are having a high churn risk score"
   ]
  },
  {
   "cell_type": "markdown",
   "id": "3117c0dc-fe12-46fe-9105-96618b8a5371",
   "metadata": {
    "id": "3117c0dc-fe12-46fe-9105-96618b8a5371"
   },
   "source": [
    "#### WE ARE GOGING TO DIVIDE THE ENTRIES IN THE FEED BACK COLUMN INTO 2 CATEGORIES , 'BAD', 'GOOD'"
   ]
  },
  {
   "cell_type": "code",
   "execution_count": 85,
   "id": "67018975-1be1-497d-b654-3832136b5780",
   "metadata": {
    "id": "67018975-1be1-497d-b654-3832136b5780"
   },
   "outputs": [],
   "source": [
    "df['feedback'].replace({'Poor Product Quality':0,'No reason specified':0,'Too many ads':0,'Poor Website':0,'Poor Customer Service':0,\n",
    "                        'Reasonable Price':1,'User Friendly Website':1,'Products always in Stock':1,'Quality Customer Care':1},inplace=True)"
   ]
  },
  {
   "cell_type": "markdown",
   "id": "437381ca-5e3a-4ac9-b11f-c3fa0680d835",
   "metadata": {
    "id": "437381ca-5e3a-4ac9-b11f-c3fa0680d835",
    "jp-MarkdownHeadingCollapsed": true
   },
   "source": [
    "# HANDLING COLUMNS WITH GHOST CATEGORIES"
   ]
  },
  {
   "cell_type": "markdown",
   "id": "5ad2b479-f2d5-42bb-be7d-92159428cab1",
   "metadata": {
    "id": "5ad2b479-f2d5-42bb-be7d-92159428cab1"
   },
   "source": [
    "#### GENDER"
   ]
  },
  {
   "cell_type": "code",
   "execution_count": 86,
   "id": "6d51f141-b0c0-44ab-bf95-9111d97ec7dc",
   "metadata": {
    "colab": {
     "base_uri": "https://localhost:8080/"
    },
    "id": "6d51f141-b0c0-44ab-bf95-9111d97ec7dc",
    "outputId": "6fd0ce0f-c4fa-46e0-aeae-46b062e2bb89"
   },
   "outputs": [
    {
     "data": {
      "text/plain": [
       "gender\n",
       "F          18490\n",
       "M          18443\n",
       "Unknown       59\n",
       "Name: count, dtype: int64"
      ]
     },
     "execution_count": 86,
     "metadata": {},
     "output_type": "execute_result"
    }
   ],
   "source": [
    "df['gender'].value_counts()\n",
    "# my plan is to distribute these 59 values among both the categories"
   ]
  },
  {
   "cell_type": "code",
   "execution_count": 87,
   "id": "6a882696-a5f5-4639-8ecb-0b425fc3fd87",
   "metadata": {
    "id": "6a882696-a5f5-4639-8ecb-0b425fc3fd87"
   },
   "outputs": [],
   "source": [
    "# Calculate the number of 'Unknown' values\n",
    "num_unknowns = df['gender'].value_counts().get('Unknown', 0)\n",
    "\n",
    "# Calculate the number of 'Unknown' values to replace with 'M'\n",
    "num_replace = int(0.5 * num_unknowns)\n",
    "\n",
    "# Randomly select 'Unknown' indices to replace with 'M'\n",
    "unknown_indices = df[df['gender'] == 'Unknown'].index\n",
    "replace_indices = np.random.choice(unknown_indices, num_replace, replace=False)\n",
    "\n",
    "# Replace 'Unknown' with 'M' at the selected indices\n",
    "df.loc[replace_indices, 'gender'] = 'M'"
   ]
  },
  {
   "cell_type": "code",
   "execution_count": 88,
   "id": "5254dfd5-5d84-41b8-bd79-3b91b6106877",
   "metadata": {
    "colab": {
     "base_uri": "https://localhost:8080/"
    },
    "id": "5254dfd5-5d84-41b8-bd79-3b91b6106877",
    "outputId": "07ec9487-2fe4-49c8-ba25-c961ff32bc2b"
   },
   "outputs": [
    {
     "data": {
      "text/plain": [
       "gender\n",
       "F          18490\n",
       "M          18472\n",
       "Unknown       30\n",
       "Name: count, dtype: int64"
      ]
     },
     "execution_count": 88,
     "metadata": {},
     "output_type": "execute_result"
    }
   ],
   "source": [
    "df['gender'].value_counts()"
   ]
  },
  {
   "cell_type": "code",
   "execution_count": 89,
   "id": "76157639-55e1-40ee-af3f-dad75f190580",
   "metadata": {
    "id": "76157639-55e1-40ee-af3f-dad75f190580"
   },
   "outputs": [],
   "source": [
    "df['gender'].replace({'Unknown':'F'},inplace=True)"
   ]
  },
  {
   "cell_type": "code",
   "execution_count": 90,
   "id": "61ecb369-83eb-4163-950a-25ef9fe8faa4",
   "metadata": {
    "colab": {
     "base_uri": "https://localhost:8080/"
    },
    "id": "61ecb369-83eb-4163-950a-25ef9fe8faa4",
    "outputId": "8c120f72-1f09-4baa-e34a-47c3dd5ff367"
   },
   "outputs": [
    {
     "data": {
      "text/plain": [
       "gender\n",
       "F    18520\n",
       "M    18472\n",
       "Name: count, dtype: int64"
      ]
     },
     "execution_count": 90,
     "metadata": {},
     "output_type": "execute_result"
    }
   ],
   "source": [
    "df['gender'].value_counts()"
   ]
  },
  {
   "cell_type": "markdown",
   "id": "9aeeddcc-4786-456f-9f02-e75e5822d23e",
   "metadata": {
    "id": "9aeeddcc-4786-456f-9f02-e75e5822d23e"
   },
   "source": [
    "#### joined_through_referral"
   ]
  },
  {
   "cell_type": "code",
   "execution_count": 91,
   "id": "6747791b-60c7-49c2-b6cc-397fb7ba7fb4",
   "metadata": {
    "colab": {
     "base_uri": "https://localhost:8080/"
    },
    "id": "6747791b-60c7-49c2-b6cc-397fb7ba7fb4",
    "outputId": "c343d96b-8a24-48e3-86f7-d8b23d9f2cda"
   },
   "outputs": [
    {
     "data": {
      "text/plain": [
       "joined_through_referral\n",
       "No     15839\n",
       "Yes    15715\n",
       "?       5438\n",
       "Name: count, dtype: int64"
      ]
     },
     "execution_count": 91,
     "metadata": {},
     "output_type": "execute_result"
    }
   ],
   "source": [
    "df['joined_through_referral'].value_counts()"
   ]
  },
  {
   "cell_type": "code",
   "execution_count": 92,
   "id": "4cb8af1e-5129-4cf0-b1a0-dfe53d864148",
   "metadata": {
    "id": "4cb8af1e-5129-4cf0-b1a0-dfe53d864148"
   },
   "outputs": [],
   "source": [
    "# Calculate the number of 'Unknown' values\n",
    "num_unknowns = df['joined_through_referral'].value_counts().get('?', 0)\n",
    "\n",
    "# Calculate the number of 'Unknown' values to replace with 'M'\n",
    "num_replace = int(0.5 * num_unknowns)\n",
    "\n",
    "# Randomly select 'Unknown' indices to replace with 'M'\n",
    "unknown_indices = df[df['joined_through_referral'] == '?'].index\n",
    "replace_indices = np.random.choice(unknown_indices, num_replace, replace=False)\n",
    "\n",
    "# Replace 'Unknown' with 'M' at the selected indices\n",
    "df.loc[replace_indices, 'joined_through_referral'] = 'Yes'"
   ]
  },
  {
   "cell_type": "code",
   "execution_count": 93,
   "id": "60dc1ee4-9cca-463c-9ae7-b7666c0bfa8e",
   "metadata": {
    "id": "60dc1ee4-9cca-463c-9ae7-b7666c0bfa8e"
   },
   "outputs": [],
   "source": [
    "df['joined_through_referral'].replace({'?':'No'},inplace=True)"
   ]
  },
  {
   "cell_type": "code",
   "execution_count": 94,
   "id": "9a58381a-e758-4601-909a-df4355965b3f",
   "metadata": {
    "colab": {
     "base_uri": "https://localhost:8080/"
    },
    "id": "9a58381a-e758-4601-909a-df4355965b3f",
    "outputId": "5343bc40-dcfb-451d-d482-1172c2b84668"
   },
   "outputs": [
    {
     "data": {
      "text/plain": [
       "joined_through_referral\n",
       "No     18558\n",
       "Yes    18434\n",
       "Name: count, dtype: int64"
      ]
     },
     "execution_count": 94,
     "metadata": {},
     "output_type": "execute_result"
    }
   ],
   "source": [
    "df['joined_through_referral'].value_counts()\n",
    "# problem solved again hehe"
   ]
  },
  {
   "cell_type": "markdown",
   "id": "f3bde96c-cac5-402b-9af7-fd6d4fdcd856",
   "metadata": {
    "id": "f3bde96c-cac5-402b-9af7-fd6d4fdcd856"
   },
   "source": [
    "#### churn_risk_score"
   ]
  },
  {
   "cell_type": "code",
   "execution_count": 95,
   "id": "9a6cc41d-8572-4ad6-bbed-5d5f79fa63aa",
   "metadata": {
    "id": "9a6cc41d-8572-4ad6-bbed-5d5f79fa63aa"
   },
   "outputs": [],
   "source": [
    "df['churn_risk_score'].replace({-1:1},inplace=True)"
   ]
  },
  {
   "cell_type": "code",
   "execution_count": 96,
   "id": "0deb7da4-ab12-44f1-b5d4-e626902177fe",
   "metadata": {
    "colab": {
     "base_uri": "https://localhost:8080/"
    },
    "id": "0deb7da4-ab12-44f1-b5d4-e626902177fe",
    "outputId": "35187cb8-6f71-4a08-ce41-f76f2f2a447f"
   },
   "outputs": [
    {
     "data": {
      "text/plain": [
       "churn_risk_score\n",
       "3    10424\n",
       "4    10185\n",
       "5     9827\n",
       "1     3815\n",
       "2     2741\n",
       "Name: count, dtype: int64"
      ]
     },
     "execution_count": 96,
     "metadata": {},
     "output_type": "execute_result"
    }
   ],
   "source": [
    "df['churn_risk_score'].value_counts()"
   ]
  },
  {
   "cell_type": "code",
   "execution_count": 97,
   "id": "92525945-4735-4eeb-b067-0be95262b937",
   "metadata": {
    "id": "92525945-4735-4eeb-b067-0be95262b937"
   },
   "outputs": [],
   "source": [
    "# this is an imbalanced data set , we will balance it using SMOTE"
   ]
  },
  {
   "cell_type": "markdown",
   "id": "dfd31219-0845-4a83-95ff-30897bee1fa2",
   "metadata": {
    "id": "dfd31219-0845-4a83-95ff-30897bee1fa2"
   },
   "source": [
    "#### days_since_last_login"
   ]
  },
  {
   "cell_type": "code",
   "execution_count": 98,
   "id": "8fa93256-45f5-47c4-b8fc-791bfc3e2197",
   "metadata": {
    "colab": {
     "base_uri": "https://localhost:8080/"
    },
    "id": "8fa93256-45f5-47c4-b8fc-791bfc3e2197",
    "outputId": "33632698-d289-463d-b4dd-9d859ef3f1c9"
   },
   "outputs": [
    {
     "data": {
      "text/plain": [
       "days_since_last_login\n",
       " 12     2380\n",
       " 13     2373\n",
       " 14     2307\n",
       " 15     2278\n",
       " 11     2262\n",
       " 10     2091\n",
       " 16     2068\n",
       "-999    1999\n",
       " 9      1863\n",
       " 17     1747\n",
       " 8      1571\n",
       " 18     1444\n",
       " 7      1442\n",
       " 19     1308\n",
       " 6      1257\n",
       " 5      1234\n",
       " 20     1184\n",
       " 21     1015\n",
       " 4       998\n",
       " 22      895\n",
       " 3       852\n",
       " 23      727\n",
       " 2       613\n",
       " 24      471\n",
       " 1       328\n",
       " 25      203\n",
       " 26       82\n",
       "Name: count, dtype: int64"
      ]
     },
     "execution_count": 98,
     "metadata": {},
     "output_type": "execute_result"
    }
   ],
   "source": [
    "df['days_since_last_login'].value_counts()"
   ]
  },
  {
   "cell_type": "markdown",
   "id": "c74924f4-6e16-43ff-b159-7234678931e2",
   "metadata": {
    "id": "c74924f4-6e16-43ff-b159-7234678931e2"
   },
   "source": [
    "#### avg_frequency_login_days"
   ]
  },
  {
   "cell_type": "code",
   "execution_count": 99,
   "id": "c9b0dabe-6075-4a46-9529-07e28109287c",
   "metadata": {
    "colab": {
     "base_uri": "https://localhost:8080/"
    },
    "id": "c9b0dabe-6075-4a46-9529-07e28109287c",
    "outputId": "8eba68bd-897a-4b57-c1a8-16eddf1267f5"
   },
   "outputs": [
    {
     "data": {
      "text/plain": [
       "avg_frequency_login_days\n",
       "Error                  3522\n",
       "13.0                   1394\n",
       "19.0                   1365\n",
       "8.0                    1361\n",
       "14.0                   1355\n",
       "                       ... \n",
       "28.191570401129514        1\n",
       "41.73357294995208         1\n",
       "-11.515939810499656       1\n",
       "45.71683637272365         1\n",
       "27.8399274405269          1\n",
       "Name: count, Length: 1654, dtype: int64"
      ]
     },
     "execution_count": 99,
     "metadata": {},
     "output_type": "execute_result"
    }
   ],
   "source": [
    "df['avg_frequency_login_days'].value_counts()"
   ]
  },
  {
   "cell_type": "code",
   "execution_count": 100,
   "id": "4e6b23bd-ae0d-4b53-b94b-8982901520f6",
   "metadata": {
    "id": "4e6b23bd-ae0d-4b53-b94b-8982901520f6"
   },
   "outputs": [],
   "source": [
    "df.drop(columns=['avg_frequency_login_days'],inplace=True)"
   ]
  },
  {
   "cell_type": "markdown",
   "id": "34b0e5fd-9ad2-4a5e-8a7e-c03aa0f880c2",
   "metadata": {
    "id": "34b0e5fd-9ad2-4a5e-8a7e-c03aa0f880c2"
   },
   "source": [
    "## NOW WE HAVE EXPLORED MOST OF THE COLUMNS AND NOW WE SHOULD START IMPUTING AND ENCODING"
   ]
  },
  {
   "cell_type": "code",
   "execution_count": 101,
   "id": "5facfddb-e905-40b0-8de7-bba3682f6083",
   "metadata": {
    "colab": {
     "base_uri": "https://localhost:8080/"
    },
    "id": "5facfddb-e905-40b0-8de7-bba3682f6083",
    "outputId": "8068037d-7d6f-441f-8ff1-f9af0c099bf2"
   },
   "outputs": [
    {
     "data": {
      "text/plain": [
       "(36992, 14)"
      ]
     },
     "execution_count": 101,
     "metadata": {},
     "output_type": "execute_result"
    }
   ],
   "source": [
    "df.shape"
   ]
  },
  {
   "cell_type": "code",
   "execution_count": 102,
   "id": "6e586d5b-c540-4eeb-843f-d51668796c11",
   "metadata": {
    "colab": {
     "base_uri": "https://localhost:8080/"
    },
    "id": "6e586d5b-c540-4eeb-843f-d51668796c11",
    "outputId": "da7e1c72-d9cb-4e0b-df72-8daecadec9ba"
   },
   "outputs": [
    {
     "data": {
      "text/plain": [
       "age                           0\n",
       "gender                        0\n",
       "region_category            5428\n",
       "membership_category           0\n",
       "joining_date                  0\n",
       "joined_through_referral       0\n",
       "preferred_offer_types       288\n",
       "days_since_last_login         0\n",
       "avg_time_spent                0\n",
       "avg_transaction_value         0\n",
       "points_in_wallet           3443\n",
       "past_complaint                0\n",
       "feedback                      0\n",
       "churn_risk_score              0\n",
       "dtype: int64"
      ]
     },
     "execution_count": 102,
     "metadata": {},
     "output_type": "execute_result"
    }
   ],
   "source": [
    "df.isnull().sum()"
   ]
  },
  {
   "cell_type": "markdown",
   "id": "ace65bce-1470-4e03-8470-123cb5d1b609",
   "metadata": {
    "id": "ace65bce-1470-4e03-8470-123cb5d1b609"
   },
   "source": [
    "# IMPUTING"
   ]
  },
  {
   "cell_type": "markdown",
   "id": "200a0e19-12e7-40e2-bc0f-6d44a474cf28",
   "metadata": {
    "id": "200a0e19-12e7-40e2-bc0f-6d44a474cf28"
   },
   "source": [
    "### preferred_offer_types"
   ]
  },
  {
   "cell_type": "code",
   "execution_count": 103,
   "id": "e05fd784-c65a-4afd-98b9-9d37b60fd939",
   "metadata": {
    "colab": {
     "base_uri": "https://localhost:8080/"
    },
    "id": "e05fd784-c65a-4afd-98b9-9d37b60fd939",
    "outputId": "922b3fe4-fc0a-4584-bf25-a5de3ff8f78f"
   },
   "outputs": [
    {
     "data": {
      "text/plain": [
       "preferred_offer_types\n",
       "Gift Vouchers/Coupons       12349\n",
       "Credit/Debit Card Offers    12274\n",
       "Without Offers              12081\n",
       "Name: count, dtype: int64"
      ]
     },
     "execution_count": 103,
     "metadata": {},
     "output_type": "execute_result"
    }
   ],
   "source": [
    "df['preferred_offer_types'].value_counts()"
   ]
  },
  {
   "cell_type": "code",
   "execution_count": 104,
   "id": "9f6c5e99-d0c6-4d05-8a6c-d5fb24d0a033",
   "metadata": {
    "id": "9f6c5e99-d0c6-4d05-8a6c-d5fb24d0a033"
   },
   "outputs": [],
   "source": [
    "df.dropna(subset=['preferred_offer_types'],inplace=True)"
   ]
  },
  {
   "cell_type": "code",
   "execution_count": 105,
   "id": "e72bbf31-7633-446e-b178-e8bd24ffdc7c",
   "metadata": {
    "colab": {
     "base_uri": "https://localhost:8080/"
    },
    "id": "e72bbf31-7633-446e-b178-e8bd24ffdc7c",
    "outputId": "11aa5435-fc85-4eec-e5d6-787a20eb6131"
   },
   "outputs": [
    {
     "data": {
      "text/plain": [
       "(36704, 14)"
      ]
     },
     "execution_count": 105,
     "metadata": {},
     "output_type": "execute_result"
    }
   ],
   "source": [
    "df.shape"
   ]
  },
  {
   "cell_type": "markdown",
   "id": "3a335d29-6526-4902-95d2-93ee52aabe9d",
   "metadata": {
    "id": "3a335d29-6526-4902-95d2-93ee52aabe9d"
   },
   "source": [
    "### points_in_wallet"
   ]
  },
  {
   "cell_type": "code",
   "execution_count": 106,
   "id": "494fb3a5-5771-4857-8d0b-5e1856f1350f",
   "metadata": {
    "colab": {
     "base_uri": "https://localhost:8080/"
    },
    "id": "494fb3a5-5771-4857-8d0b-5e1856f1350f",
    "outputId": "90facb39-7967-43cb-ce59-a77259815116"
   },
   "outputs": [
    {
     "data": {
      "text/plain": [
       "count    33288.000000\n",
       "mean       686.919871\n",
       "std        193.947572\n",
       "min       -760.661236\n",
       "25%        616.075000\n",
       "50%        697.665000\n",
       "75%        763.955000\n",
       "max       2069.069761\n",
       "Name: points_in_wallet, dtype: float64"
      ]
     },
     "execution_count": 106,
     "metadata": {},
     "output_type": "execute_result"
    }
   ],
   "source": [
    "df['points_in_wallet'].describe()"
   ]
  },
  {
   "cell_type": "code",
   "execution_count": 107,
   "id": "9e01afbf-59d5-4627-9665-4da0144af5bf",
   "metadata": {
    "id": "9e01afbf-59d5-4627-9665-4da0144af5bf"
   },
   "outputs": [],
   "source": [
    "df['points_in_wallet'].fillna(686.9198,inplace=True)"
   ]
  },
  {
   "cell_type": "code",
   "execution_count": 108,
   "id": "0b553617-8d45-4e28-8620-358329215883",
   "metadata": {
    "colab": {
     "base_uri": "https://localhost:8080/"
    },
    "id": "0b553617-8d45-4e28-8620-358329215883",
    "outputId": "1c919e85-8787-4d51-f2cb-313821a1886e"
   },
   "outputs": [
    {
     "data": {
      "text/plain": [
       "age                           0\n",
       "gender                        0\n",
       "region_category            5379\n",
       "membership_category           0\n",
       "joining_date                  0\n",
       "joined_through_referral       0\n",
       "preferred_offer_types         0\n",
       "days_since_last_login         0\n",
       "avg_time_spent                0\n",
       "avg_transaction_value         0\n",
       "points_in_wallet              0\n",
       "past_complaint                0\n",
       "feedback                      0\n",
       "churn_risk_score              0\n",
       "dtype: int64"
      ]
     },
     "execution_count": 108,
     "metadata": {},
     "output_type": "execute_result"
    }
   ],
   "source": [
    "df.isnull().sum()"
   ]
  },
  {
   "cell_type": "markdown",
   "id": "ae78ad4a-043c-4b3a-ac10-a90083cd308f",
   "metadata": {
    "id": "ae78ad4a-043c-4b3a-ac10-a90083cd308f"
   },
   "source": [
    "#### region_category"
   ]
  },
  {
   "cell_type": "code",
   "execution_count": 109,
   "id": "50481045-54a0-4bc6-bebc-c0cf7f1cba11",
   "metadata": {
    "colab": {
     "base_uri": "https://localhost:8080/"
    },
    "id": "50481045-54a0-4bc6-bebc-c0cf7f1cba11",
    "outputId": "77589344-742b-44d7-ff04-137c1d83341a"
   },
   "outputs": [
    {
     "data": {
      "text/plain": [
       "region_category\n",
       "Town       14025\n",
       "City       12635\n",
       "Village     4665\n",
       "Name: count, dtype: int64"
      ]
     },
     "execution_count": 109,
     "metadata": {},
     "output_type": "execute_result"
    }
   ],
   "source": [
    "df['region_category'].value_counts()"
   ]
  },
  {
   "cell_type": "code",
   "execution_count": 110,
   "id": "eb2c3427-96cc-44df-9edf-84bf4de7e339",
   "metadata": {
    "id": "eb2c3427-96cc-44df-9edf-84bf4de7e339"
   },
   "outputs": [],
   "source": [
    "# we have NaN entries in this column\n",
    "# since the number of missing entries is more than 10 percent of the data set\n",
    "# so we will simple impute it with the keyword 'missing'\n"
   ]
  },
  {
   "cell_type": "code",
   "execution_count": 111,
   "id": "74411374-1b00-4527-8a21-fe47c6ab6e60",
   "metadata": {
    "id": "74411374-1b00-4527-8a21-fe47c6ab6e60"
   },
   "outputs": [],
   "source": [
    "df['region_category'].fillna('missing',inplace=True)"
   ]
  },
  {
   "cell_type": "code",
   "execution_count": 112,
   "id": "1d280b57-eb93-4145-8c76-1a108f0bb163",
   "metadata": {
    "colab": {
     "base_uri": "https://localhost:8080/",
     "height": 101
    },
    "id": "1d280b57-eb93-4145-8c76-1a108f0bb163",
    "outputId": "ea42ae42-3988-4198-8bc1-4886f97fb9fd"
   },
   "outputs": [
    {
     "data": {
      "text/html": [
       "<div>\n",
       "<style scoped>\n",
       "    .dataframe tbody tr th:only-of-type {\n",
       "        vertical-align: middle;\n",
       "    }\n",
       "\n",
       "    .dataframe tbody tr th {\n",
       "        vertical-align: top;\n",
       "    }\n",
       "\n",
       "    .dataframe thead th {\n",
       "        text-align: right;\n",
       "    }\n",
       "</style>\n",
       "<table border=\"1\" class=\"dataframe\">\n",
       "  <thead>\n",
       "    <tr style=\"text-align: right;\">\n",
       "      <th></th>\n",
       "      <th>age</th>\n",
       "      <th>gender</th>\n",
       "      <th>region_category</th>\n",
       "      <th>membership_category</th>\n",
       "      <th>joining_date</th>\n",
       "      <th>joined_through_referral</th>\n",
       "      <th>preferred_offer_types</th>\n",
       "      <th>days_since_last_login</th>\n",
       "      <th>avg_time_spent</th>\n",
       "      <th>avg_transaction_value</th>\n",
       "      <th>points_in_wallet</th>\n",
       "      <th>past_complaint</th>\n",
       "      <th>feedback</th>\n",
       "      <th>churn_risk_score</th>\n",
       "    </tr>\n",
       "  </thead>\n",
       "  <tbody>\n",
       "    <tr>\n",
       "      <th>0</th>\n",
       "      <td>18</td>\n",
       "      <td>F</td>\n",
       "      <td>Village</td>\n",
       "      <td>Platinum Membership</td>\n",
       "      <td>2017-08-17</td>\n",
       "      <td>No</td>\n",
       "      <td>Gift Vouchers/Coupons</td>\n",
       "      <td>17</td>\n",
       "      <td>300.63</td>\n",
       "      <td>53005.25</td>\n",
       "      <td>781.75</td>\n",
       "      <td>No</td>\n",
       "      <td>1</td>\n",
       "      <td>2</td>\n",
       "    </tr>\n",
       "  </tbody>\n",
       "</table>\n",
       "</div>"
      ],
      "text/plain": [
       "   age gender region_category  membership_category joining_date  \\\n",
       "0   18      F         Village  Platinum Membership   2017-08-17   \n",
       "\n",
       "  joined_through_referral  preferred_offer_types  days_since_last_login  \\\n",
       "0                      No  Gift Vouchers/Coupons                     17   \n",
       "\n",
       "   avg_time_spent  avg_transaction_value  points_in_wallet past_complaint  \\\n",
       "0          300.63               53005.25            781.75             No   \n",
       "\n",
       "   feedback  churn_risk_score  \n",
       "0         1                 2  "
      ]
     },
     "execution_count": 112,
     "metadata": {},
     "output_type": "execute_result"
    }
   ],
   "source": [
    "df.head(1)"
   ]
  },
  {
   "cell_type": "markdown",
   "id": "c918d6b7-cae6-4eb5-bc95-2999771f4c28",
   "metadata": {
    "id": "c918d6b7-cae6-4eb5-bc95-2999771f4c28"
   },
   "source": [
    "#### joining_date"
   ]
  },
  {
   "cell_type": "code",
   "execution_count": 113,
   "id": "0baad783-0ec7-465b-983a-3aab1cfc64c6",
   "metadata": {
    "id": "0baad783-0ec7-465b-983a-3aab1cfc64c6"
   },
   "outputs": [],
   "source": [
    "# we will extract the joining year from this data set\n",
    "df['joining_year']=df['joining_date'].dt.year"
   ]
  },
  {
   "cell_type": "code",
   "execution_count": 114,
   "id": "3ccc727f-b0bc-493a-8cfe-eb6eb5d06815",
   "metadata": {
    "id": "3ccc727f-b0bc-493a-8cfe-eb6eb5d06815"
   },
   "outputs": [],
   "source": [
    "df.drop(columns=['joining_date'],inplace=True)"
   ]
  },
  {
   "cell_type": "code",
   "execution_count": null,
   "id": "01b4bff1-2bb8-4193-8de2-e681c8a39fa7",
   "metadata": {
    "id": "01b4bff1-2bb8-4193-8de2-e681c8a39fa7"
   },
   "outputs": [],
   "source": []
  },
  {
   "cell_type": "markdown",
   "id": "2f5ab442-3fa1-4c8f-988c-209a5b3e3f8b",
   "metadata": {
    "id": "2f5ab442-3fa1-4c8f-988c-209a5b3e3f8b"
   },
   "source": [
    "#### days_since_last_login"
   ]
  },
  {
   "cell_type": "code",
   "execution_count": 115,
   "id": "0540d5f5-5abf-49ac-a609-162e0e64d5c8",
   "metadata": {
    "id": "0540d5f5-5abf-49ac-a609-162e0e64d5c8"
   },
   "outputs": [],
   "source": [
    "df['days_since_last_login'].replace({-999:None},inplace=True)"
   ]
  },
  {
   "cell_type": "code",
   "execution_count": 116,
   "id": "0a0a8083-3be0-4e59-bb1d-bf3ca9fb952c",
   "metadata": {
    "id": "0a0a8083-3be0-4e59-bb1d-bf3ca9fb952c"
   },
   "outputs": [],
   "source": [
    "df['days_since_last_login'].fillna(np.mean(df['days_since_last_login']),inplace=True)"
   ]
  },
  {
   "cell_type": "code",
   "execution_count": 117,
   "id": "0e7628bf-af5f-43e2-a3f0-6269d688f06a",
   "metadata": {
    "colab": {
     "base_uri": "https://localhost:8080/"
    },
    "id": "0e7628bf-af5f-43e2-a3f0-6269d688f06a",
    "outputId": "aef5f8c8-1c3a-4228-c2c0-64a154e45c22"
   },
   "outputs": [
    {
     "data": {
      "text/plain": [
       "age                        0\n",
       "gender                     0\n",
       "region_category            0\n",
       "membership_category        0\n",
       "joined_through_referral    0\n",
       "preferred_offer_types      0\n",
       "days_since_last_login      0\n",
       "avg_time_spent             0\n",
       "avg_transaction_value      0\n",
       "points_in_wallet           0\n",
       "past_complaint             0\n",
       "feedback                   0\n",
       "churn_risk_score           0\n",
       "joining_year               0\n",
       "dtype: int64"
      ]
     },
     "execution_count": 117,
     "metadata": {},
     "output_type": "execute_result"
    }
   ],
   "source": [
    "df.isnull().sum()"
   ]
  },
  {
   "cell_type": "markdown",
   "id": "c3fa68a6-f3c7-4310-8401-6a00b2ba2b8f",
   "metadata": {
    "id": "c3fa68a6-f3c7-4310-8401-6a00b2ba2b8f"
   },
   "source": [
    "#### avg_time_spent"
   ]
  },
  {
   "cell_type": "code",
   "execution_count": 118,
   "id": "9b13cf0f-337a-49c1-9856-3bded49a2c57",
   "metadata": {
    "colab": {
     "base_uri": "https://localhost:8080/"
    },
    "id": "9b13cf0f-337a-49c1-9856-3bded49a2c57",
    "outputId": "77e28321-eb3a-433c-feb8-8c117cbc4ad7"
   },
   "outputs": [
    {
     "data": {
      "text/plain": [
       "count    36704.000000\n",
       "mean       243.394279\n",
       "std        398.020264\n",
       "min      -2814.109110\n",
       "25%         60.060000\n",
       "50%        161.765000\n",
       "75%        356.222500\n",
       "max       3235.578521\n",
       "Name: avg_time_spent, dtype: float64"
      ]
     },
     "execution_count": 118,
     "metadata": {},
     "output_type": "execute_result"
    }
   ],
   "source": [
    "df['avg_time_spent'].describe()"
   ]
  },
  {
   "cell_type": "code",
   "execution_count": 119,
   "id": "ed19718d-ee70-400b-a6d4-ef5562ac8222",
   "metadata": {
    "id": "ed19718d-ee70-400b-a6d4-ef5562ac8222"
   },
   "outputs": [],
   "source": [
    "df['avg_time_spent']=abs(df['avg_time_spent'])"
   ]
  },
  {
   "cell_type": "code",
   "execution_count": 120,
   "id": "f54afa65-4acf-4ac2-bcf8-15b0f274aa13",
   "metadata": {
    "colab": {
     "base_uri": "https://localhost:8080/"
    },
    "id": "f54afa65-4acf-4ac2-bcf8-15b0f274aa13",
    "outputId": "d5d05bad-4246-4870-b480-6f07356dfd74"
   },
   "outputs": [
    {
     "data": {
      "text/plain": [
       "count    36704.000000\n",
       "mean       314.661463\n",
       "std        344.453169\n",
       "min          1.837399\n",
       "25%         75.417500\n",
       "50%        186.150000\n",
       "75%        415.967500\n",
       "max       3235.578521\n",
       "Name: avg_time_spent, dtype: float64"
      ]
     },
     "execution_count": 120,
     "metadata": {},
     "output_type": "execute_result"
    }
   ],
   "source": [
    "df['avg_time_spent'].describe()"
   ]
  },
  {
   "cell_type": "code",
   "execution_count": 121,
   "id": "7e0df830-c95e-471b-9b2c-2fdd64af8d89",
   "metadata": {
    "colab": {
     "base_uri": "https://localhost:8080/",
     "height": 101
    },
    "id": "7e0df830-c95e-471b-9b2c-2fdd64af8d89",
    "outputId": "8151e31a-cfdd-4690-9452-ea25bce9148e"
   },
   "outputs": [
    {
     "data": {
      "text/html": [
       "<div>\n",
       "<style scoped>\n",
       "    .dataframe tbody tr th:only-of-type {\n",
       "        vertical-align: middle;\n",
       "    }\n",
       "\n",
       "    .dataframe tbody tr th {\n",
       "        vertical-align: top;\n",
       "    }\n",
       "\n",
       "    .dataframe thead th {\n",
       "        text-align: right;\n",
       "    }\n",
       "</style>\n",
       "<table border=\"1\" class=\"dataframe\">\n",
       "  <thead>\n",
       "    <tr style=\"text-align: right;\">\n",
       "      <th></th>\n",
       "      <th>age</th>\n",
       "      <th>gender</th>\n",
       "      <th>region_category</th>\n",
       "      <th>membership_category</th>\n",
       "      <th>joined_through_referral</th>\n",
       "      <th>preferred_offer_types</th>\n",
       "      <th>days_since_last_login</th>\n",
       "      <th>avg_time_spent</th>\n",
       "      <th>avg_transaction_value</th>\n",
       "      <th>points_in_wallet</th>\n",
       "      <th>past_complaint</th>\n",
       "      <th>feedback</th>\n",
       "      <th>churn_risk_score</th>\n",
       "      <th>joining_year</th>\n",
       "    </tr>\n",
       "  </thead>\n",
       "  <tbody>\n",
       "    <tr>\n",
       "      <th>0</th>\n",
       "      <td>18</td>\n",
       "      <td>F</td>\n",
       "      <td>Village</td>\n",
       "      <td>Platinum Membership</td>\n",
       "      <td>No</td>\n",
       "      <td>Gift Vouchers/Coupons</td>\n",
       "      <td>17.0</td>\n",
       "      <td>300.63</td>\n",
       "      <td>53005.25</td>\n",
       "      <td>781.75</td>\n",
       "      <td>No</td>\n",
       "      <td>1</td>\n",
       "      <td>2</td>\n",
       "      <td>2017</td>\n",
       "    </tr>\n",
       "  </tbody>\n",
       "</table>\n",
       "</div>"
      ],
      "text/plain": [
       "   age gender region_category  membership_category joined_through_referral  \\\n",
       "0   18      F         Village  Platinum Membership                      No   \n",
       "\n",
       "   preferred_offer_types  days_since_last_login  avg_time_spent  \\\n",
       "0  Gift Vouchers/Coupons                   17.0          300.63   \n",
       "\n",
       "   avg_transaction_value  points_in_wallet past_complaint  feedback  \\\n",
       "0               53005.25            781.75             No         1   \n",
       "\n",
       "   churn_risk_score  joining_year  \n",
       "0                 2          2017  "
      ]
     },
     "execution_count": 121,
     "metadata": {},
     "output_type": "execute_result"
    }
   ],
   "source": [
    "df.head(1)"
   ]
  },
  {
   "cell_type": "markdown",
   "id": "3928af3b-1517-4cde-8371-38b296f9e2ea",
   "metadata": {
    "id": "3928af3b-1517-4cde-8371-38b296f9e2ea"
   },
   "source": [
    "#### points_in_wallet"
   ]
  },
  {
   "cell_type": "code",
   "execution_count": 122,
   "id": "47bfec1a-bab6-43fb-96d5-b4418c3d601d",
   "metadata": {
    "id": "47bfec1a-bab6-43fb-96d5-b4418c3d601d"
   },
   "outputs": [],
   "source": [
    "df['points_in_wallet']=abs(df['points_in_wallet'])"
   ]
  },
  {
   "cell_type": "code",
   "execution_count": 123,
   "id": "c760e13b-5d04-4705-8c80-652154ebfe16",
   "metadata": {
    "colab": {
     "base_uri": "https://localhost:8080/"
    },
    "id": "c760e13b-5d04-4705-8c80-652154ebfe16",
    "outputId": "a5a36b40-6b38-4a49-c144-5b53d82ee735"
   },
   "outputs": [
    {
     "data": {
      "text/plain": [
       "count    36704.000000\n",
       "mean       688.151893\n",
       "std        180.057058\n",
       "min          0.788907\n",
       "25%        624.347500\n",
       "50%        686.919800\n",
       "75%        757.015000\n",
       "max       2069.069761\n",
       "Name: points_in_wallet, dtype: float64"
      ]
     },
     "execution_count": 123,
     "metadata": {},
     "output_type": "execute_result"
    }
   ],
   "source": [
    "df['points_in_wallet'].describe()"
   ]
  },
  {
   "cell_type": "markdown",
   "id": "247955cb-7b69-4071-8051-da32ff18ed36",
   "metadata": {
    "id": "247955cb-7b69-4071-8051-da32ff18ed36"
   },
   "source": [
    "# ENCODING"
   ]
  },
  {
   "cell_type": "code",
   "execution_count": 124,
   "id": "f566badd-2b56-431b-94da-2a87ff2cacf8",
   "metadata": {
    "id": "f566badd-2b56-431b-94da-2a87ff2cacf8"
   },
   "outputs": [],
   "source": [
    "# this is the final data set which we have now"
   ]
  },
  {
   "cell_type": "code",
   "execution_count": 125,
   "id": "4b23d563-8acf-4ea3-bf9f-b11338e5b3cd",
   "metadata": {
    "colab": {
     "base_uri": "https://localhost:8080/",
     "height": 226
    },
    "id": "4b23d563-8acf-4ea3-bf9f-b11338e5b3cd",
    "outputId": "1fce8b38-66aa-42e7-e0e2-ff3f3675213f"
   },
   "outputs": [
    {
     "data": {
      "text/html": [
       "<div>\n",
       "<style scoped>\n",
       "    .dataframe tbody tr th:only-of-type {\n",
       "        vertical-align: middle;\n",
       "    }\n",
       "\n",
       "    .dataframe tbody tr th {\n",
       "        vertical-align: top;\n",
       "    }\n",
       "\n",
       "    .dataframe thead th {\n",
       "        text-align: right;\n",
       "    }\n",
       "</style>\n",
       "<table border=\"1\" class=\"dataframe\">\n",
       "  <thead>\n",
       "    <tr style=\"text-align: right;\">\n",
       "      <th></th>\n",
       "      <th>age</th>\n",
       "      <th>gender</th>\n",
       "      <th>region_category</th>\n",
       "      <th>membership_category</th>\n",
       "      <th>joined_through_referral</th>\n",
       "      <th>preferred_offer_types</th>\n",
       "      <th>days_since_last_login</th>\n",
       "      <th>avg_time_spent</th>\n",
       "      <th>avg_transaction_value</th>\n",
       "      <th>points_in_wallet</th>\n",
       "      <th>past_complaint</th>\n",
       "      <th>feedback</th>\n",
       "      <th>churn_risk_score</th>\n",
       "      <th>joining_year</th>\n",
       "    </tr>\n",
       "  </thead>\n",
       "  <tbody>\n",
       "    <tr>\n",
       "      <th>0</th>\n",
       "      <td>18</td>\n",
       "      <td>F</td>\n",
       "      <td>Village</td>\n",
       "      <td>Platinum Membership</td>\n",
       "      <td>No</td>\n",
       "      <td>Gift Vouchers/Coupons</td>\n",
       "      <td>17.0</td>\n",
       "      <td>300.63</td>\n",
       "      <td>53005.25</td>\n",
       "      <td>781.7500</td>\n",
       "      <td>No</td>\n",
       "      <td>1</td>\n",
       "      <td>2</td>\n",
       "      <td>2017</td>\n",
       "    </tr>\n",
       "    <tr>\n",
       "      <th>1</th>\n",
       "      <td>32</td>\n",
       "      <td>F</td>\n",
       "      <td>City</td>\n",
       "      <td>Premium Membership</td>\n",
       "      <td>Yes</td>\n",
       "      <td>Gift Vouchers/Coupons</td>\n",
       "      <td>16.0</td>\n",
       "      <td>306.34</td>\n",
       "      <td>12838.38</td>\n",
       "      <td>686.9198</td>\n",
       "      <td>Yes</td>\n",
       "      <td>1</td>\n",
       "      <td>1</td>\n",
       "      <td>2017</td>\n",
       "    </tr>\n",
       "    <tr>\n",
       "      <th>2</th>\n",
       "      <td>44</td>\n",
       "      <td>F</td>\n",
       "      <td>Town</td>\n",
       "      <td>No Membership</td>\n",
       "      <td>Yes</td>\n",
       "      <td>Gift Vouchers/Coupons</td>\n",
       "      <td>14.0</td>\n",
       "      <td>516.16</td>\n",
       "      <td>21027.00</td>\n",
       "      <td>500.6900</td>\n",
       "      <td>Yes</td>\n",
       "      <td>0</td>\n",
       "      <td>5</td>\n",
       "      <td>2016</td>\n",
       "    </tr>\n",
       "    <tr>\n",
       "      <th>3</th>\n",
       "      <td>37</td>\n",
       "      <td>M</td>\n",
       "      <td>City</td>\n",
       "      <td>No Membership</td>\n",
       "      <td>Yes</td>\n",
       "      <td>Gift Vouchers/Coupons</td>\n",
       "      <td>11.0</td>\n",
       "      <td>53.27</td>\n",
       "      <td>25239.56</td>\n",
       "      <td>567.6600</td>\n",
       "      <td>Yes</td>\n",
       "      <td>0</td>\n",
       "      <td>5</td>\n",
       "      <td>2016</td>\n",
       "    </tr>\n",
       "    <tr>\n",
       "      <th>4</th>\n",
       "      <td>31</td>\n",
       "      <td>F</td>\n",
       "      <td>City</td>\n",
       "      <td>No Membership</td>\n",
       "      <td>No</td>\n",
       "      <td>Credit/Debit Card Offers</td>\n",
       "      <td>20.0</td>\n",
       "      <td>113.13</td>\n",
       "      <td>24483.66</td>\n",
       "      <td>663.0600</td>\n",
       "      <td>Yes</td>\n",
       "      <td>0</td>\n",
       "      <td>5</td>\n",
       "      <td>2017</td>\n",
       "    </tr>\n",
       "  </tbody>\n",
       "</table>\n",
       "</div>"
      ],
      "text/plain": [
       "   age gender region_category  membership_category joined_through_referral  \\\n",
       "0   18      F         Village  Platinum Membership                      No   \n",
       "1   32      F            City   Premium Membership                     Yes   \n",
       "2   44      F            Town        No Membership                     Yes   \n",
       "3   37      M            City        No Membership                     Yes   \n",
       "4   31      F            City        No Membership                      No   \n",
       "\n",
       "      preferred_offer_types  days_since_last_login  avg_time_spent  \\\n",
       "0     Gift Vouchers/Coupons                   17.0          300.63   \n",
       "1     Gift Vouchers/Coupons                   16.0          306.34   \n",
       "2     Gift Vouchers/Coupons                   14.0          516.16   \n",
       "3     Gift Vouchers/Coupons                   11.0           53.27   \n",
       "4  Credit/Debit Card Offers                   20.0          113.13   \n",
       "\n",
       "   avg_transaction_value  points_in_wallet past_complaint  feedback  \\\n",
       "0               53005.25          781.7500             No         1   \n",
       "1               12838.38          686.9198            Yes         1   \n",
       "2               21027.00          500.6900            Yes         0   \n",
       "3               25239.56          567.6600            Yes         0   \n",
       "4               24483.66          663.0600            Yes         0   \n",
       "\n",
       "   churn_risk_score  joining_year  \n",
       "0                 2          2017  \n",
       "1                 1          2017  \n",
       "2                 5          2016  \n",
       "3                 5          2016  \n",
       "4                 5          2017  "
      ]
     },
     "execution_count": 125,
     "metadata": {},
     "output_type": "execute_result"
    }
   ],
   "source": [
    "df.head()"
   ]
  },
  {
   "cell_type": "code",
   "execution_count": 126,
   "id": "5ac2e2c2-7c22-4705-8e55-906f79a573d1",
   "metadata": {
    "id": "5ac2e2c2-7c22-4705-8e55-906f79a573d1"
   },
   "outputs": [],
   "source": [
    "from sklearn.preprocessing import OneHotEncoder,OrdinalEncoder\n",
    "from sklearn.compose import ColumnTransformer"
   ]
  },
  {
   "cell_type": "code",
   "execution_count": 127,
   "id": "a9dc4464-1cca-45f2-b0b6-6ccf6354a1c1",
   "metadata": {
    "id": "a9dc4464-1cca-45f2-b0b6-6ccf6354a1c1"
   },
   "outputs": [],
   "source": [
    "trans=ColumnTransformer(transformers=[('Hot',OneHotEncoder(drop='first'),[1,2,4,10]),\n",
    "                                     ('Ordinal',OrdinalEncoder(categories=[['No Membership','Basic Membership','Silver Membership','Gold Membership','Platinum Membership','Premium Membership'],['Gift Vouchers/Coupons','Credit/Debit Card Offers','Without Offers']]),[3,5])],remainder='passthrough')"
   ]
  },
  {
   "cell_type": "code",
   "execution_count": 128,
   "id": "c5c20509-8ccf-44ec-b9cb-c0375da7c6fd",
   "metadata": {
    "id": "c5c20509-8ccf-44ec-b9cb-c0375da7c6fd"
   },
   "outputs": [],
   "source": [
    "#categories=[['No Membership','Basic Membership','Silver Membership','Gold Membership','Platinum Membership','Premium Membership'],['Gift Vouchers/Coupons','Credit/Debit Card Offers','Without Offers']]"
   ]
  },
  {
   "cell_type": "code",
   "execution_count": 129,
   "id": "351ef4ad-9912-4ba7-9ef1-d8d03a9ab50d",
   "metadata": {
    "id": "351ef4ad-9912-4ba7-9ef1-d8d03a9ab50d"
   },
   "outputs": [],
   "source": [
    "dfo=trans.fit_transform(df)"
   ]
  },
  {
   "cell_type": "code",
   "execution_count": 130,
   "id": "26984adf-ad6b-48b2-b837-5a9092128283",
   "metadata": {
    "id": "26984adf-ad6b-48b2-b837-5a9092128283"
   },
   "outputs": [],
   "source": [
    "df_=pd.DataFrame(dfo)"
   ]
  },
  {
   "cell_type": "code",
   "execution_count": 131,
   "id": "efe72440-731f-4523-a086-44536483596e",
   "metadata": {
    "colab": {
     "base_uri": "https://localhost:8080/",
     "height": 206
    },
    "id": "efe72440-731f-4523-a086-44536483596e",
    "outputId": "ace82950-6f68-4dca-f302-cfd20496e796"
   },
   "outputs": [
    {
     "data": {
      "text/html": [
       "<div>\n",
       "<style scoped>\n",
       "    .dataframe tbody tr th:only-of-type {\n",
       "        vertical-align: middle;\n",
       "    }\n",
       "\n",
       "    .dataframe tbody tr th {\n",
       "        vertical-align: top;\n",
       "    }\n",
       "\n",
       "    .dataframe thead th {\n",
       "        text-align: right;\n",
       "    }\n",
       "</style>\n",
       "<table border=\"1\" class=\"dataframe\">\n",
       "  <thead>\n",
       "    <tr style=\"text-align: right;\">\n",
       "      <th></th>\n",
       "      <th>0</th>\n",
       "      <th>1</th>\n",
       "      <th>2</th>\n",
       "      <th>3</th>\n",
       "      <th>4</th>\n",
       "      <th>5</th>\n",
       "      <th>6</th>\n",
       "      <th>7</th>\n",
       "      <th>8</th>\n",
       "      <th>9</th>\n",
       "      <th>10</th>\n",
       "      <th>11</th>\n",
       "      <th>12</th>\n",
       "      <th>13</th>\n",
       "      <th>14</th>\n",
       "      <th>15</th>\n",
       "    </tr>\n",
       "  </thead>\n",
       "  <tbody>\n",
       "    <tr>\n",
       "      <th>0</th>\n",
       "      <td>0.0</td>\n",
       "      <td>0.0</td>\n",
       "      <td>1.0</td>\n",
       "      <td>0.0</td>\n",
       "      <td>0.0</td>\n",
       "      <td>0.0</td>\n",
       "      <td>4.0</td>\n",
       "      <td>0.0</td>\n",
       "      <td>18.0</td>\n",
       "      <td>17.0</td>\n",
       "      <td>300.63</td>\n",
       "      <td>53005.25</td>\n",
       "      <td>781.7500</td>\n",
       "      <td>1.0</td>\n",
       "      <td>2.0</td>\n",
       "      <td>2017.0</td>\n",
       "    </tr>\n",
       "    <tr>\n",
       "      <th>1</th>\n",
       "      <td>0.0</td>\n",
       "      <td>0.0</td>\n",
       "      <td>0.0</td>\n",
       "      <td>0.0</td>\n",
       "      <td>1.0</td>\n",
       "      <td>1.0</td>\n",
       "      <td>5.0</td>\n",
       "      <td>0.0</td>\n",
       "      <td>32.0</td>\n",
       "      <td>16.0</td>\n",
       "      <td>306.34</td>\n",
       "      <td>12838.38</td>\n",
       "      <td>686.9198</td>\n",
       "      <td>1.0</td>\n",
       "      <td>1.0</td>\n",
       "      <td>2017.0</td>\n",
       "    </tr>\n",
       "    <tr>\n",
       "      <th>2</th>\n",
       "      <td>0.0</td>\n",
       "      <td>1.0</td>\n",
       "      <td>0.0</td>\n",
       "      <td>0.0</td>\n",
       "      <td>1.0</td>\n",
       "      <td>1.0</td>\n",
       "      <td>0.0</td>\n",
       "      <td>0.0</td>\n",
       "      <td>44.0</td>\n",
       "      <td>14.0</td>\n",
       "      <td>516.16</td>\n",
       "      <td>21027.00</td>\n",
       "      <td>500.6900</td>\n",
       "      <td>0.0</td>\n",
       "      <td>5.0</td>\n",
       "      <td>2016.0</td>\n",
       "    </tr>\n",
       "    <tr>\n",
       "      <th>3</th>\n",
       "      <td>1.0</td>\n",
       "      <td>0.0</td>\n",
       "      <td>0.0</td>\n",
       "      <td>0.0</td>\n",
       "      <td>1.0</td>\n",
       "      <td>1.0</td>\n",
       "      <td>0.0</td>\n",
       "      <td>0.0</td>\n",
       "      <td>37.0</td>\n",
       "      <td>11.0</td>\n",
       "      <td>53.27</td>\n",
       "      <td>25239.56</td>\n",
       "      <td>567.6600</td>\n",
       "      <td>0.0</td>\n",
       "      <td>5.0</td>\n",
       "      <td>2016.0</td>\n",
       "    </tr>\n",
       "    <tr>\n",
       "      <th>4</th>\n",
       "      <td>0.0</td>\n",
       "      <td>0.0</td>\n",
       "      <td>0.0</td>\n",
       "      <td>0.0</td>\n",
       "      <td>0.0</td>\n",
       "      <td>1.0</td>\n",
       "      <td>0.0</td>\n",
       "      <td>1.0</td>\n",
       "      <td>31.0</td>\n",
       "      <td>20.0</td>\n",
       "      <td>113.13</td>\n",
       "      <td>24483.66</td>\n",
       "      <td>663.0600</td>\n",
       "      <td>0.0</td>\n",
       "      <td>5.0</td>\n",
       "      <td>2017.0</td>\n",
       "    </tr>\n",
       "  </tbody>\n",
       "</table>\n",
       "</div>"
      ],
      "text/plain": [
       "    0    1    2    3    4    5    6    7     8     9       10        11  \\\n",
       "0  0.0  0.0  1.0  0.0  0.0  0.0  4.0  0.0  18.0  17.0  300.63  53005.25   \n",
       "1  0.0  0.0  0.0  0.0  1.0  1.0  5.0  0.0  32.0  16.0  306.34  12838.38   \n",
       "2  0.0  1.0  0.0  0.0  1.0  1.0  0.0  0.0  44.0  14.0  516.16  21027.00   \n",
       "3  1.0  0.0  0.0  0.0  1.0  1.0  0.0  0.0  37.0  11.0   53.27  25239.56   \n",
       "4  0.0  0.0  0.0  0.0  0.0  1.0  0.0  1.0  31.0  20.0  113.13  24483.66   \n",
       "\n",
       "         12   13   14      15  \n",
       "0  781.7500  1.0  2.0  2017.0  \n",
       "1  686.9198  1.0  1.0  2017.0  \n",
       "2  500.6900  0.0  5.0  2016.0  \n",
       "3  567.6600  0.0  5.0  2016.0  \n",
       "4  663.0600  0.0  5.0  2017.0  "
      ]
     },
     "execution_count": 131,
     "metadata": {},
     "output_type": "execute_result"
    }
   ],
   "source": [
    "df_.head()"
   ]
  },
  {
   "cell_type": "code",
   "execution_count": 132,
   "id": "0b716ec5-c6b4-4c8b-b638-47dc154533b1",
   "metadata": {
    "colab": {
     "base_uri": "https://localhost:8080/"
    },
    "id": "0b716ec5-c6b4-4c8b-b638-47dc154533b1",
    "outputId": "f192d83c-b05e-4461-efc4-e2102211798b"
   },
   "outputs": [
    {
     "name": "stdout",
     "output_type": "stream",
     "text": [
      "(36704, 14) (36704, 16)\n"
     ]
    }
   ],
   "source": [
    "print(df.shape,df_.shape)"
   ]
  },
  {
   "cell_type": "code",
   "execution_count": 133,
   "id": "25d36626-79bb-48e5-92c1-a0507134001e",
   "metadata": {},
   "outputs": [
    {
     "data": {
      "text/plain": [
       "14\n",
       "3.0    10339\n",
       "4.0    10098\n",
       "5.0     9757\n",
       "1.0     3791\n",
       "2.0     2719\n",
       "Name: count, dtype: int64"
      ]
     },
     "execution_count": 133,
     "metadata": {},
     "output_type": "execute_result"
    }
   ],
   "source": [
    "df_[14].value_counts()"
   ]
  },
  {
   "cell_type": "code",
   "execution_count": 134,
   "id": "be95d089-3b52-4ad5-bc6d-e279e131c941",
   "metadata": {},
   "outputs": [],
   "source": [
    "# Currently we have [1,2,3,4,5] entries in the dependent column , i want to change it to [0,1,2,3,4] for XGboost "
   ]
  },
  {
   "cell_type": "code",
   "execution_count": 135,
   "id": "de4e0176-50e6-4bbd-a4f5-ef700b845e87",
   "metadata": {},
   "outputs": [],
   "source": [
    "df_[14].replace({1:0,2:1,3:2,4:3,5:4},inplace=True)"
   ]
  },
  {
   "cell_type": "code",
   "execution_count": 136,
   "id": "3d7dfc43-babd-411a-8660-8dec2587a994",
   "metadata": {},
   "outputs": [
    {
     "data": {
      "text/plain": [
       "14\n",
       "2.0    10339\n",
       "3.0    10098\n",
       "4.0     9757\n",
       "0.0     3791\n",
       "1.0     2719\n",
       "Name: count, dtype: int64"
      ]
     },
     "execution_count": 136,
     "metadata": {},
     "output_type": "execute_result"
    }
   ],
   "source": [
    "df_[14].value_counts()"
   ]
  },
  {
   "cell_type": "markdown",
   "id": "73518661-13f4-4377-b525-f14c1b2ad66e",
   "metadata": {
    "id": "73518661-13f4-4377-b525-f14c1b2ad66e"
   },
   "source": [
    "## BALANCING THE IMBALANCED DATA SET"
   ]
  },
  {
   "cell_type": "code",
   "execution_count": 137,
   "id": "747200fb-54bf-4f2d-962a-fe1ef49e059c",
   "metadata": {
    "colab": {
     "base_uri": "https://localhost:8080/"
    },
    "id": "747200fb-54bf-4f2d-962a-fe1ef49e059c",
    "outputId": "bf0e63f8-e305-4dc2-e79f-b8a105153092"
   },
   "outputs": [
    {
     "data": {
      "text/plain": [
       "14\n",
       "2.0    10339\n",
       "3.0    10098\n",
       "4.0     9757\n",
       "0.0     3791\n",
       "1.0     2719\n",
       "Name: count, dtype: int64"
      ]
     },
     "execution_count": 137,
     "metadata": {},
     "output_type": "execute_result"
    }
   ],
   "source": [
    "df_[14].value_counts()"
   ]
  },
  {
   "cell_type": "markdown",
   "id": "FyLLMg5TfnT4",
   "metadata": {
    "id": "FyLLMg5TfnT4"
   },
   "source": [
    "# ***SMOTE***"
   ]
  },
  {
   "cell_type": "code",
   "execution_count": 138,
   "id": "2-c3EcHSfsfV",
   "metadata": {
    "id": "2-c3EcHSfsfV"
   },
   "outputs": [],
   "source": [
    "from imblearn.over_sampling import SMOTE"
   ]
  },
  {
   "cell_type": "code",
   "execution_count": 139,
   "id": "0a049007-b1c9-46f4-84d5-9c984208a5d2",
   "metadata": {},
   "outputs": [],
   "source": [
    "X=df_.drop(columns=[14])\n",
    "Y=df_.iloc[:,14:15]"
   ]
  },
  {
   "cell_type": "code",
   "execution_count": 140,
   "id": "bxEnk22_iJBz",
   "metadata": {
    "id": "bxEnk22_iJBz"
   },
   "outputs": [],
   "source": [
    "sm=SMOTE()\n",
    "X_,Y_re=sm.fit_resample(X,Y)"
   ]
  },
  {
   "cell_type": "code",
   "execution_count": 141,
   "id": "5fb6e043-cb72-4a05-9fb1-c36296ce6e10",
   "metadata": {},
   "outputs": [
    {
     "data": {
      "text/plain": [
       "14 \n",
       "2.0    10339\n",
       "3.0    10098\n",
       "4.0     9757\n",
       "0.0     3791\n",
       "1.0     2719\n",
       "Name: count, dtype: int64"
      ]
     },
     "execution_count": 141,
     "metadata": {},
     "output_type": "execute_result"
    }
   ],
   "source": [
    "Y.value_counts()"
   ]
  },
  {
   "cell_type": "code",
   "execution_count": 142,
   "id": "42e04446-bf4b-4983-892b-f0e583c91d6a",
   "metadata": {},
   "outputs": [
    {
     "data": {
      "text/plain": [
       "14 \n",
       "0.0    10339\n",
       "1.0    10339\n",
       "2.0    10339\n",
       "3.0    10339\n",
       "4.0    10339\n",
       "Name: count, dtype: int64"
      ]
     },
     "execution_count": 142,
     "metadata": {},
     "output_type": "execute_result"
    }
   ],
   "source": [
    "Y_re.value_counts()"
   ]
  },
  {
   "cell_type": "code",
   "execution_count": 143,
   "id": "a31e5f61-e997-4d16-bc73-4460535745d3",
   "metadata": {},
   "outputs": [
    {
     "data": {
      "text/html": [
       "<div>\n",
       "<style scoped>\n",
       "    .dataframe tbody tr th:only-of-type {\n",
       "        vertical-align: middle;\n",
       "    }\n",
       "\n",
       "    .dataframe tbody tr th {\n",
       "        vertical-align: top;\n",
       "    }\n",
       "\n",
       "    .dataframe thead th {\n",
       "        text-align: right;\n",
       "    }\n",
       "</style>\n",
       "<table border=\"1\" class=\"dataframe\">\n",
       "  <thead>\n",
       "    <tr style=\"text-align: right;\">\n",
       "      <th></th>\n",
       "      <th>0</th>\n",
       "      <th>1</th>\n",
       "      <th>2</th>\n",
       "      <th>3</th>\n",
       "      <th>4</th>\n",
       "      <th>5</th>\n",
       "      <th>6</th>\n",
       "      <th>7</th>\n",
       "      <th>8</th>\n",
       "      <th>9</th>\n",
       "      <th>10</th>\n",
       "      <th>11</th>\n",
       "      <th>12</th>\n",
       "      <th>13</th>\n",
       "      <th>15</th>\n",
       "    </tr>\n",
       "  </thead>\n",
       "  <tbody>\n",
       "    <tr>\n",
       "      <th>0</th>\n",
       "      <td>0.0</td>\n",
       "      <td>0.0</td>\n",
       "      <td>1.0</td>\n",
       "      <td>0.0</td>\n",
       "      <td>0.0</td>\n",
       "      <td>0.0</td>\n",
       "      <td>4.0</td>\n",
       "      <td>0.0</td>\n",
       "      <td>18.0</td>\n",
       "      <td>17.0</td>\n",
       "      <td>300.63</td>\n",
       "      <td>53005.25</td>\n",
       "      <td>781.7500</td>\n",
       "      <td>1.0</td>\n",
       "      <td>2017.0</td>\n",
       "    </tr>\n",
       "    <tr>\n",
       "      <th>1</th>\n",
       "      <td>0.0</td>\n",
       "      <td>0.0</td>\n",
       "      <td>0.0</td>\n",
       "      <td>0.0</td>\n",
       "      <td>1.0</td>\n",
       "      <td>1.0</td>\n",
       "      <td>5.0</td>\n",
       "      <td>0.0</td>\n",
       "      <td>32.0</td>\n",
       "      <td>16.0</td>\n",
       "      <td>306.34</td>\n",
       "      <td>12838.38</td>\n",
       "      <td>686.9198</td>\n",
       "      <td>1.0</td>\n",
       "      <td>2017.0</td>\n",
       "    </tr>\n",
       "    <tr>\n",
       "      <th>2</th>\n",
       "      <td>0.0</td>\n",
       "      <td>1.0</td>\n",
       "      <td>0.0</td>\n",
       "      <td>0.0</td>\n",
       "      <td>1.0</td>\n",
       "      <td>1.0</td>\n",
       "      <td>0.0</td>\n",
       "      <td>0.0</td>\n",
       "      <td>44.0</td>\n",
       "      <td>14.0</td>\n",
       "      <td>516.16</td>\n",
       "      <td>21027.00</td>\n",
       "      <td>500.6900</td>\n",
       "      <td>0.0</td>\n",
       "      <td>2016.0</td>\n",
       "    </tr>\n",
       "    <tr>\n",
       "      <th>3</th>\n",
       "      <td>1.0</td>\n",
       "      <td>0.0</td>\n",
       "      <td>0.0</td>\n",
       "      <td>0.0</td>\n",
       "      <td>1.0</td>\n",
       "      <td>1.0</td>\n",
       "      <td>0.0</td>\n",
       "      <td>0.0</td>\n",
       "      <td>37.0</td>\n",
       "      <td>11.0</td>\n",
       "      <td>53.27</td>\n",
       "      <td>25239.56</td>\n",
       "      <td>567.6600</td>\n",
       "      <td>0.0</td>\n",
       "      <td>2016.0</td>\n",
       "    </tr>\n",
       "    <tr>\n",
       "      <th>4</th>\n",
       "      <td>0.0</td>\n",
       "      <td>0.0</td>\n",
       "      <td>0.0</td>\n",
       "      <td>0.0</td>\n",
       "      <td>0.0</td>\n",
       "      <td>1.0</td>\n",
       "      <td>0.0</td>\n",
       "      <td>1.0</td>\n",
       "      <td>31.0</td>\n",
       "      <td>20.0</td>\n",
       "      <td>113.13</td>\n",
       "      <td>24483.66</td>\n",
       "      <td>663.0600</td>\n",
       "      <td>0.0</td>\n",
       "      <td>2017.0</td>\n",
       "    </tr>\n",
       "  </tbody>\n",
       "</table>\n",
       "</div>"
      ],
      "text/plain": [
       "    0    1    2    3    4    5    6    7     8     9       10        11  \\\n",
       "0  0.0  0.0  1.0  0.0  0.0  0.0  4.0  0.0  18.0  17.0  300.63  53005.25   \n",
       "1  0.0  0.0  0.0  0.0  1.0  1.0  5.0  0.0  32.0  16.0  306.34  12838.38   \n",
       "2  0.0  1.0  0.0  0.0  1.0  1.0  0.0  0.0  44.0  14.0  516.16  21027.00   \n",
       "3  1.0  0.0  0.0  0.0  1.0  1.0  0.0  0.0  37.0  11.0   53.27  25239.56   \n",
       "4  0.0  0.0  0.0  0.0  0.0  1.0  0.0  1.0  31.0  20.0  113.13  24483.66   \n",
       "\n",
       "         12   13      15  \n",
       "0  781.7500  1.0  2017.0  \n",
       "1  686.9198  1.0  2017.0  \n",
       "2  500.6900  0.0  2016.0  \n",
       "3  567.6600  0.0  2016.0  \n",
       "4  663.0600  0.0  2017.0  "
      ]
     },
     "execution_count": 143,
     "metadata": {},
     "output_type": "execute_result"
    }
   ],
   "source": [
    "X_.head()"
   ]
  },
  {
   "cell_type": "markdown",
   "id": "864460ed-8fde-4b6b-a5d1-5b4d424cfa3e",
   "metadata": {},
   "source": [
    "#### STANDARD SCALING THE SMOTE DATA"
   ]
  },
  {
   "cell_type": "code",
   "execution_count": 144,
   "id": "69f86f76-25d2-477c-a78e-fc107ec817ca",
   "metadata": {},
   "outputs": [],
   "source": [
    "# I have already test standard scaling and min_max scaling , my models are performing better with standard scaled data \n",
    "from sklearn.preprocessing import StandardScaler"
   ]
  },
  {
   "cell_type": "code",
   "execution_count": 145,
   "id": "cd3c73f5-310e-44d1-89ff-571a1bd604fe",
   "metadata": {},
   "outputs": [],
   "source": [
    "sc=StandardScaler()\n",
    "X_r=sc.fit_transform(X_)"
   ]
  },
  {
   "cell_type": "code",
   "execution_count": 146,
   "id": "da825781-0f77-428f-98bc-210e5e596aae",
   "metadata": {},
   "outputs": [],
   "source": [
    "X_re=pd.DataFrame(X_r,columns=X_.columns)"
   ]
  },
  {
   "cell_type": "code",
   "execution_count": 147,
   "id": "04ba3d61-da41-4099-82da-fb7956c5158e",
   "metadata": {},
   "outputs": [],
   "source": [
    "# SO FINALLY WE HAVE 'X_re' and 'Y_re'"
   ]
  },
  {
   "cell_type": "markdown",
   "id": "3bf7859c-b915-4571-9c7d-ade7a9786369",
   "metadata": {},
   "source": [
    "# ADASYN"
   ]
  },
  {
   "cell_type": "code",
   "execution_count": 148,
   "id": "9ca74e51-35db-4b08-af88-5d8a266c7d36",
   "metadata": {},
   "outputs": [],
   "source": [
    "from imblearn.over_sampling import ADASYN\n",
    "# it stands for Adaptive synthetic sampling technique\n",
    "# SMOTE - synthetic minority over sampling technique"
   ]
  },
  {
   "cell_type": "code",
   "execution_count": 149,
   "id": "2b0dd9e8-7d77-4b96-8679-2b8376ec8418",
   "metadata": {},
   "outputs": [],
   "source": [
    "ad=ADASYN(sampling_strategy='minority')\n",
    "X_ad,Y_ad=ad.fit_resample(X,Y)"
   ]
  },
  {
   "cell_type": "code",
   "execution_count": 150,
   "id": "b27543d0-28c8-4a67-ae9f-63245be04b8d",
   "metadata": {},
   "outputs": [],
   "source": [
    "ad=ADASYN(sampling_strategy='minority')\n",
    "X_ad,Y_ad=ad.fit_resample(X_ad,Y_ad)"
   ]
  },
  {
   "cell_type": "markdown",
   "id": "4e71bf91-3723-4291-8078-591d079d69ba",
   "metadata": {},
   "source": [
    "#### HERE I APPLIED ADASAYN TWICE BECAUSE WE NEEDED TO UPSAMPLE TWO CATEGORIES AND "
   ]
  },
  {
   "cell_type": "code",
   "execution_count": 151,
   "id": "b14eacb8-0aa3-4813-9107-655de0c65fbf",
   "metadata": {},
   "outputs": [
    {
     "data": {
      "text/plain": [
       "14 \n",
       "0.0    10500\n",
       "2.0    10339\n",
       "1.0    10303\n",
       "3.0    10098\n",
       "4.0     9757\n",
       "Name: count, dtype: int64"
      ]
     },
     "execution_count": 151,
     "metadata": {},
     "output_type": "execute_result"
    }
   ],
   "source": [
    "Y_ad.value_counts()"
   ]
  },
  {
   "cell_type": "markdown",
   "id": "f42f767f-c29f-480d-9cb5-4bf4c7a627e3",
   "metadata": {},
   "source": [
    "#### STANDARD SCALING THE ADASYN DATA"
   ]
  },
  {
   "cell_type": "code",
   "execution_count": 152,
   "id": "da2a5b3b-f087-4178-98d7-4ccfa5af6f22",
   "metadata": {},
   "outputs": [],
   "source": [
    "sc=StandardScaler()\n",
    "X_a=sc.fit_transform(X_ad)\n",
    "X_ad=pd.DataFrame(X_a,columns=X_ad.columns)"
   ]
  },
  {
   "cell_type": "code",
   "execution_count": 153,
   "id": "312e78eb-9f3e-4a59-96f3-bffb22e2d5c0",
   "metadata": {},
   "outputs": [],
   "source": [
    "# SO FINALLY WE HAVE 'X_ad' and 'Y_ad'"
   ]
  },
  {
   "cell_type": "markdown",
   "id": "cf9e7476-b06e-453f-8a09-0664dbeb770e",
   "metadata": {},
   "source": [
    "#### SMOTE AND ADASYN ARE IMPROVING THE MODELS PERFORMANCE BY 5% "
   ]
  },
  {
   "cell_type": "code",
   "execution_count": 154,
   "id": "9d893179-8e08-42df-b546-3fc84e7d2b53",
   "metadata": {},
   "outputs": [],
   "source": [
    "# we have X_re, Y_re  SMOTE upsampled\n",
    "# we have X_ad, Y_ad   ADASYN upsampled\n",
    "# we have X ,Y our pure data without oversampling and scaling"
   ]
  },
  {
   "cell_type": "markdown",
   "id": "4b7c7b11-e61a-4afa-8a5e-6843d51772fe",
   "metadata": {},
   "source": [
    "# > RandomForestClassifier >"
   ]
  },
  {
   "cell_type": "code",
   "execution_count": 163,
   "id": "30236e6b-c168-4094-8f5b-5cefb02f62ad",
   "metadata": {},
   "outputs": [],
   "source": [
    "from sklearn.model_selection import train_test_split\n",
    "from sklearn.ensemble import RandomForestClassifier\n",
    "from sklearn.metrics import accuracy_score\n",
    "from sklearn.model_selection import cross_val_score\n",
    "from sklearn.model_selection import GridSearchCV"
   ]
  },
  {
   "cell_type": "markdown",
   "id": "8f512973-c127-4ae2-b001-98c957d5e935",
   "metadata": {},
   "source": [
    ">IMBALANCED ,UNSCALED "
   ]
  },
  {
   "cell_type": "code",
   "execution_count": 935,
   "id": "10b81650-61e9-4b9f-967c-b0c5fc7ad73e",
   "metadata": {},
   "outputs": [
    {
     "name": "stderr",
     "output_type": "stream",
     "text": [
      "C:\\Users\\DELL\\AppData\\Local\\Programs\\Python\\Python311\\Lib\\site-packages\\sklearn\\base.py:1152: DataConversionWarning: A column-vector y was passed when a 1d array was expected. Please change the shape of y to (n_samples,), for example using ravel().\n",
      "  return fit_method(estimator, *args, **kwargs)\n"
     ]
    },
    {
     "name": "stdout",
     "output_type": "stream",
     "text": [
      "0.7609317531671435\n"
     ]
    }
   ],
   "source": [
    "X_train,X_test,Y_train,Y_test=train_test_split(X,Y,test_size=0.2,random_state=42)\n",
    "rr=RandomForestClassifier()\n",
    "rr.fit(X_train,Y_train)\n",
    "Y_pred=rr.predict(X_test)\n",
    "print(accuracy_score(Y_test,Y_pred))"
   ]
  },
  {
   "cell_type": "markdown",
   "id": "4d70c5e0-7ca5-426e-8095-d3f603c96c2c",
   "metadata": {},
   "source": [
    "> SMOTE STANDARD SCALED"
   ]
  },
  {
   "cell_type": "code",
   "execution_count": 157,
   "id": "0b34b786-b7cc-4b7c-8895-eafe98fe7a3a",
   "metadata": {},
   "outputs": [],
   "source": [
    "X_train,X_test,Y_train,Y_test=train_test_split(X_re,Y_re,test_size=0.2)"
   ]
  },
  {
   "cell_type": "code",
   "execution_count": 158,
   "id": "1aac0cdb-588a-44af-a231-a2856b51f4eb",
   "metadata": {},
   "outputs": [
    {
     "name": "stderr",
     "output_type": "stream",
     "text": [
      "C:\\Users\\DELL\\AppData\\Local\\Programs\\Python\\Python311\\Lib\\site-packages\\sklearn\\base.py:1152: DataConversionWarning: A column-vector y was passed when a 1d array was expected. Please change the shape of y to (n_samples,), for example using ravel().\n",
      "  return fit_method(estimator, *args, **kwargs)\n"
     ]
    },
    {
     "name": "stdout",
     "output_type": "stream",
     "text": [
      "0.7974659057935971\n"
     ]
    }
   ],
   "source": [
    "rr=RandomForestClassifier()\n",
    "rr.fit(X_train,Y_train)\n",
    "Y_pred=rr.predict(X_test)\n",
    "print(accuracy_score(Y_test,Y_pred))"
   ]
  },
  {
   "cell_type": "markdown",
   "id": "c9c935a6-df8b-4874-94a9-b1f447ce1131",
   "metadata": {},
   "source": [
    "> ADASYN STANDARD SCALED"
   ]
  },
  {
   "cell_type": "code",
   "execution_count": 162,
   "id": "16430830-ab46-4ca3-af19-d9c611a9956c",
   "metadata": {},
   "outputs": [
    {
     "name": "stderr",
     "output_type": "stream",
     "text": [
      "C:\\Users\\DELL\\AppData\\Local\\Programs\\Python\\Python311\\Lib\\site-packages\\sklearn\\base.py:1152: DataConversionWarning: A column-vector y was passed when a 1d array was expected. Please change the shape of y to (n_samples,), for example using ravel().\n",
      "  return fit_method(estimator, *args, **kwargs)\n"
     ]
    },
    {
     "name": "stdout",
     "output_type": "stream",
     "text": [
      "0.798882133751716\n"
     ]
    }
   ],
   "source": [
    "X_train,X_test,Y_train,Y_test=train_test_split(X_ad,Y_ad,test_size=0.2)\n",
    "rr=RandomForestClassifier()\n",
    "rr.fit(X_train,Y_train)\n",
    "Y_pred=rr.predict(X_test)\n",
    "print(accuracy_score(Y_test,Y_pred))"
   ]
  },
  {
   "cell_type": "markdown",
   "id": "2e3e94ae-2f3b-412b-866d-265cbc4c4146",
   "metadata": {},
   "source": [
    "> TUNING RANDOM FOREST WITH ADASYN STANDARD SCALED DATA SET"
   ]
  },
  {
   "cell_type": "code",
   "execution_count": 164,
   "id": "e67d8c48-01b2-4f48-851d-91f70b23861f",
   "metadata": {},
   "outputs": [
    {
     "name": "stderr",
     "output_type": "stream",
     "text": [
      "C:\\Users\\DELL\\AppData\\Local\\Programs\\Python\\Python311\\Lib\\site-packages\\sklearn\\base.py:1152: DataConversionWarning: A column-vector y was passed when a 1d array was expected. Please change the shape of y to (n_samples,), for example using ravel().\n",
      "  return fit_method(estimator, *args, **kwargs)\n"
     ]
    },
    {
     "name": "stdout",
     "output_type": "stream",
     "text": [
      "0.8029411764705883\n"
     ]
    }
   ],
   "source": [
    "X_train,X_test,Y_train,Y_test=train_test_split(X_ad,Y_ad,test_size=0.2)\n",
    "rf=RandomForestClassifier(bootstrap=True,criterion='gini',max_features=0.5,max_samples=1.0,max_depth=None,min_samples_split=3,n_estimators=100)\n",
    "rf.fit(X_train,Y_train)\n",
    "Y_pred=rf.predict(X_test)\n",
    "print(accuracy_score(Y_test,Y_pred))"
   ]
  },
  {
   "cell_type": "markdown",
   "id": "058d2e69-bf24-434f-9008-6021390da4aa",
   "metadata": {},
   "source": [
    "#### Overall RandomForestClassifier() is working slightly better with synthetic data generated using ADASYN"
   ]
  },
  {
   "cell_type": "code",
   "execution_count": 938,
   "id": "ecac345f-bfa9-4c00-a849-d29425a26d23",
   "metadata": {},
   "outputs": [],
   "source": [
    "# SO OUR DATA IS \n",
    "# X,Y unsampled \n",
    "# X_re,Y_re oversampled using SMOTE\n",
    "# X_ad,Y_ad over_sampled using ADASYN"
   ]
  },
  {
   "cell_type": "markdown",
   "id": "734ee9ab-73a6-41e8-b0a7-9f789aae242a",
   "metadata": {},
   "source": [
    "# LOGISTIC REGRESSION"
   ]
  },
  {
   "cell_type": "markdown",
   "id": "dd08ac52-5556-4187-88d6-6d35cd8412aa",
   "metadata": {},
   "source": [
    "> NON-Over sampled"
   ]
  },
  {
   "cell_type": "code",
   "execution_count": 166,
   "id": "0baf966e-34d8-4615-8413-f90aa63cc35c",
   "metadata": {},
   "outputs": [],
   "source": [
    "from sklearn.linear_model import LogisticRegression"
   ]
  },
  {
   "cell_type": "code",
   "execution_count": 172,
   "id": "06c9b8e5-383d-4143-b182-0953b5cc4791",
   "metadata": {},
   "outputs": [],
   "source": [
    "X_train,X_test,Y_train,Y_test=train_test_split(X,Y,test_size=0.2,random_state=42)"
   ]
  },
  {
   "cell_type": "code",
   "execution_count": 197,
   "id": "9f3d0968-ac95-434e-8122-8b44eaf102f5",
   "metadata": {},
   "outputs": [
    {
     "name": "stderr",
     "output_type": "stream",
     "text": [
      "C:\\Users\\DELL\\AppData\\Local\\Programs\\Python\\Python311\\Lib\\site-packages\\sklearn\\utils\\validation.py:1183: DataConversionWarning: A column-vector y was passed when a 1d array was expected. Please change the shape of y to (n_samples, ), for example using ravel().\n",
      "  y = column_or_1d(y, warn=True)\n"
     ]
    },
    {
     "name": "stdout",
     "output_type": "stream",
     "text": [
      "0.6455187291625809\n"
     ]
    }
   ],
   "source": [
    "lr=LogisticRegression(max_iter=1000,multi_class='ovr',solver='liblinear',random_state=42)\n",
    "#max_iter for the gradient descet\n",
    "#also we can pass learning rate to fine tune it\n",
    "lr.fit(X_train,Y_train)\n",
    "Y_pred=lr.predict(X_test)\n",
    "print(accuracy_score(Y_pred,Y_test))"
   ]
  },
  {
   "cell_type": "markdown",
   "id": "9dc994ca-5a1b-471d-8761-266c8d2edee2",
   "metadata": {},
   "source": [
    ">OVER SAMPLED USING SMOTE"
   ]
  },
  {
   "cell_type": "code",
   "execution_count": 201,
   "id": "1a81b4bb-0589-4725-86c0-66e40141ea9b",
   "metadata": {},
   "outputs": [
    {
     "name": "stderr",
     "output_type": "stream",
     "text": [
      "C:\\Users\\DELL\\AppData\\Local\\Programs\\Python\\Python311\\Lib\\site-packages\\sklearn\\utils\\validation.py:1183: DataConversionWarning: A column-vector y was passed when a 1d array was expected. Please change the shape of y to (n_samples, ), for example using ravel().\n",
      "  y = column_or_1d(y, warn=True)\n"
     ]
    },
    {
     "name": "stdout",
     "output_type": "stream",
     "text": [
      "0.638843215011123\n"
     ]
    }
   ],
   "source": [
    "X_train,X_test,Y_train,Y_test=train_test_split(X_re,Y_re,test_size=0.2,random_state=42)\n",
    "lr=LogisticRegression(max_iter=1000,multi_class='ovr',solver='liblinear')\n",
    "#max_iter for the gradient descet\n",
    "#also we can pass learning rate to fine tune it\n",
    "lr.fit(X_train,Y_train)\n",
    "Y_pred=lr.predict(X_test)\n",
    "print(accuracy_score(Y_pred,Y_test))"
   ]
  },
  {
   "cell_type": "markdown",
   "id": "9b6a958f-34f8-4922-8b65-0a6e9a86c35f",
   "metadata": {},
   "source": [
    ">OVER SAMPLED USING ADASYN"
   ]
  },
  {
   "cell_type": "code",
   "execution_count": 169,
   "id": "6108ac72-d7b1-42d6-8b45-5c5b6b6cb9f8",
   "metadata": {},
   "outputs": [
    {
     "name": "stderr",
     "output_type": "stream",
     "text": [
      "C:\\Users\\DELL\\AppData\\Local\\Programs\\Python\\Python311\\Lib\\site-packages\\sklearn\\utils\\validation.py:1183: DataConversionWarning: A column-vector y was passed when a 1d array was expected. Please change the shape of y to (n_samples, ), for example using ravel().\n",
      "  y = column_or_1d(y, warn=True)\n"
     ]
    },
    {
     "name": "stdout",
     "output_type": "stream",
     "text": [
      "0.6504901960784314\n"
     ]
    }
   ],
   "source": [
    "X_train,X_test,Y_train,Y_test=train_test_split(X_ad,Y_ad,test_size=0.2,random_state=42)\n",
    "lrf=LogisticRegression(max_iter=1000,multi_class='ovr',solver='liblinear',C=10000)\n",
    "#max_iter for the gradient descet\n",
    "#also we can pass learning rate to fine tune it\n",
    "lrf.fit(X_train,Y_train)\n",
    "Y_pred=lrf.predict(X_test)\n",
    "print(accuracy_score(Y_pred,Y_test))"
   ]
  },
  {
   "cell_type": "code",
   "execution_count": 200,
   "id": "5d930de5-dce3-4c2c-86e7-352b907afed8",
   "metadata": {},
   "outputs": [
    {
     "name": "stderr",
     "output_type": "stream",
     "text": [
      "C:\\Users\\DELL\\AppData\\Local\\Programs\\Python\\Python311\\Lib\\site-packages\\sklearn\\utils\\validation.py:1183: DataConversionWarning: A column-vector y was passed when a 1d array was expected. Please change the shape of y to (n_samples, ), for example using ravel().\n",
      "  y = column_or_1d(y, warn=True)\n",
      "C:\\Users\\DELL\\AppData\\Local\\Programs\\Python\\Python311\\Lib\\site-packages\\sklearn\\utils\\validation.py:1183: DataConversionWarning: A column-vector y was passed when a 1d array was expected. Please change the shape of y to (n_samples, ), for example using ravel().\n",
      "  y = column_or_1d(y, warn=True)\n",
      "C:\\Users\\DELL\\AppData\\Local\\Programs\\Python\\Python311\\Lib\\site-packages\\sklearn\\utils\\validation.py:1183: DataConversionWarning: A column-vector y was passed when a 1d array was expected. Please change the shape of y to (n_samples, ), for example using ravel().\n",
      "  y = column_or_1d(y, warn=True)\n",
      "C:\\Users\\DELL\\AppData\\Local\\Programs\\Python\\Python311\\Lib\\site-packages\\sklearn\\utils\\validation.py:1183: DataConversionWarning: A column-vector y was passed when a 1d array was expected. Please change the shape of y to (n_samples, ), for example using ravel().\n",
      "  y = column_or_1d(y, warn=True)\n",
      "C:\\Users\\DELL\\AppData\\Local\\Programs\\Python\\Python311\\Lib\\site-packages\\sklearn\\utils\\validation.py:1183: DataConversionWarning: A column-vector y was passed when a 1d array was expected. Please change the shape of y to (n_samples, ), for example using ravel().\n",
      "  y = column_or_1d(y, warn=True)\n"
     ]
    },
    {
     "data": {
      "text/plain": [
       "0.647715238282016"
      ]
     },
     "execution_count": 200,
     "metadata": {},
     "output_type": "execute_result"
    }
   ],
   "source": [
    "np.mean(cross_val_score(lr,X_ad,Y_ad,cv=5,scoring='accuracy'))"
   ]
  },
  {
   "cell_type": "markdown",
   "id": "fa821f09-62cd-4a6a-aa4e-0e86e0fd0296",
   "metadata": {},
   "source": [
    "## DISADVANTAGE OF SMOTE AND ADASYN OVERSAMPLLING TECHNIQUES"
   ]
  },
  {
   "cell_type": "code",
   "execution_count": 945,
   "id": "de5f25b3-ca26-45ff-9848-66e5a238f09a",
   "metadata": {},
   "outputs": [],
   "source": [
    "# i wanna see ehat changes ADASYN and SMOTE made to my data set \n",
    "# SMOTE - synthetic minority oversasmpling technique\n",
    "# ADASYN- adaptive synthetic sampling technique"
   ]
  },
  {
   "cell_type": "code",
   "execution_count": 946,
   "id": "82cb7287-92b3-4ff7-92e5-4b719a422859",
   "metadata": {},
   "outputs": [
    {
     "data": {
      "text/html": [
       "<div>\n",
       "<style scoped>\n",
       "    .dataframe tbody tr th:only-of-type {\n",
       "        vertical-align: middle;\n",
       "    }\n",
       "\n",
       "    .dataframe tbody tr th {\n",
       "        vertical-align: top;\n",
       "    }\n",
       "\n",
       "    .dataframe thead th {\n",
       "        text-align: right;\n",
       "    }\n",
       "</style>\n",
       "<table border=\"1\" class=\"dataframe\">\n",
       "  <thead>\n",
       "    <tr style=\"text-align: right;\">\n",
       "      <th></th>\n",
       "      <th>0</th>\n",
       "      <th>1</th>\n",
       "      <th>2</th>\n",
       "      <th>3</th>\n",
       "      <th>4</th>\n",
       "      <th>5</th>\n",
       "      <th>6</th>\n",
       "      <th>7</th>\n",
       "      <th>8</th>\n",
       "      <th>9</th>\n",
       "      <th>10</th>\n",
       "      <th>11</th>\n",
       "      <th>12</th>\n",
       "      <th>13</th>\n",
       "      <th>15</th>\n",
       "    </tr>\n",
       "  </thead>\n",
       "  <tbody>\n",
       "    <tr>\n",
       "      <th>0</th>\n",
       "      <td>0.0</td>\n",
       "      <td>0.0</td>\n",
       "      <td>1.0</td>\n",
       "      <td>0.0</td>\n",
       "      <td>0.0</td>\n",
       "      <td>0.0</td>\n",
       "      <td>4.0</td>\n",
       "      <td>0.0</td>\n",
       "      <td>18.0</td>\n",
       "      <td>17.0</td>\n",
       "      <td>300.63</td>\n",
       "      <td>53005.25</td>\n",
       "      <td>781.7500</td>\n",
       "      <td>1.0</td>\n",
       "      <td>2017.0</td>\n",
       "    </tr>\n",
       "    <tr>\n",
       "      <th>1</th>\n",
       "      <td>0.0</td>\n",
       "      <td>0.0</td>\n",
       "      <td>0.0</td>\n",
       "      <td>0.0</td>\n",
       "      <td>0.0</td>\n",
       "      <td>1.0</td>\n",
       "      <td>5.0</td>\n",
       "      <td>0.0</td>\n",
       "      <td>32.0</td>\n",
       "      <td>16.0</td>\n",
       "      <td>306.34</td>\n",
       "      <td>12838.38</td>\n",
       "      <td>686.9198</td>\n",
       "      <td>1.0</td>\n",
       "      <td>2017.0</td>\n",
       "    </tr>\n",
       "    <tr>\n",
       "      <th>2</th>\n",
       "      <td>0.0</td>\n",
       "      <td>1.0</td>\n",
       "      <td>0.0</td>\n",
       "      <td>0.0</td>\n",
       "      <td>1.0</td>\n",
       "      <td>1.0</td>\n",
       "      <td>0.0</td>\n",
       "      <td>0.0</td>\n",
       "      <td>44.0</td>\n",
       "      <td>14.0</td>\n",
       "      <td>516.16</td>\n",
       "      <td>21027.00</td>\n",
       "      <td>500.6900</td>\n",
       "      <td>0.0</td>\n",
       "      <td>2016.0</td>\n",
       "    </tr>\n",
       "    <tr>\n",
       "      <th>3</th>\n",
       "      <td>1.0</td>\n",
       "      <td>0.0</td>\n",
       "      <td>0.0</td>\n",
       "      <td>0.0</td>\n",
       "      <td>1.0</td>\n",
       "      <td>1.0</td>\n",
       "      <td>0.0</td>\n",
       "      <td>0.0</td>\n",
       "      <td>37.0</td>\n",
       "      <td>11.0</td>\n",
       "      <td>53.27</td>\n",
       "      <td>25239.56</td>\n",
       "      <td>567.6600</td>\n",
       "      <td>0.0</td>\n",
       "      <td>2016.0</td>\n",
       "    </tr>\n",
       "    <tr>\n",
       "      <th>4</th>\n",
       "      <td>0.0</td>\n",
       "      <td>0.0</td>\n",
       "      <td>0.0</td>\n",
       "      <td>0.0</td>\n",
       "      <td>0.0</td>\n",
       "      <td>1.0</td>\n",
       "      <td>0.0</td>\n",
       "      <td>1.0</td>\n",
       "      <td>31.0</td>\n",
       "      <td>20.0</td>\n",
       "      <td>113.13</td>\n",
       "      <td>24483.66</td>\n",
       "      <td>663.0600</td>\n",
       "      <td>0.0</td>\n",
       "      <td>2017.0</td>\n",
       "    </tr>\n",
       "  </tbody>\n",
       "</table>\n",
       "</div>"
      ],
      "text/plain": [
       "    0    1    2    3    4    5    6    7     8     9       10        11  \\\n",
       "0  0.0  0.0  1.0  0.0  0.0  0.0  4.0  0.0  18.0  17.0  300.63  53005.25   \n",
       "1  0.0  0.0  0.0  0.0  0.0  1.0  5.0  0.0  32.0  16.0  306.34  12838.38   \n",
       "2  0.0  1.0  0.0  0.0  1.0  1.0  0.0  0.0  44.0  14.0  516.16  21027.00   \n",
       "3  1.0  0.0  0.0  0.0  1.0  1.0  0.0  0.0  37.0  11.0   53.27  25239.56   \n",
       "4  0.0  0.0  0.0  0.0  0.0  1.0  0.0  1.0  31.0  20.0  113.13  24483.66   \n",
       "\n",
       "         12   13      15  \n",
       "0  781.7500  1.0  2017.0  \n",
       "1  686.9198  1.0  2017.0  \n",
       "2  500.6900  0.0  2016.0  \n",
       "3  567.6600  0.0  2016.0  \n",
       "4  663.0600  0.0  2017.0  "
      ]
     },
     "execution_count": 946,
     "metadata": {},
     "output_type": "execute_result"
    }
   ],
   "source": [
    "X.head()"
   ]
  },
  {
   "cell_type": "code",
   "execution_count": 947,
   "id": "b9432cfd-fb9f-4ab0-88ac-a4db77b0c2ce",
   "metadata": {},
   "outputs": [
    {
     "data": {
      "text/plain": [
       "1\n",
       "0.0    22679\n",
       "1.0    14025\n",
       "Name: count, dtype: int64"
      ]
     },
     "execution_count": 947,
     "metadata": {},
     "output_type": "execute_result"
    }
   ],
   "source": [
    "X[1].value_counts()\n",
    "# here i can see that the column number 1 has only two categories ,this is pre balancing"
   ]
  },
  {
   "cell_type": "code",
   "execution_count": 948,
   "id": "59b5e8ca-c502-479f-9652-f2383eb2a1cc",
   "metadata": {},
   "outputs": [
    {
     "data": {
      "text/plain": [
       "(6941,)"
      ]
     },
     "execution_count": 948,
     "metadata": {},
     "output_type": "execute_result"
    }
   ],
   "source": [
    "X_re[1].unique().shape\n",
    "# now we can see that the column number 1 has 6863 categories post SMOTE"
   ]
  },
  {
   "cell_type": "code",
   "execution_count": 949,
   "id": "5d777c40-aedc-4cec-b837-87cbf99cedc9",
   "metadata": {},
   "outputs": [
    {
     "data": {
      "text/plain": [
       "(6654,)"
      ]
     },
     "execution_count": 949,
     "metadata": {},
     "output_type": "execute_result"
    }
   ],
   "source": [
    "X_ad[1].unique().shape\n",
    "# also here we can see that post ADASYN as well we have 6661 categoies ,\n",
    "# THUS WE KNOW THAT THESE SYNTHETIC OVERSAMPLING TECHNIQUES TEND TO DESTROY THE COMPOSITION OF CATEGORICAL COLUMNS"
   ]
  },
  {
   "cell_type": "code",
   "execution_count": 950,
   "id": "cc092bc0-9362-49bd-b504-7e8ddf98c838",
   "metadata": {},
   "outputs": [
    {
     "data": {
      "text/plain": [
       "1\n",
       "-0.818168    28707\n",
       " 1.350786    16049\n",
       " 1.187047        1\n",
       "-0.102922        1\n",
       " 0.552292        1\n",
       "             ...  \n",
       "-0.756946        1\n",
       " 0.788847        1\n",
       " 1.063053        1\n",
       " 1.110320        1\n",
       " 0.440027        1\n",
       "Name: count, Length: 6941, dtype: int64"
      ]
     },
     "execution_count": 950,
     "metadata": {},
     "output_type": "execute_result"
    }
   ],
   "source": [
    "X_re[1].value_counts()\n",
    "# But the fact that one should note down is that the frequency of newly generated categories is very less \n",
    "# and the composition of original categories is almost the same "
   ]
  },
  {
   "cell_type": "code",
   "execution_count": 951,
   "id": "59a45f03-fd57-4405-b08b-3f18fb4dc84e",
   "metadata": {},
   "outputs": [
    {
     "data": {
      "text/html": [
       "<div>\n",
       "<style scoped>\n",
       "    .dataframe tbody tr th:only-of-type {\n",
       "        vertical-align: middle;\n",
       "    }\n",
       "\n",
       "    .dataframe tbody tr th {\n",
       "        vertical-align: top;\n",
       "    }\n",
       "\n",
       "    .dataframe thead th {\n",
       "        text-align: right;\n",
       "    }\n",
       "</style>\n",
       "<table border=\"1\" class=\"dataframe\">\n",
       "  <thead>\n",
       "    <tr style=\"text-align: right;\">\n",
       "      <th></th>\n",
       "      <th>0</th>\n",
       "      <th>1</th>\n",
       "      <th>2</th>\n",
       "      <th>3</th>\n",
       "      <th>4</th>\n",
       "      <th>5</th>\n",
       "      <th>6</th>\n",
       "      <th>7</th>\n",
       "      <th>8</th>\n",
       "      <th>9</th>\n",
       "      <th>10</th>\n",
       "      <th>11</th>\n",
       "      <th>12</th>\n",
       "      <th>13</th>\n",
       "      <th>15</th>\n",
       "    </tr>\n",
       "  </thead>\n",
       "  <tbody>\n",
       "    <tr>\n",
       "      <th>0</th>\n",
       "      <td>-1.050139</td>\n",
       "      <td>-0.818168</td>\n",
       "      <td>2.670443</td>\n",
       "      <td>-0.436223</td>\n",
       "      <td>-1.010391</td>\n",
       "      <td>-1.039063</td>\n",
       "      <td>0.916346</td>\n",
       "      <td>-1.228405</td>\n",
       "      <td>-1.262987</td>\n",
       "      <td>0.845064</td>\n",
       "      <td>-0.045953</td>\n",
       "      <td>0.787990</td>\n",
       "      <td>0.462123</td>\n",
       "      <td>1.389060</td>\n",
       "      <td>1.282513</td>\n",
       "    </tr>\n",
       "    <tr>\n",
       "      <th>1</th>\n",
       "      <td>-1.050139</td>\n",
       "      <td>-0.818168</td>\n",
       "      <td>-0.421489</td>\n",
       "      <td>-0.436223</td>\n",
       "      <td>-1.010391</td>\n",
       "      <td>1.066746</td>\n",
       "      <td>1.527584</td>\n",
       "      <td>-1.228405</td>\n",
       "      <td>-0.335918</td>\n",
       "      <td>0.651381</td>\n",
       "      <td>-0.028924</td>\n",
       "      <td>-0.907143</td>\n",
       "      <td>-0.099205</td>\n",
       "      <td>1.389060</td>\n",
       "      <td>1.282513</td>\n",
       "    </tr>\n",
       "    <tr>\n",
       "      <th>2</th>\n",
       "      <td>-1.050139</td>\n",
       "      <td>1.350786</td>\n",
       "      <td>-0.421489</td>\n",
       "      <td>-0.436223</td>\n",
       "      <td>1.087824</td>\n",
       "      <td>1.066746</td>\n",
       "      <td>-1.528605</td>\n",
       "      <td>-1.228405</td>\n",
       "      <td>0.458713</td>\n",
       "      <td>0.264017</td>\n",
       "      <td>0.596823</td>\n",
       "      <td>-0.561565</td>\n",
       "      <td>-1.201554</td>\n",
       "      <td>-0.738212</td>\n",
       "      <td>-0.002676</td>\n",
       "    </tr>\n",
       "    <tr>\n",
       "      <th>3</th>\n",
       "      <td>1.054837</td>\n",
       "      <td>-0.818168</td>\n",
       "      <td>-0.421489</td>\n",
       "      <td>-0.436223</td>\n",
       "      <td>1.087824</td>\n",
       "      <td>1.066746</td>\n",
       "      <td>-1.528605</td>\n",
       "      <td>-1.228405</td>\n",
       "      <td>-0.004821</td>\n",
       "      <td>-0.317031</td>\n",
       "      <td>-0.783655</td>\n",
       "      <td>-0.383785</td>\n",
       "      <td>-0.805139</td>\n",
       "      <td>-0.738212</td>\n",
       "      <td>-0.002676</td>\n",
       "    </tr>\n",
       "    <tr>\n",
       "      <th>4</th>\n",
       "      <td>-1.050139</td>\n",
       "      <td>-0.818168</td>\n",
       "      <td>-0.421489</td>\n",
       "      <td>-0.436223</td>\n",
       "      <td>-1.010391</td>\n",
       "      <td>1.066746</td>\n",
       "      <td>-1.528605</td>\n",
       "      <td>0.063807</td>\n",
       "      <td>-0.402137</td>\n",
       "      <td>1.426111</td>\n",
       "      <td>-0.605134</td>\n",
       "      <td>-0.415686</td>\n",
       "      <td>-0.240438</td>\n",
       "      <td>-0.738212</td>\n",
       "      <td>1.282513</td>\n",
       "    </tr>\n",
       "    <tr>\n",
       "      <th>...</th>\n",
       "      <td>...</td>\n",
       "      <td>...</td>\n",
       "      <td>...</td>\n",
       "      <td>...</td>\n",
       "      <td>...</td>\n",
       "      <td>...</td>\n",
       "      <td>...</td>\n",
       "      <td>...</td>\n",
       "      <td>...</td>\n",
       "      <td>...</td>\n",
       "      <td>...</td>\n",
       "      <td>...</td>\n",
       "      <td>...</td>\n",
       "      <td>...</td>\n",
       "      <td>...</td>\n",
       "    </tr>\n",
       "    <tr>\n",
       "      <th>51690</th>\n",
       "      <td>-0.043882</td>\n",
       "      <td>-0.818168</td>\n",
       "      <td>1.056570</td>\n",
       "      <td>-0.436223</td>\n",
       "      <td>-1.010391</td>\n",
       "      <td>0.060091</td>\n",
       "      <td>-1.209562</td>\n",
       "      <td>-1.228405</td>\n",
       "      <td>0.464190</td>\n",
       "      <td>0.963174</td>\n",
       "      <td>-0.062981</td>\n",
       "      <td>-0.787555</td>\n",
       "      <td>-0.559790</td>\n",
       "      <td>-0.738212</td>\n",
       "      <td>1.282513</td>\n",
       "    </tr>\n",
       "    <tr>\n",
       "      <th>51691</th>\n",
       "      <td>-1.050139</td>\n",
       "      <td>-0.818168</td>\n",
       "      <td>-0.421489</td>\n",
       "      <td>-0.436223</td>\n",
       "      <td>1.087824</td>\n",
       "      <td>1.066746</td>\n",
       "      <td>-1.277585</td>\n",
       "      <td>-0.466873</td>\n",
       "      <td>0.467009</td>\n",
       "      <td>1.778874</td>\n",
       "      <td>0.702835</td>\n",
       "      <td>-0.594874</td>\n",
       "      <td>-0.250321</td>\n",
       "      <td>-0.738212</td>\n",
       "      <td>-0.002676</td>\n",
       "    </tr>\n",
       "    <tr>\n",
       "      <th>51692</th>\n",
       "      <td>0.895928</td>\n",
       "      <td>1.187047</td>\n",
       "      <td>-0.421489</td>\n",
       "      <td>-0.436223</td>\n",
       "      <td>1.087824</td>\n",
       "      <td>0.907774</td>\n",
       "      <td>-1.528605</td>\n",
       "      <td>0.161359</td>\n",
       "      <td>0.185070</td>\n",
       "      <td>-0.543559</td>\n",
       "      <td>2.057885</td>\n",
       "      <td>-1.356478</td>\n",
       "      <td>-0.663573</td>\n",
       "      <td>-0.738212</td>\n",
       "      <td>-0.099698</td>\n",
       "    </tr>\n",
       "    <tr>\n",
       "      <th>51693</th>\n",
       "      <td>0.148056</td>\n",
       "      <td>1.350786</td>\n",
       "      <td>-0.421489</td>\n",
       "      <td>-0.436223</td>\n",
       "      <td>-1.010391</td>\n",
       "      <td>0.159606</td>\n",
       "      <td>-1.180676</td>\n",
       "      <td>0.799359</td>\n",
       "      <td>-0.700612</td>\n",
       "      <td>-0.814643</td>\n",
       "      <td>-0.808391</td>\n",
       "      <td>-0.282615</td>\n",
       "      <td>-1.144157</td>\n",
       "      <td>-0.738212</td>\n",
       "      <td>-0.734232</td>\n",
       "    </tr>\n",
       "    <tr>\n",
       "      <th>51694</th>\n",
       "      <td>1.054837</td>\n",
       "      <td>0.440027</td>\n",
       "      <td>-0.421489</td>\n",
       "      <td>0.811529</td>\n",
       "      <td>0.206769</td>\n",
       "      <td>0.182502</td>\n",
       "      <td>-1.528605</td>\n",
       "      <td>1.356018</td>\n",
       "      <td>0.726473</td>\n",
       "      <td>0.337814</td>\n",
       "      <td>-0.663648</td>\n",
       "      <td>-1.220015</td>\n",
       "      <td>-0.594148</td>\n",
       "      <td>-0.738212</td>\n",
       "      <td>1.282513</td>\n",
       "    </tr>\n",
       "  </tbody>\n",
       "</table>\n",
       "<p>51695 rows × 15 columns</p>\n",
       "</div>"
      ],
      "text/plain": [
       "             0         1         2         3         4         5         6   \\\n",
       "0     -1.050139 -0.818168  2.670443 -0.436223 -1.010391 -1.039063  0.916346   \n",
       "1     -1.050139 -0.818168 -0.421489 -0.436223 -1.010391  1.066746  1.527584   \n",
       "2     -1.050139  1.350786 -0.421489 -0.436223  1.087824  1.066746 -1.528605   \n",
       "3      1.054837 -0.818168 -0.421489 -0.436223  1.087824  1.066746 -1.528605   \n",
       "4     -1.050139 -0.818168 -0.421489 -0.436223 -1.010391  1.066746 -1.528605   \n",
       "...         ...       ...       ...       ...       ...       ...       ...   \n",
       "51690 -0.043882 -0.818168  1.056570 -0.436223 -1.010391  0.060091 -1.209562   \n",
       "51691 -1.050139 -0.818168 -0.421489 -0.436223  1.087824  1.066746 -1.277585   \n",
       "51692  0.895928  1.187047 -0.421489 -0.436223  1.087824  0.907774 -1.528605   \n",
       "51693  0.148056  1.350786 -0.421489 -0.436223 -1.010391  0.159606 -1.180676   \n",
       "51694  1.054837  0.440027 -0.421489  0.811529  0.206769  0.182502 -1.528605   \n",
       "\n",
       "             7         8         9         10        11        12        13  \\\n",
       "0     -1.228405 -1.262987  0.845064 -0.045953  0.787990  0.462123  1.389060   \n",
       "1     -1.228405 -0.335918  0.651381 -0.028924 -0.907143 -0.099205  1.389060   \n",
       "2     -1.228405  0.458713  0.264017  0.596823 -0.561565 -1.201554 -0.738212   \n",
       "3     -1.228405 -0.004821 -0.317031 -0.783655 -0.383785 -0.805139 -0.738212   \n",
       "4      0.063807 -0.402137  1.426111 -0.605134 -0.415686 -0.240438 -0.738212   \n",
       "...         ...       ...       ...       ...       ...       ...       ...   \n",
       "51690 -1.228405  0.464190  0.963174 -0.062981 -0.787555 -0.559790 -0.738212   \n",
       "51691 -0.466873  0.467009  1.778874  0.702835 -0.594874 -0.250321 -0.738212   \n",
       "51692  0.161359  0.185070 -0.543559  2.057885 -1.356478 -0.663573 -0.738212   \n",
       "51693  0.799359 -0.700612 -0.814643 -0.808391 -0.282615 -1.144157 -0.738212   \n",
       "51694  1.356018  0.726473  0.337814 -0.663648 -1.220015 -0.594148 -0.738212   \n",
       "\n",
       "             15  \n",
       "0      1.282513  \n",
       "1      1.282513  \n",
       "2     -0.002676  \n",
       "3     -0.002676  \n",
       "4      1.282513  \n",
       "...         ...  \n",
       "51690  1.282513  \n",
       "51691 -0.002676  \n",
       "51692 -0.099698  \n",
       "51693 -0.734232  \n",
       "51694  1.282513  \n",
       "\n",
       "[51695 rows x 15 columns]"
      ]
     },
     "execution_count": 951,
     "metadata": {},
     "output_type": "execute_result"
    }
   ],
   "source": [
    "X_re"
   ]
  },
  {
   "cell_type": "code",
   "execution_count": 952,
   "id": "e1fb6bbd-2bbe-4c3b-b7ce-cc2fe787f14e",
   "metadata": {},
   "outputs": [
    {
     "data": {
      "text/html": [
       "<div>\n",
       "<style scoped>\n",
       "    .dataframe tbody tr th:only-of-type {\n",
       "        vertical-align: middle;\n",
       "    }\n",
       "\n",
       "    .dataframe tbody tr th {\n",
       "        vertical-align: top;\n",
       "    }\n",
       "\n",
       "    .dataframe thead th {\n",
       "        text-align: right;\n",
       "    }\n",
       "</style>\n",
       "<table border=\"1\" class=\"dataframe\">\n",
       "  <thead>\n",
       "    <tr style=\"text-align: right;\">\n",
       "      <th></th>\n",
       "      <th>0</th>\n",
       "      <th>1</th>\n",
       "      <th>2</th>\n",
       "      <th>3</th>\n",
       "      <th>4</th>\n",
       "      <th>5</th>\n",
       "      <th>6</th>\n",
       "      <th>7</th>\n",
       "      <th>8</th>\n",
       "      <th>9</th>\n",
       "      <th>10</th>\n",
       "      <th>11</th>\n",
       "      <th>12</th>\n",
       "      <th>13</th>\n",
       "      <th>15</th>\n",
       "    </tr>\n",
       "  </thead>\n",
       "  <tbody>\n",
       "    <tr>\n",
       "      <th>0</th>\n",
       "      <td>-1.045196</td>\n",
       "      <td>-0.817582</td>\n",
       "      <td>2.647678</td>\n",
       "      <td>-0.435025</td>\n",
       "      <td>-1.006631</td>\n",
       "      <td>-1.033068</td>\n",
       "      <td>0.905723</td>\n",
       "      <td>-1.226126</td>\n",
       "      <td>-1.259826</td>\n",
       "      <td>0.844824</td>\n",
       "      <td>-0.050022</td>\n",
       "      <td>0.880012</td>\n",
       "      <td>0.455394</td>\n",
       "      <td>1.381010</td>\n",
       "      <td>1.272786</td>\n",
       "    </tr>\n",
       "    <tr>\n",
       "      <th>1</th>\n",
       "      <td>-1.045196</td>\n",
       "      <td>-0.817582</td>\n",
       "      <td>-0.421786</td>\n",
       "      <td>-0.435025</td>\n",
       "      <td>-1.006631</td>\n",
       "      <td>1.068698</td>\n",
       "      <td>1.519242</td>\n",
       "      <td>-1.226126</td>\n",
       "      <td>-0.333440</td>\n",
       "      <td>0.651682</td>\n",
       "      <td>-0.033102</td>\n",
       "      <td>-0.885879</td>\n",
       "      <td>-0.105198</td>\n",
       "      <td>1.381010</td>\n",
       "      <td>1.272786</td>\n",
       "    </tr>\n",
       "    <tr>\n",
       "      <th>2</th>\n",
       "      <td>-1.045196</td>\n",
       "      <td>1.348251</td>\n",
       "      <td>-0.421786</td>\n",
       "      <td>-0.435025</td>\n",
       "      <td>1.088449</td>\n",
       "      <td>1.068698</td>\n",
       "      <td>-1.548353</td>\n",
       "      <td>-1.226126</td>\n",
       "      <td>0.460604</td>\n",
       "      <td>0.265397</td>\n",
       "      <td>0.588639</td>\n",
       "      <td>-0.525876</td>\n",
       "      <td>-1.206102</td>\n",
       "      <td>-0.745153</td>\n",
       "      <td>-0.010247</td>\n",
       "    </tr>\n",
       "    <tr>\n",
       "      <th>3</th>\n",
       "      <td>1.054780</td>\n",
       "      <td>-0.817582</td>\n",
       "      <td>-0.421786</td>\n",
       "      <td>-0.435025</td>\n",
       "      <td>1.088449</td>\n",
       "      <td>1.068698</td>\n",
       "      <td>-1.548353</td>\n",
       "      <td>-1.226126</td>\n",
       "      <td>-0.002589</td>\n",
       "      <td>-0.314029</td>\n",
       "      <td>-0.783001</td>\n",
       "      <td>-0.340675</td>\n",
       "      <td>-0.810206</td>\n",
       "      <td>-0.745153</td>\n",
       "      <td>-0.010247</td>\n",
       "    </tr>\n",
       "    <tr>\n",
       "      <th>4</th>\n",
       "      <td>-1.045196</td>\n",
       "      <td>-0.817582</td>\n",
       "      <td>-0.421786</td>\n",
       "      <td>-0.435025</td>\n",
       "      <td>-1.006631</td>\n",
       "      <td>1.068698</td>\n",
       "      <td>-1.548353</td>\n",
       "      <td>0.064400</td>\n",
       "      <td>-0.399611</td>\n",
       "      <td>1.424250</td>\n",
       "      <td>-0.605624</td>\n",
       "      <td>-0.373907</td>\n",
       "      <td>-0.246246</td>\n",
       "      <td>-0.745153</td>\n",
       "      <td>1.272786</td>\n",
       "    </tr>\n",
       "    <tr>\n",
       "      <th>...</th>\n",
       "      <td>...</td>\n",
       "      <td>...</td>\n",
       "      <td>...</td>\n",
       "      <td>...</td>\n",
       "      <td>...</td>\n",
       "      <td>...</td>\n",
       "      <td>...</td>\n",
       "      <td>...</td>\n",
       "      <td>...</td>\n",
       "      <td>...</td>\n",
       "      <td>...</td>\n",
       "      <td>...</td>\n",
       "      <td>...</td>\n",
       "      <td>...</td>\n",
       "      <td>...</td>\n",
       "    </tr>\n",
       "    <tr>\n",
       "      <th>50983</th>\n",
       "      <td>-1.045196</td>\n",
       "      <td>-0.817582</td>\n",
       "      <td>-0.421786</td>\n",
       "      <td>2.342129</td>\n",
       "      <td>0.952260</td>\n",
       "      <td>0.932074</td>\n",
       "      <td>0.945604</td>\n",
       "      <td>0.064400</td>\n",
       "      <td>-1.494398</td>\n",
       "      <td>-0.406730</td>\n",
       "      <td>0.177701</td>\n",
       "      <td>2.909627</td>\n",
       "      <td>2.214852</td>\n",
       "      <td>1.381010</td>\n",
       "      <td>1.105980</td>\n",
       "    </tr>\n",
       "    <tr>\n",
       "      <th>50984</th>\n",
       "      <td>1.019927</td>\n",
       "      <td>1.312305</td>\n",
       "      <td>-0.421786</td>\n",
       "      <td>-0.435025</td>\n",
       "      <td>1.088449</td>\n",
       "      <td>1.068698</td>\n",
       "      <td>-0.914470</td>\n",
       "      <td>1.333507</td>\n",
       "      <td>-1.322702</td>\n",
       "      <td>-0.687491</td>\n",
       "      <td>-0.580204</td>\n",
       "      <td>0.463584</td>\n",
       "      <td>-0.294523</td>\n",
       "      <td>-0.745153</td>\n",
       "      <td>0.011047</td>\n",
       "    </tr>\n",
       "    <tr>\n",
       "      <th>50985</th>\n",
       "      <td>1.054780</td>\n",
       "      <td>1.348251</td>\n",
       "      <td>-0.421786</td>\n",
       "      <td>-0.435025</td>\n",
       "      <td>0.886705</td>\n",
       "      <td>1.068698</td>\n",
       "      <td>-0.816678</td>\n",
       "      <td>1.354926</td>\n",
       "      <td>-1.306881</td>\n",
       "      <td>-0.774707</td>\n",
       "      <td>-0.549300</td>\n",
       "      <td>0.463924</td>\n",
       "      <td>-0.306443</td>\n",
       "      <td>-0.745153</td>\n",
       "      <td>-0.133795</td>\n",
       "    </tr>\n",
       "    <tr>\n",
       "      <th>50986</th>\n",
       "      <td>-0.821598</td>\n",
       "      <td>1.348251</td>\n",
       "      <td>-0.421786</td>\n",
       "      <td>-0.435025</td>\n",
       "      <td>-1.006631</td>\n",
       "      <td>-1.033068</td>\n",
       "      <td>1.388591</td>\n",
       "      <td>-0.951305</td>\n",
       "      <td>-0.790822</td>\n",
       "      <td>0.816202</td>\n",
       "      <td>-0.333711</td>\n",
       "      <td>1.342375</td>\n",
       "      <td>0.448668</td>\n",
       "      <td>1.381010</td>\n",
       "      <td>1.136173</td>\n",
       "    </tr>\n",
       "    <tr>\n",
       "      <th>50987</th>\n",
       "      <td>-0.136338</td>\n",
       "      <td>1.348251</td>\n",
       "      <td>-0.421786</td>\n",
       "      <td>-0.435025</td>\n",
       "      <td>-1.006631</td>\n",
       "      <td>0.159065</td>\n",
       "      <td>0.988186</td>\n",
       "      <td>-0.109061</td>\n",
       "      <td>-0.502426</td>\n",
       "      <td>0.663101</td>\n",
       "      <td>0.194809</td>\n",
       "      <td>1.335751</td>\n",
       "      <td>0.492019</td>\n",
       "      <td>1.381010</td>\n",
       "      <td>0.717496</td>\n",
       "    </tr>\n",
       "  </tbody>\n",
       "</table>\n",
       "<p>50988 rows × 15 columns</p>\n",
       "</div>"
      ],
      "text/plain": [
       "             0         1         2         3         4         5         6   \\\n",
       "0     -1.045196 -0.817582  2.647678 -0.435025 -1.006631 -1.033068  0.905723   \n",
       "1     -1.045196 -0.817582 -0.421786 -0.435025 -1.006631  1.068698  1.519242   \n",
       "2     -1.045196  1.348251 -0.421786 -0.435025  1.088449  1.068698 -1.548353   \n",
       "3      1.054780 -0.817582 -0.421786 -0.435025  1.088449  1.068698 -1.548353   \n",
       "4     -1.045196 -0.817582 -0.421786 -0.435025 -1.006631  1.068698 -1.548353   \n",
       "...         ...       ...       ...       ...       ...       ...       ...   \n",
       "50983 -1.045196 -0.817582 -0.421786  2.342129  0.952260  0.932074  0.945604   \n",
       "50984  1.019927  1.312305 -0.421786 -0.435025  1.088449  1.068698 -0.914470   \n",
       "50985  1.054780  1.348251 -0.421786 -0.435025  0.886705  1.068698 -0.816678   \n",
       "50986 -0.821598  1.348251 -0.421786 -0.435025 -1.006631 -1.033068  1.388591   \n",
       "50987 -0.136338  1.348251 -0.421786 -0.435025 -1.006631  0.159065  0.988186   \n",
       "\n",
       "             7         8         9         10        11        12        13  \\\n",
       "0     -1.226126 -1.259826  0.844824 -0.050022  0.880012  0.455394  1.381010   \n",
       "1     -1.226126 -0.333440  0.651682 -0.033102 -0.885879 -0.105198  1.381010   \n",
       "2     -1.226126  0.460604  0.265397  0.588639 -0.525876 -1.206102 -0.745153   \n",
       "3     -1.226126 -0.002589 -0.314029 -0.783001 -0.340675 -0.810206 -0.745153   \n",
       "4      0.064400 -0.399611  1.424250 -0.605624 -0.373907 -0.246246 -0.745153   \n",
       "...         ...       ...       ...       ...       ...       ...       ...   \n",
       "50983  0.064400 -1.494398 -0.406730  0.177701  2.909627  2.214852  1.381010   \n",
       "50984  1.333507 -1.322702 -0.687491 -0.580204  0.463584 -0.294523 -0.745153   \n",
       "50985  1.354926 -1.306881 -0.774707 -0.549300  0.463924 -0.306443 -0.745153   \n",
       "50986 -0.951305 -0.790822  0.816202 -0.333711  1.342375  0.448668  1.381010   \n",
       "50987 -0.109061 -0.502426  0.663101  0.194809  1.335751  0.492019  1.381010   \n",
       "\n",
       "             15  \n",
       "0      1.272786  \n",
       "1      1.272786  \n",
       "2     -0.010247  \n",
       "3     -0.010247  \n",
       "4      1.272786  \n",
       "...         ...  \n",
       "50983  1.105980  \n",
       "50984  0.011047  \n",
       "50985 -0.133795  \n",
       "50986  1.136173  \n",
       "50987  0.717496  \n",
       "\n",
       "[50988 rows x 15 columns]"
      ]
     },
     "execution_count": 952,
     "metadata": {},
     "output_type": "execute_result"
    }
   ],
   "source": [
    "X_ad"
   ]
  },
  {
   "cell_type": "markdown",
   "id": "e87a8d24-b69c-4d0d-8398-6037d3263edf",
   "metadata": {},
   "source": [
    "# XGBoost"
   ]
  },
  {
   "cell_type": "code",
   "execution_count": 157,
   "id": "9fc72811-47d4-4ac5-8ee9-4eeb1d4e66db",
   "metadata": {},
   "outputs": [],
   "source": [
    "from xgboost import XGBClassifier\n",
    "from sklearn.model_selection import cross_val_score"
   ]
  },
  {
   "cell_type": "markdown",
   "id": "75f8c1a6-1a9a-4852-83cf-770c472a5752",
   "metadata": {},
   "source": [
    ">IMBALANCED"
   ]
  },
  {
   "cell_type": "code",
   "execution_count": 227,
   "id": "86a99e5d-22c2-4a66-87aa-e8ce0ad7bbab",
   "metadata": {},
   "outputs": [
    {
     "name": "stdout",
     "output_type": "stream",
     "text": [
      "0.7553466830132135\n"
     ]
    }
   ],
   "source": [
    "X_train,X_test,Y_train,Y_test=train_test_split(X,Y,test_size=0.2,random_state=42)\n",
    "xg=XGBClassifier()\n",
    "xg.fit(X_train,Y_train)\n",
    "Y_pred=xg.predict(X_test)\n",
    "print(accuracy_score(Y_pred,Y_test))"
   ]
  },
  {
   "cell_type": "markdown",
   "id": "44ce8b4d-3744-4197-9b79-519e897aee56",
   "metadata": {},
   "source": [
    "> SMOTE + STANDARD SCALED"
   ]
  },
  {
   "cell_type": "code",
   "execution_count": 228,
   "id": "8d4e148e-6e2d-484f-be86-bda06858fd63",
   "metadata": {},
   "outputs": [
    {
     "name": "stdout",
     "output_type": "stream",
     "text": [
      "0.7960150884998549\n"
     ]
    }
   ],
   "source": [
    "X_train,X_test,Y_train,Y_test=train_test_split(X_re,Y_re,test_size=0.2)\n",
    "xg=XGBClassifier()\n",
    "xg.fit(X_train,Y_train)\n",
    "Y_pred=xg.predict(X_test)\n",
    "print(accuracy_score(Y_pred,Y_test))"
   ]
  },
  {
   "cell_type": "code",
   "execution_count": 959,
   "id": "158221dd-d1b2-464b-9006-d13eaedb6ada",
   "metadata": {},
   "outputs": [
    {
     "data": {
      "text/plain": [
       "0.7885482154947288"
      ]
     },
     "execution_count": 959,
     "metadata": {},
     "output_type": "execute_result"
    }
   ],
   "source": [
    "np.mean(cross_val_score(xg,X_re,Y_re,cv=5,scoring='accuracy'))"
   ]
  },
  {
   "cell_type": "markdown",
   "id": "1cc0dc83-d89a-4842-9836-cf1a23212b3d",
   "metadata": {},
   "source": [
    "> ADASYN + STANDARD SCALED"
   ]
  },
  {
   "cell_type": "code",
   "execution_count": 231,
   "id": "20b3b316-f93b-47d8-b644-0a1ec2e41945",
   "metadata": {},
   "outputs": [
    {
     "name": "stdout",
     "output_type": "stream",
     "text": [
      "0.7944695038242793\n"
     ]
    }
   ],
   "source": [
    "X_train,X_test,Y_train,Y_test=train_test_split(X_ad,Y_ad,test_size=0.2)\n",
    "xg=XGBClassifier()\n",
    "xg.fit(X_train,Y_train)\n",
    "Y_pred=xg.predict(X_test)\n",
    "print(accuracy_score(Y_pred,Y_test))"
   ]
  },
  {
   "cell_type": "code",
   "execution_count": 232,
   "id": "c19a5b35-3448-4b09-a2f8-72f14c19153d",
   "metadata": {},
   "outputs": [
    {
     "data": {
      "text/plain": [
       "0.7984702882918218"
      ]
     },
     "execution_count": 232,
     "metadata": {},
     "output_type": "execute_result"
    }
   ],
   "source": [
    "np.mean(cross_val_score(xg,X_ad,Y_ad,cv=5,scoring='accuracy'))"
   ]
  },
  {
   "cell_type": "markdown",
   "id": "c251039a-d23d-4314-95f3-06b7ff0b9f49",
   "metadata": {},
   "source": [
    "> TUNING XGBoost WITH ADASYN SCALED DATA"
   ]
  },
  {
   "cell_type": "code",
   "execution_count": 170,
   "id": "7e308809-b1ff-470c-8b2e-be6bdadde08f",
   "metadata": {},
   "outputs": [
    {
     "name": "stdout",
     "output_type": "stream",
     "text": [
      "0.8141176470588235\n"
     ]
    }
   ],
   "source": [
    "X_train,X_test,Y_train,Y_test=train_test_split(X_ad,Y_ad,test_size=0.2)\n",
    "xgf=XGBClassifier(max_depth=20,subsample=1.0,colsample_bytree=0.90,min_child_weight=1,n_estimators=200,objective='multi:softmax',booster='gbtree')\n",
    "xgf.fit(X_train,Y_train)\n",
    "Y_pred=xgf.predict(X_test)\n",
    "print(accuracy_score(Y_pred,Y_test))"
   ]
  },
  {
   "cell_type": "code",
   "execution_count": 160,
   "id": "432a7fde-8e5d-4452-864f-cd046e07b6b4",
   "metadata": {},
   "outputs": [
    {
     "data": {
      "text/plain": [
       "0.8097943723817599"
      ]
     },
     "execution_count": 160,
     "metadata": {},
     "output_type": "execute_result"
    }
   ],
   "source": [
    "np.mean(cross_val_score(xg,X_ad,Y_ad,cv=5,scoring='accuracy'))"
   ]
  },
  {
   "cell_type": "markdown",
   "id": "6a76edde-8d07-48e3-9ff7-d3ddeda15d29",
   "metadata": {},
   "source": [
    "# KNN"
   ]
  },
  {
   "cell_type": "code",
   "execution_count": 171,
   "id": "00f7f68f-3e7a-417e-9b02-95d762f11582",
   "metadata": {},
   "outputs": [],
   "source": [
    "from sklearn.neighbors import KNeighborsClassifier\n",
    "from sklearn.model_selection import GridSearchCV"
   ]
  },
  {
   "cell_type": "markdown",
   "id": "ec6d262c-908e-45a6-a5d3-ff33a3f4231c",
   "metadata": {},
   "source": [
    ">IMBALANCED"
   ]
  },
  {
   "cell_type": "code",
   "execution_count": 212,
   "id": "83db85c2-7bba-4e13-b60e-df5e2833d92d",
   "metadata": {},
   "outputs": [
    {
     "name": "stderr",
     "output_type": "stream",
     "text": [
      "C:\\Users\\DELL\\AppData\\Local\\Programs\\Python\\Python311\\Lib\\site-packages\\sklearn\\neighbors\\_classification.py:233: DataConversionWarning: A column-vector y was passed when a 1d array was expected. Please change the shape of y to (n_samples,), for example using ravel().\n",
      "  return self._fit(X, y)\n"
     ]
    },
    {
     "name": "stdout",
     "output_type": "stream",
     "text": [
      "0.4675112382509195\n"
     ]
    }
   ],
   "source": [
    "X_train,X_test,Y_train,Y_test=train_test_split(X,Y,test_size=0.2,random_state=21)\n",
    "knn=KNeighborsClassifier(n_neighbors=3,weights='distance')\n",
    "knn.fit(X_train,Y_train)\n",
    "print(accuracy_score(Y_test,knn.predict(X_test)))"
   ]
  },
  {
   "cell_type": "markdown",
   "id": "9f460f51-a361-44ad-beac-7bdf40e4c24a",
   "metadata": {},
   "source": [
    ">SMOTE"
   ]
  },
  {
   "cell_type": "code",
   "execution_count": 214,
   "id": "d2647b35-71bc-42b0-8cbc-a2f4b9e13911",
   "metadata": {},
   "outputs": [
    {
     "name": "stderr",
     "output_type": "stream",
     "text": [
      "C:\\Users\\DELL\\AppData\\Local\\Programs\\Python\\Python311\\Lib\\site-packages\\sklearn\\neighbors\\_classification.py:233: DataConversionWarning: A column-vector y was passed when a 1d array was expected. Please change the shape of y to (n_samples,), for example using ravel().\n",
      "  return self._fit(X, y)\n"
     ]
    },
    {
     "name": "stdout",
     "output_type": "stream",
     "text": [
      "0.6847857626462908\n"
     ]
    }
   ],
   "source": [
    "X_train,X_test,Y_train,Y_test=train_test_split(X_re,Y_re,test_size=0.2,random_state=21)\n",
    "knn=KNeighborsClassifier(n_neighbors=3,weights='distance')\n",
    "knn.fit(X_train,Y_train)\n",
    "print(accuracy_score(Y_test,knn.predict(X_test)))"
   ]
  },
  {
   "cell_type": "markdown",
   "id": "cf450a23-3c9e-4df9-a0ca-55cd2349a327",
   "metadata": {},
   "source": [
    ">ADASYN"
   ]
  },
  {
   "cell_type": "code",
   "execution_count": 172,
   "id": "66617c3d-54ac-431b-b884-201340e9f6a1",
   "metadata": {},
   "outputs": [
    {
     "name": "stderr",
     "output_type": "stream",
     "text": [
      "C:\\Users\\DELL\\AppData\\Local\\Programs\\Python\\Python311\\Lib\\site-packages\\sklearn\\neighbors\\_classification.py:233: DataConversionWarning: A column-vector y was passed when a 1d array was expected. Please change the shape of y to (n_samples,), for example using ravel().\n",
      "  return self._fit(X, y)\n"
     ]
    },
    {
     "name": "stdout",
     "output_type": "stream",
     "text": [
      "0.6838235294117647\n"
     ]
    }
   ],
   "source": [
    "X_train,X_test,Y_train,Y_test=train_test_split(X_ad,Y_ad,test_size=0.2,random_state=21)\n",
    "knnf=KNeighborsClassifier(n_neighbors=5,weights='distance')\n",
    "knnf.fit(X_train,Y_train)\n",
    "print(accuracy_score(Y_test,knnf.predict(X_test)))"
   ]
  },
  {
   "cell_type": "code",
   "execution_count": 223,
   "id": "e694702c-798f-4c26-b3f8-7bf0cb73ff12",
   "metadata": {},
   "outputs": [
    {
     "name": "stderr",
     "output_type": "stream",
     "text": [
      "C:\\Users\\DELL\\AppData\\Local\\Programs\\Python\\Python311\\Lib\\site-packages\\sklearn\\neighbors\\_classification.py:233: DataConversionWarning: A column-vector y was passed when a 1d array was expected. Please change the shape of y to (n_samples,), for example using ravel().\n",
      "  return self._fit(X, y)\n",
      "C:\\Users\\DELL\\AppData\\Local\\Programs\\Python\\Python311\\Lib\\site-packages\\sklearn\\neighbors\\_classification.py:233: DataConversionWarning: A column-vector y was passed when a 1d array was expected. Please change the shape of y to (n_samples,), for example using ravel().\n",
      "  return self._fit(X, y)\n",
      "C:\\Users\\DELL\\AppData\\Local\\Programs\\Python\\Python311\\Lib\\site-packages\\sklearn\\neighbors\\_classification.py:233: DataConversionWarning: A column-vector y was passed when a 1d array was expected. Please change the shape of y to (n_samples,), for example using ravel().\n",
      "  return self._fit(X, y)\n",
      "C:\\Users\\DELL\\AppData\\Local\\Programs\\Python\\Python311\\Lib\\site-packages\\sklearn\\neighbors\\_classification.py:233: DataConversionWarning: A column-vector y was passed when a 1d array was expected. Please change the shape of y to (n_samples,), for example using ravel().\n",
      "  return self._fit(X, y)\n",
      "C:\\Users\\DELL\\AppData\\Local\\Programs\\Python\\Python311\\Lib\\site-packages\\sklearn\\neighbors\\_classification.py:233: DataConversionWarning: A column-vector y was passed when a 1d array was expected. Please change the shape of y to (n_samples,), for example using ravel().\n",
      "  return self._fit(X, y)\n"
     ]
    },
    {
     "data": {
      "text/plain": [
       "0.6902137674053737"
      ]
     },
     "execution_count": 223,
     "metadata": {},
     "output_type": "execute_result"
    }
   ],
   "source": [
    "np.mean(cross_val_score(knn,X_ad,Y_ad,cv=5,scoring='accuracy'))"
   ]
  },
  {
   "cell_type": "markdown",
   "id": "83d7d6e9-9617-453f-af46-553593f7fc9c",
   "metadata": {},
   "source": [
    "# VOTING CLASSIFIER"
   ]
  },
  {
   "cell_type": "code",
   "execution_count": 188,
   "id": "ca856c2e-9618-463f-9967-581e85e48948",
   "metadata": {},
   "outputs": [],
   "source": [
    "from sklearn.ensemble import VotingClassifier\n",
    "from sklearn.metrics import f1_score"
   ]
  },
  {
   "cell_type": "code",
   "execution_count": 182,
   "id": "94cc2dcb-df81-4592-9cd1-b1f15c36d60e",
   "metadata": {},
   "outputs": [],
   "source": [
    "l=[('random_forest',rf),('XG',xgf),('Logistic_regg',lrf),('KNN',knnf)]"
   ]
  },
  {
   "cell_type": "code",
   "execution_count": null,
   "id": "192346cb-d2ab-4630-863b-0d9627c31105",
   "metadata": {},
   "outputs": [],
   "source": [
    "#('Logistic_regg',lrf)"
   ]
  },
  {
   "cell_type": "code",
   "execution_count": 183,
   "id": "a493e429-13d2-4942-b44b-5ebe40f5e6e7",
   "metadata": {},
   "outputs": [],
   "source": [
    "X_train,X_test,Y_train,Y_test=train_test_split(X_ad,Y_ad,test_size=0.2,random_state=21)"
   ]
  },
  {
   "cell_type": "code",
   "execution_count": 187,
   "id": "65b1a332-1b2f-4c28-8889-fdd03dec75c9",
   "metadata": {},
   "outputs": [
    {
     "name": "stderr",
     "output_type": "stream",
     "text": [
      "C:\\Users\\DELL\\AppData\\Local\\Programs\\Python\\Python311\\Lib\\site-packages\\sklearn\\preprocessing\\_label.py:97: DataConversionWarning: A column-vector y was passed when a 1d array was expected. Please change the shape of y to (n_samples, ), for example using ravel().\n",
      "  y = column_or_1d(y, warn=True)\n",
      "C:\\Users\\DELL\\AppData\\Local\\Programs\\Python\\Python311\\Lib\\site-packages\\sklearn\\preprocessing\\_label.py:132: DataConversionWarning: A column-vector y was passed when a 1d array was expected. Please change the shape of y to (n_samples, ), for example using ravel().\n",
      "  y = column_or_1d(y, dtype=self.classes_.dtype, warn=True)\n"
     ]
    },
    {
     "name": "stdout",
     "output_type": "stream",
     "text": [
      "0.8158823529411765\n"
     ]
    }
   ],
   "source": [
    "vc=VotingClassifier(estimators=l,voting='soft',n_jobs=-1,weights=[1.5,1.5,0.6,1]) # Hard Voting By Default i.e majority count \n",
    "vc.fit(X_train,Y_train)\n",
    "Y_pred=vc.predict(X_test)\n",
    "print(accuracy_score(Y_test,Y_pred))"
   ]
  },
  {
   "cell_type": "code",
   "execution_count": 190,
   "id": "a030f804-8acf-4553-8ba4-c2cf2dfd77f5",
   "metadata": {},
   "outputs": [
    {
     "name": "stdout",
     "output_type": "stream",
     "text": [
      "0.8173237113605777\n"
     ]
    }
   ],
   "source": [
    "print(f1_score(Y_pred,Y_test,average='weighted'))"
   ]
  }
 ],
 "metadata": {
  "colab": {
   "provenance": []
  },
  "kernelspec": {
   "display_name": "Python 3 (ipykernel)",
   "language": "python",
   "name": "python3"
  },
  "language_info": {
   "codemirror_mode": {
    "name": "ipython",
    "version": 3
   },
   "file_extension": ".py",
   "mimetype": "text/x-python",
   "name": "python",
   "nbconvert_exporter": "python",
   "pygments_lexer": "ipython3",
   "version": "3.11.4"
  }
 },
 "nbformat": 4,
 "nbformat_minor": 5
}
